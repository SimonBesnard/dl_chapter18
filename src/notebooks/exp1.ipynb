{
 "cells": [
  {
   "cell_type": "code",
   "execution_count": 57,
   "metadata": {},
   "outputs": [],
   "source": [
    "import xarray as xr\n",
    "from dask.diagnostics import ProgressBar\n",
    "import numpy as np\n",
    "import pandas as pd\n",
    "import os\n",
    "import sys\n",
    "import matplotlib as mpl\n",
    "import matplotlib.pyplot as plt\n",
    "from matplotlib.ticker import FormatStrFormatter\n",
    "%matplotlib inline\n",
    "import seaborn as sb\n",
    "from itertools import cycle\n",
    "\n",
    "sys.path.append('/workspace/bkraft/dl_chapter14/src')\n",
    "from utils.plotting import plot_map, subplots_robinson, plot_scatter, plot_hist2d, plot_hexbin\n",
    "from utils.metrics import get_metrics, xr_quantile"
   ]
  },
  {
   "cell_type": "code",
   "execution_count": 2,
   "metadata": {},
   "outputs": [],
   "source": [
    "fig_width_pt = 443.57848                # Get this from LaTeX using \\showthe\\columnwidth\n",
    "inches_per_pt = 1.0/72.                # Convert pt to inches\n",
    "golden_mean = (np.sqrt(5)-1.0)/2.0         # Aesthetic ratio\n",
    "fig_width = fig_width_pt*inches_per_pt  # width in inches\n",
    "fig_height =fig_width*golden_mean       # height in inches\n",
    "fig_size = [fig_width,fig_height]\n",
    "\n",
    "pgf_with_latex = {                      # setup matplotlib to use latex for output\n",
    "    \"pgf.texsystem\": \"xelatex\",         # change this if using xetex or lautex\n",
    "    \"text.usetex\": True,                # use LaTeX to write all text\n",
    "    \"font.family\": \"serif\",\n",
    "    \"font.serif\": [],  # blank entries should cause plots to inherit fonts from the document\n",
    "    \"font.sans-serif\": [],\n",
    "    \"font.monospace\": [],\n",
    "    \"axes.labelsize\": 9,                # LaTeX default is 10pt font.\n",
    "    \"axes.titlesize\": 9,\n",
    "    \"font.size\": 7,\n",
    "    \"legend.fontsize\": 9,               # Make the legend/label fonts a little smaller\n",
    "    \"xtick.labelsize\": 7,\n",
    "    \"ytick.labelsize\": 7,\n",
    "    \"figure.figsize\": fig_size,        # default fig size of 0.9 textwidth\n",
    "    \"pgf.preamble\": [\n",
    "        r\"\\usepackage[utf8x]{inputenc}\",    # use utf8 fonts becasue your computer can handle it :)\n",
    "        r\"\\usepackage[T1]{fontenc}\",        # plots will be generated using this preamble\n",
    "        ],\n",
    "    'axes.linewidth': 0.5,\n",
    "    'xtick.major.width': 0.5,\n",
    "    'xtick.minor.width': 0.5,\n",
    "    'ytick.major.width': 0.5,\n",
    "    'ytick.minor.width': 0.5\n",
    "    }\n",
    "mpl.rcParams.update(pgf_with_latex)\n",
    "\n",
    "def new_subplots(nrow, ncol, wh_ratio, width=1, **kwargs):\n",
    "    plt.clf()\n",
    "    fig, ax = plt.subplots(nrow, ncol, figsize=fig_size, **kwargs)\n",
    "    return fig, ax\n",
    "\n",
    "def savefig(filename, **kwargs):\n",
    "    #plt.savefig('{}.pgf'.format(filename), pad_inches = 0, bbox_inches='tight')\n",
    "    plt.savefig('{}.pdf'.format(filename), pad_inches = 0.05, bbox_inches='tight', **kwargs)"
   ]
  },
  {
   "cell_type": "code",
   "execution_count": 48,
   "metadata": {},
   "outputs": [
    {
     "data": {
      "text/plain": [
       "[6.160812222222222, 3.8075913516391036]"
      ]
     },
     "execution_count": 48,
     "metadata": {},
     "output_type": "execute_result"
    }
   ],
   "source": [
    "fig_size"
   ]
  },
  {
   "cell_type": "code",
   "execution_count": 4,
   "metadata": {},
   "outputs": [],
   "source": [
    "data = xr.open_zarr('/scratch/dl_chapter14/data/data.zarr/')"
   ]
  },
  {
   "cell_type": "code",
   "execution_count": 4,
   "metadata": {},
   "outputs": [
    {
     "data": {
      "text/html": [
       "<div><svg style=\"position: absolute; width: 0; height: 0; overflow: hidden\">\n",
       "<defs>\n",
       "<symbol id=\"icon-database\" viewBox=\"0 0 32 32\">\n",
       "<title>Show/Hide data repr</title>\n",
       "<path d=\"M16 0c-8.837 0-16 2.239-16 5v4c0 2.761 7.163 5 16 5s16-2.239 16-5v-4c0-2.761-7.163-5-16-5z\"></path>\n",
       "<path d=\"M16 17c-8.837 0-16-2.239-16-5v6c0 2.761 7.163 5 16 5s16-2.239 16-5v-6c0 2.761-7.163 5-16 5z\"></path>\n",
       "<path d=\"M16 26c-8.837 0-16-2.239-16-5v6c0 2.761 7.163 5 16 5s16-2.239 16-5v-6c0 2.761-7.163 5-16 5z\"></path>\n",
       "</symbol>\n",
       "<symbol id=\"icon-file-text2\" viewBox=\"0 0 32 32\">\n",
       "<title>Show/Hide attributes</title>\n",
       "<path d=\"M28.681 7.159c-0.694-0.947-1.662-2.053-2.724-3.116s-2.169-2.030-3.116-2.724c-1.612-1.182-2.393-1.319-2.841-1.319h-15.5c-1.378 0-2.5 1.121-2.5 2.5v27c0 1.378 1.122 2.5 2.5 2.5h23c1.378 0 2.5-1.122 2.5-2.5v-19.5c0-0.448-0.137-1.23-1.319-2.841zM24.543 5.457c0.959 0.959 1.712 1.825 2.268 2.543h-4.811v-4.811c0.718 0.556 1.584 1.309 2.543 2.268zM28 29.5c0 0.271-0.229 0.5-0.5 0.5h-23c-0.271 0-0.5-0.229-0.5-0.5v-27c0-0.271 0.229-0.5 0.5-0.5 0 0 15.499-0 15.5 0v7c0 0.552 0.448 1 1 1h7v19.5z\"></path>\n",
       "<path d=\"M23 26h-14c-0.552 0-1-0.448-1-1s0.448-1 1-1h14c0.552 0 1 0.448 1 1s-0.448 1-1 1z\"></path>\n",
       "<path d=\"M23 22h-14c-0.552 0-1-0.448-1-1s0.448-1 1-1h14c0.552 0 1 0.448 1 1s-0.448 1-1 1z\"></path>\n",
       "<path d=\"M23 18h-14c-0.552 0-1-0.448-1-1s0.448-1 1-1h14c0.552 0 1 0.448 1 1s-0.448 1-1 1z\"></path>\n",
       "</symbol>\n",
       "</defs>\n",
       "</svg>\n",
       "<style>/* CSS stylesheet for displaying xarray objects in jupyterlab.\n",
       " *\n",
       " */\n",
       "\n",
       ":root {\n",
       "  --xr-font-color0: var(--jp-content-font-color0, rgba(0, 0, 0, 1));\n",
       "  --xr-font-color2: var(--jp-content-font-color2, rgba(0, 0, 0, 0.54));\n",
       "  --xr-font-color3: var(--jp-content-font-color3, rgba(0, 0, 0, 0.38));\n",
       "  --xr-border-color: var(--jp-border-color2, #e0e0e0);\n",
       "  --xr-disabled-color: var(--jp-layout-color3, #bdbdbd);\n",
       "  --xr-background-color: var(--jp-layout-color0, white);\n",
       "  --xr-background-color-row-even: var(--jp-layout-color1, white);\n",
       "  --xr-background-color-row-odd: var(--jp-layout-color2, #eeeeee);\n",
       "}\n",
       "\n",
       ".xr-wrap {\n",
       "  min-width: 300px;\n",
       "  max-width: 700px;\n",
       "}\n",
       "\n",
       ".xr-header {\n",
       "  padding-top: 6px;\n",
       "  padding-bottom: 6px;\n",
       "  margin-bottom: 4px;\n",
       "  border-bottom: solid 1px var(--xr-border-color);\n",
       "}\n",
       "\n",
       ".xr-header > div,\n",
       ".xr-header > ul {\n",
       "  display: inline;\n",
       "  margin-top: 0;\n",
       "  margin-bottom: 0;\n",
       "}\n",
       "\n",
       ".xr-obj-type,\n",
       ".xr-array-name {\n",
       "  margin-left: 2px;\n",
       "  margin-right: 10px;\n",
       "}\n",
       "\n",
       ".xr-obj-type {\n",
       "  color: var(--xr-font-color2);\n",
       "}\n",
       "\n",
       ".xr-sections {\n",
       "  padding-left: 0 !important;\n",
       "  display: grid;\n",
       "  grid-template-columns: 150px auto auto 1fr 20px 20px;\n",
       "}\n",
       "\n",
       ".xr-section-item {\n",
       "  display: contents;\n",
       "}\n",
       "\n",
       ".xr-section-item input {\n",
       "  display: none;\n",
       "}\n",
       "\n",
       ".xr-section-item input + label {\n",
       "  color: var(--xr-disabled-color);\n",
       "}\n",
       "\n",
       ".xr-section-item input:enabled + label {\n",
       "  cursor: pointer;\n",
       "  color: var(--xr-font-color2);\n",
       "}\n",
       "\n",
       ".xr-section-item input:enabled + label:hover {\n",
       "  color: var(--xr-font-color0);\n",
       "}\n",
       "\n",
       ".xr-section-summary {\n",
       "  grid-column: 1;\n",
       "  color: var(--xr-font-color2);\n",
       "  font-weight: 500;\n",
       "}\n",
       "\n",
       ".xr-section-summary > span {\n",
       "  display: inline-block;\n",
       "  padding-left: 0.5em;\n",
       "}\n",
       "\n",
       ".xr-section-summary-in:disabled + label {\n",
       "  color: var(--xr-font-color2);\n",
       "}\n",
       "\n",
       ".xr-section-summary-in + label:before {\n",
       "  display: inline-block;\n",
       "  content: '►';\n",
       "  font-size: 11px;\n",
       "  width: 15px;\n",
       "  text-align: center;\n",
       "}\n",
       "\n",
       ".xr-section-summary-in:disabled + label:before {\n",
       "  color: var(--xr-disabled-color);\n",
       "}\n",
       "\n",
       ".xr-section-summary-in:checked + label:before {\n",
       "  content: '▼';\n",
       "}\n",
       "\n",
       ".xr-section-summary-in:checked + label > span {\n",
       "  display: none;\n",
       "}\n",
       "\n",
       ".xr-section-summary,\n",
       ".xr-section-inline-details {\n",
       "  padding-top: 4px;\n",
       "  padding-bottom: 4px;\n",
       "}\n",
       "\n",
       ".xr-section-inline-details {\n",
       "  grid-column: 2 / -1;\n",
       "}\n",
       "\n",
       ".xr-section-details {\n",
       "  display: none;\n",
       "  grid-column: 1 / -1;\n",
       "  margin-bottom: 5px;\n",
       "}\n",
       "\n",
       ".xr-section-summary-in:checked ~ .xr-section-details {\n",
       "  display: contents;\n",
       "}\n",
       "\n",
       ".xr-array-wrap {\n",
       "  grid-column: 1 / -1;\n",
       "  display: grid;\n",
       "  grid-template-columns: 20px auto;\n",
       "}\n",
       "\n",
       ".xr-array-wrap > label {\n",
       "  grid-column: 1;\n",
       "  vertical-align: top;\n",
       "}\n",
       "\n",
       ".xr-preview {\n",
       "  color: var(--xr-font-color3);\n",
       "}\n",
       "\n",
       ".xr-array-preview,\n",
       ".xr-array-data {\n",
       "  padding: 0 5px !important;\n",
       "  grid-column: 2;\n",
       "}\n",
       "\n",
       ".xr-array-data,\n",
       ".xr-array-in:checked ~ .xr-array-preview {\n",
       "  display: none;\n",
       "}\n",
       "\n",
       ".xr-array-in:checked ~ .xr-array-data,\n",
       ".xr-array-preview {\n",
       "  display: inline-block;\n",
       "}\n",
       "\n",
       ".xr-dim-list {\n",
       "  display: inline-block !important;\n",
       "  list-style: none;\n",
       "  padding: 0 !important;\n",
       "  margin: 0;\n",
       "}\n",
       "\n",
       ".xr-dim-list li {\n",
       "  display: inline-block;\n",
       "  padding: 0;\n",
       "  margin: 0;\n",
       "}\n",
       "\n",
       ".xr-dim-list:before {\n",
       "  content: '(';\n",
       "}\n",
       "\n",
       ".xr-dim-list:after {\n",
       "  content: ')';\n",
       "}\n",
       "\n",
       ".xr-dim-list li:not(:last-child):after {\n",
       "  content: ',';\n",
       "  padding-right: 5px;\n",
       "}\n",
       "\n",
       ".xr-has-index {\n",
       "  font-weight: bold;\n",
       "}\n",
       "\n",
       ".xr-var-list,\n",
       ".xr-var-item {\n",
       "  display: contents;\n",
       "}\n",
       "\n",
       ".xr-var-item > div,\n",
       ".xr-var-item label,\n",
       ".xr-var-item > .xr-var-name span {\n",
       "  background-color: var(--xr-background-color-row-even);\n",
       "  margin-bottom: 0;\n",
       "}\n",
       "\n",
       ".xr-var-item > .xr-var-name:hover span {\n",
       "  padding-right: 5px;\n",
       "}\n",
       "\n",
       ".xr-var-list > li:nth-child(odd) > div,\n",
       ".xr-var-list > li:nth-child(odd) > label,\n",
       ".xr-var-list > li:nth-child(odd) > .xr-var-name span {\n",
       "  background-color: var(--xr-background-color-row-odd);\n",
       "}\n",
       "\n",
       ".xr-var-name {\n",
       "  grid-column: 1;\n",
       "}\n",
       "\n",
       ".xr-var-dims {\n",
       "  grid-column: 2;\n",
       "}\n",
       "\n",
       ".xr-var-dtype {\n",
       "  grid-column: 3;\n",
       "  text-align: right;\n",
       "  color: var(--xr-font-color2);\n",
       "}\n",
       "\n",
       ".xr-var-preview {\n",
       "  grid-column: 4;\n",
       "}\n",
       "\n",
       ".xr-var-name,\n",
       ".xr-var-dims,\n",
       ".xr-var-dtype,\n",
       ".xr-preview,\n",
       ".xr-attrs dt {\n",
       "  white-space: nowrap;\n",
       "  overflow: hidden;\n",
       "  text-overflow: ellipsis;\n",
       "  padding-right: 10px;\n",
       "}\n",
       "\n",
       ".xr-var-name:hover,\n",
       ".xr-var-dims:hover,\n",
       ".xr-var-dtype:hover,\n",
       ".xr-attrs dt:hover {\n",
       "  overflow: visible;\n",
       "  width: auto;\n",
       "  z-index: 1;\n",
       "}\n",
       "\n",
       ".xr-var-attrs,\n",
       ".xr-var-data {\n",
       "  display: none;\n",
       "  background-color: var(--xr-background-color) !important;\n",
       "  padding-bottom: 5px !important;\n",
       "}\n",
       "\n",
       ".xr-var-attrs-in:checked ~ .xr-var-attrs,\n",
       ".xr-var-data-in:checked ~ .xr-var-data {\n",
       "  display: block;\n",
       "}\n",
       "\n",
       ".xr-var-data > table {\n",
       "  float: right;\n",
       "}\n",
       "\n",
       ".xr-var-name span,\n",
       ".xr-var-data,\n",
       ".xr-attrs {\n",
       "  padding-left: 25px !important;\n",
       "}\n",
       "\n",
       ".xr-attrs,\n",
       ".xr-var-attrs,\n",
       ".xr-var-data {\n",
       "  grid-column: 1 / -1;\n",
       "}\n",
       "\n",
       "dl.xr-attrs {\n",
       "  padding: 0;\n",
       "  margin: 0;\n",
       "  display: grid;\n",
       "  grid-template-columns: 125px auto;\n",
       "}\n",
       "\n",
       ".xr-attrs dt, dd {\n",
       "  padding: 0;\n",
       "  margin: 0;\n",
       "  float: left;\n",
       "  padding-right: 10px;\n",
       "  width: auto;\n",
       "}\n",
       "\n",
       ".xr-attrs dt {\n",
       "  font-weight: normal;\n",
       "  grid-column: 1;\n",
       "}\n",
       "\n",
       ".xr-attrs dt:hover span {\n",
       "  display: inline-block;\n",
       "  background: var(--xr-background-color);\n",
       "  padding-right: 10px;\n",
       "}\n",
       "\n",
       ".xr-attrs dd {\n",
       "  grid-column: 2;\n",
       "  white-space: pre-wrap;\n",
       "  word-break: break-all;\n",
       "}\n",
       "\n",
       ".xr-icon-database,\n",
       ".xr-icon-file-text2 {\n",
       "  display: inline-block;\n",
       "  vertical-align: middle;\n",
       "  width: 1em;\n",
       "  height: 1.5em !important;\n",
       "  stroke-width: 0;\n",
       "  stroke: currentColor;\n",
       "  fill: currentColor;\n",
       "}\n",
       "</style><div class='xr-wrap'><div class='xr-header'><div class='xr-obj-type'>xarray.DataArray</div><div class='xr-array-name'>'pft'</div><ul class='xr-dim-list'><li><span class='xr-has-index'>lat</span>: 360</li><li><span class='xr-has-index'>lon</span>: 720</li></ul></div><ul class='xr-sections'><li class='xr-section-item'><div class='xr-array-wrap'><input id='section-be400f74-faaf-4a6e-b0f4-6b2b560c17fe' class='xr-array-in' type='checkbox' ><label for='section-be400f74-faaf-4a6e-b0f4-6b2b560c17fe' title='Show/hide data repr'><svg class='icon xr-icon-database'><use xlink:href='#icon-database'></use></svg></label><div class='xr-array-preview xr-preview'><span>dask.array&lt;chunksize=(10, 10), meta=np.ndarray&gt;</span></div><pre class='xr-array-data'><table>\n",
       "<tr>\n",
       "<td>\n",
       "<table>\n",
       "  <thead>\n",
       "    <tr><td> </td><th> Array </th><th> Chunk </th></tr>\n",
       "  </thead>\n",
       "  <tbody>\n",
       "    <tr><th> Bytes </th><td> 1.04 MB </td> <td> 400 B </td></tr>\n",
       "    <tr><th> Shape </th><td> (360, 720) </td> <td> (10, 10) </td></tr>\n",
       "    <tr><th> Count </th><td> 2593 Tasks </td><td> 2592 Chunks </td></tr>\n",
       "    <tr><th> Type </th><td> float32 </td><td> numpy.ndarray </td></tr>\n",
       "  </tbody>\n",
       "</table>\n",
       "</td>\n",
       "<td>\n",
       "<svg width=\"170\" height=\"110\" style=\"stroke:rgb(0,0,0);stroke-width:1\" >\n",
       "\n",
       "  <!-- Horizontal lines -->\n",
       "  <line x1=\"0\" y1=\"0\" x2=\"120\" y2=\"0\" style=\"stroke-width:2\" />\n",
       "  <line x1=\"0\" y1=\"1\" x2=\"120\" y2=\"1\" />\n",
       "  <line x1=\"0\" y1=\"3\" x2=\"120\" y2=\"3\" />\n",
       "  <line x1=\"0\" y1=\"5\" x2=\"120\" y2=\"5\" />\n",
       "  <line x1=\"0\" y1=\"6\" x2=\"120\" y2=\"6\" />\n",
       "  <line x1=\"0\" y1=\"8\" x2=\"120\" y2=\"8\" />\n",
       "  <line x1=\"0\" y1=\"10\" x2=\"120\" y2=\"10\" />\n",
       "  <line x1=\"0\" y1=\"11\" x2=\"120\" y2=\"11\" />\n",
       "  <line x1=\"0\" y1=\"13\" x2=\"120\" y2=\"13\" />\n",
       "  <line x1=\"0\" y1=\"15\" x2=\"120\" y2=\"15\" />\n",
       "  <line x1=\"0\" y1=\"16\" x2=\"120\" y2=\"16\" />\n",
       "  <line x1=\"0\" y1=\"18\" x2=\"120\" y2=\"18\" />\n",
       "  <line x1=\"0\" y1=\"20\" x2=\"120\" y2=\"20\" />\n",
       "  <line x1=\"0\" y1=\"21\" x2=\"120\" y2=\"21\" />\n",
       "  <line x1=\"0\" y1=\"23\" x2=\"120\" y2=\"23\" />\n",
       "  <line x1=\"0\" y1=\"25\" x2=\"120\" y2=\"25\" />\n",
       "  <line x1=\"0\" y1=\"26\" x2=\"120\" y2=\"26\" />\n",
       "  <line x1=\"0\" y1=\"28\" x2=\"120\" y2=\"28\" />\n",
       "  <line x1=\"0\" y1=\"30\" x2=\"120\" y2=\"30\" />\n",
       "  <line x1=\"0\" y1=\"31\" x2=\"120\" y2=\"31\" />\n",
       "  <line x1=\"0\" y1=\"33\" x2=\"120\" y2=\"33\" />\n",
       "  <line x1=\"0\" y1=\"35\" x2=\"120\" y2=\"35\" />\n",
       "  <line x1=\"0\" y1=\"36\" x2=\"120\" y2=\"36\" />\n",
       "  <line x1=\"0\" y1=\"38\" x2=\"120\" y2=\"38\" />\n",
       "  <line x1=\"0\" y1=\"40\" x2=\"120\" y2=\"40\" />\n",
       "  <line x1=\"0\" y1=\"41\" x2=\"120\" y2=\"41\" />\n",
       "  <line x1=\"0\" y1=\"43\" x2=\"120\" y2=\"43\" />\n",
       "  <line x1=\"0\" y1=\"45\" x2=\"120\" y2=\"45\" />\n",
       "  <line x1=\"0\" y1=\"46\" x2=\"120\" y2=\"46\" />\n",
       "  <line x1=\"0\" y1=\"48\" x2=\"120\" y2=\"48\" />\n",
       "  <line x1=\"0\" y1=\"50\" x2=\"120\" y2=\"50\" />\n",
       "  <line x1=\"0\" y1=\"51\" x2=\"120\" y2=\"51\" />\n",
       "  <line x1=\"0\" y1=\"53\" x2=\"120\" y2=\"53\" />\n",
       "  <line x1=\"0\" y1=\"55\" x2=\"120\" y2=\"55\" />\n",
       "  <line x1=\"0\" y1=\"56\" x2=\"120\" y2=\"56\" />\n",
       "  <line x1=\"0\" y1=\"58\" x2=\"120\" y2=\"58\" />\n",
       "  <line x1=\"0\" y1=\"60\" x2=\"120\" y2=\"60\" style=\"stroke-width:2\" />\n",
       "\n",
       "  <!-- Vertical lines -->\n",
       "  <line x1=\"0\" y1=\"0\" x2=\"0\" y2=\"60\" style=\"stroke-width:2\" />\n",
       "  <line x1=\"1\" y1=\"0\" x2=\"1\" y2=\"60\" />\n",
       "  <line x1=\"3\" y1=\"0\" x2=\"3\" y2=\"60\" />\n",
       "  <line x1=\"5\" y1=\"0\" x2=\"5\" y2=\"60\" />\n",
       "  <line x1=\"6\" y1=\"0\" x2=\"6\" y2=\"60\" />\n",
       "  <line x1=\"8\" y1=\"0\" x2=\"8\" y2=\"60\" />\n",
       "  <line x1=\"10\" y1=\"0\" x2=\"10\" y2=\"60\" />\n",
       "  <line x1=\"11\" y1=\"0\" x2=\"11\" y2=\"60\" />\n",
       "  <line x1=\"13\" y1=\"0\" x2=\"13\" y2=\"60\" />\n",
       "  <line x1=\"15\" y1=\"0\" x2=\"15\" y2=\"60\" />\n",
       "  <line x1=\"16\" y1=\"0\" x2=\"16\" y2=\"60\" />\n",
       "  <line x1=\"18\" y1=\"0\" x2=\"18\" y2=\"60\" />\n",
       "  <line x1=\"20\" y1=\"0\" x2=\"20\" y2=\"60\" />\n",
       "  <line x1=\"21\" y1=\"0\" x2=\"21\" y2=\"60\" />\n",
       "  <line x1=\"23\" y1=\"0\" x2=\"23\" y2=\"60\" />\n",
       "  <line x1=\"25\" y1=\"0\" x2=\"25\" y2=\"60\" />\n",
       "  <line x1=\"26\" y1=\"0\" x2=\"26\" y2=\"60\" />\n",
       "  <line x1=\"28\" y1=\"0\" x2=\"28\" y2=\"60\" />\n",
       "  <line x1=\"30\" y1=\"0\" x2=\"30\" y2=\"60\" />\n",
       "  <line x1=\"31\" y1=\"0\" x2=\"31\" y2=\"60\" />\n",
       "  <line x1=\"33\" y1=\"0\" x2=\"33\" y2=\"60\" />\n",
       "  <line x1=\"35\" y1=\"0\" x2=\"35\" y2=\"60\" />\n",
       "  <line x1=\"36\" y1=\"0\" x2=\"36\" y2=\"60\" />\n",
       "  <line x1=\"38\" y1=\"0\" x2=\"38\" y2=\"60\" />\n",
       "  <line x1=\"40\" y1=\"0\" x2=\"40\" y2=\"60\" />\n",
       "  <line x1=\"41\" y1=\"0\" x2=\"41\" y2=\"60\" />\n",
       "  <line x1=\"43\" y1=\"0\" x2=\"43\" y2=\"60\" />\n",
       "  <line x1=\"45\" y1=\"0\" x2=\"45\" y2=\"60\" />\n",
       "  <line x1=\"46\" y1=\"0\" x2=\"46\" y2=\"60\" />\n",
       "  <line x1=\"48\" y1=\"0\" x2=\"48\" y2=\"60\" />\n",
       "  <line x1=\"50\" y1=\"0\" x2=\"50\" y2=\"60\" />\n",
       "  <line x1=\"51\" y1=\"0\" x2=\"51\" y2=\"60\" />\n",
       "  <line x1=\"53\" y1=\"0\" x2=\"53\" y2=\"60\" />\n",
       "  <line x1=\"55\" y1=\"0\" x2=\"55\" y2=\"60\" />\n",
       "  <line x1=\"56\" y1=\"0\" x2=\"56\" y2=\"60\" />\n",
       "  <line x1=\"58\" y1=\"0\" x2=\"58\" y2=\"60\" />\n",
       "  <line x1=\"60\" y1=\"0\" x2=\"60\" y2=\"60\" />\n",
       "  <line x1=\"61\" y1=\"0\" x2=\"61\" y2=\"60\" />\n",
       "  <line x1=\"63\" y1=\"0\" x2=\"63\" y2=\"60\" />\n",
       "  <line x1=\"65\" y1=\"0\" x2=\"65\" y2=\"60\" />\n",
       "  <line x1=\"66\" y1=\"0\" x2=\"66\" y2=\"60\" />\n",
       "  <line x1=\"68\" y1=\"0\" x2=\"68\" y2=\"60\" />\n",
       "  <line x1=\"70\" y1=\"0\" x2=\"70\" y2=\"60\" />\n",
       "  <line x1=\"71\" y1=\"0\" x2=\"71\" y2=\"60\" />\n",
       "  <line x1=\"73\" y1=\"0\" x2=\"73\" y2=\"60\" />\n",
       "  <line x1=\"75\" y1=\"0\" x2=\"75\" y2=\"60\" />\n",
       "  <line x1=\"76\" y1=\"0\" x2=\"76\" y2=\"60\" />\n",
       "  <line x1=\"78\" y1=\"0\" x2=\"78\" y2=\"60\" />\n",
       "  <line x1=\"80\" y1=\"0\" x2=\"80\" y2=\"60\" />\n",
       "  <line x1=\"81\" y1=\"0\" x2=\"81\" y2=\"60\" />\n",
       "  <line x1=\"83\" y1=\"0\" x2=\"83\" y2=\"60\" />\n",
       "  <line x1=\"85\" y1=\"0\" x2=\"85\" y2=\"60\" />\n",
       "  <line x1=\"86\" y1=\"0\" x2=\"86\" y2=\"60\" />\n",
       "  <line x1=\"88\" y1=\"0\" x2=\"88\" y2=\"60\" />\n",
       "  <line x1=\"90\" y1=\"0\" x2=\"90\" y2=\"60\" />\n",
       "  <line x1=\"91\" y1=\"0\" x2=\"91\" y2=\"60\" />\n",
       "  <line x1=\"93\" y1=\"0\" x2=\"93\" y2=\"60\" />\n",
       "  <line x1=\"95\" y1=\"0\" x2=\"95\" y2=\"60\" />\n",
       "  <line x1=\"96\" y1=\"0\" x2=\"96\" y2=\"60\" />\n",
       "  <line x1=\"98\" y1=\"0\" x2=\"98\" y2=\"60\" />\n",
       "  <line x1=\"100\" y1=\"0\" x2=\"100\" y2=\"60\" />\n",
       "  <line x1=\"101\" y1=\"0\" x2=\"101\" y2=\"60\" />\n",
       "  <line x1=\"103\" y1=\"0\" x2=\"103\" y2=\"60\" />\n",
       "  <line x1=\"105\" y1=\"0\" x2=\"105\" y2=\"60\" />\n",
       "  <line x1=\"106\" y1=\"0\" x2=\"106\" y2=\"60\" />\n",
       "  <line x1=\"108\" y1=\"0\" x2=\"108\" y2=\"60\" />\n",
       "  <line x1=\"110\" y1=\"0\" x2=\"110\" y2=\"60\" />\n",
       "  <line x1=\"111\" y1=\"0\" x2=\"111\" y2=\"60\" />\n",
       "  <line x1=\"113\" y1=\"0\" x2=\"113\" y2=\"60\" />\n",
       "  <line x1=\"115\" y1=\"0\" x2=\"115\" y2=\"60\" />\n",
       "  <line x1=\"116\" y1=\"0\" x2=\"116\" y2=\"60\" />\n",
       "  <line x1=\"118\" y1=\"0\" x2=\"118\" y2=\"60\" />\n",
       "  <line x1=\"120\" y1=\"0\" x2=\"120\" y2=\"60\" style=\"stroke-width:2\" />\n",
       "\n",
       "  <!-- Colored Rectangle -->\n",
       "  <polygon points=\"0.000000,0.000000 120.000000,0.000000 120.000000,60.000000 0.000000,60.000000\" style=\"fill:#ECB172A0;stroke-width:0\"/>\n",
       "\n",
       "  <!-- Text -->\n",
       "  <text x=\"60.000000\" y=\"80.000000\" font-size=\"1.0rem\" font-weight=\"100\" text-anchor=\"middle\" >720</text>\n",
       "  <text x=\"140.000000\" y=\"30.000000\" font-size=\"1.0rem\" font-weight=\"100\" text-anchor=\"middle\" transform=\"rotate(-90,140.000000,30.000000)\">360</text>\n",
       "</svg>\n",
       "</td>\n",
       "</tr>\n",
       "</table></pre></div></li><li class='xr-section-item'><input id='section-4927d974-6ead-42e4-b897-3156e76d8ffc' class='xr-section-summary-in' type='checkbox'  checked><label for='section-4927d974-6ead-42e4-b897-3156e76d8ffc' class='xr-section-summary' >Coordinates: <span>(2)</span></label><div class='xr-section-inline-details'></div><div class='xr-section-details'><ul class='xr-var-list'><li class='xr-var-item'><div class='xr-var-name'><span class='xr-has-index'>lat</span></div><div class='xr-var-dims'>(lat)</div><div class='xr-var-dtype'>float64</div><div class='xr-var-preview xr-preview'>89.75 89.25 88.75 ... -89.25 -89.75</div><input id='attrs-b137af84-a3d8-4804-9647-893fe46d309d' class='xr-var-attrs-in' type='checkbox' ><label for='attrs-b137af84-a3d8-4804-9647-893fe46d309d' title='Show/Hide attributes'><svg class='icon xr-icon-file-text2'><use xlink:href='#icon-file-text2'></use></svg></label><input id='data-09423e4b-3051-41ab-9f90-a526b6fc04d2' class='xr-var-data-in' type='checkbox'><label for='data-09423e4b-3051-41ab-9f90-a526b6fc04d2' title='Show/Hide data repr'><svg class='icon xr-icon-database'><use xlink:href='#icon-database'></use></svg></label><div class='xr-var-attrs'><dl class='xr-attrs'><dt><span>long_name :</span></dt><dd>latitude</dd><dt><span>units :</span></dt><dd>degree</dd></dl></div><pre class='xr-var-data'>array([ 89.75,  89.25,  88.75, ..., -88.75, -89.25, -89.75])</pre></li><li class='xr-var-item'><div class='xr-var-name'><span class='xr-has-index'>lon</span></div><div class='xr-var-dims'>(lon)</div><div class='xr-var-dtype'>float64</div><div class='xr-var-preview xr-preview'>-179.8 -179.2 ... 179.2 179.8</div><input id='attrs-48aa5405-0d10-42d3-b4f0-aa737b33f773' class='xr-var-attrs-in' type='checkbox' ><label for='attrs-48aa5405-0d10-42d3-b4f0-aa737b33f773' title='Show/Hide attributes'><svg class='icon xr-icon-file-text2'><use xlink:href='#icon-file-text2'></use></svg></label><input id='data-c6e6cbf9-3d8d-490b-8495-9732b6cd4bcf' class='xr-var-data-in' type='checkbox'><label for='data-c6e6cbf9-3d8d-490b-8495-9732b6cd4bcf' title='Show/Hide data repr'><svg class='icon xr-icon-database'><use xlink:href='#icon-database'></use></svg></label><div class='xr-var-attrs'><dl class='xr-attrs'><dt><span>long_name :</span></dt><dd>longitude</dd><dt><span>units :</span></dt><dd>degree</dd></dl></div><pre class='xr-var-data'>array([-179.75, -179.25, -178.75, ...,  178.75,  179.25,  179.75])</pre></li></ul></div></li><li class='xr-section-item'><input id='section-e53bbe98-1824-4a35-a16b-8f1a368336a9' class='xr-section-summary-in' type='checkbox'  checked><label for='section-e53bbe98-1824-4a35-a16b-8f1a368336a9' class='xr-section-summary' >Attributes: <span>(4)</span></label><div class='xr-section-inline-details'></div><div class='xr-section-details'><dl class='xr-attrs'><dt><span>long_name :</span></dt><dd>plant functional type</dd><dt><span>mean :</span></dt><dd>7.5705084800720215</dd><dt><span>std :</span></dt><dd>2.644714117050171</dd><dt><span>units :</span></dt><dd>-</dd></dl></div></li></ul></div></div>"
      ],
      "text/plain": [
       "<xarray.DataArray 'pft' (lat: 360, lon: 720)>\n",
       "dask.array<zarr, shape=(360, 720), dtype=float32, chunksize=(10, 10), chunktype=numpy.ndarray>\n",
       "Coordinates:\n",
       "  * lat      (lat) float64 89.75 89.25 88.75 88.25 ... -88.75 -89.25 -89.75\n",
       "  * lon      (lon) float64 -179.8 -179.2 -178.8 -178.2 ... 178.8 179.2 179.8\n",
       "Attributes:\n",
       "    long_name:  plant functional type\n",
       "    mean:       7.5705084800720215\n",
       "    std:        2.644714117050171\n",
       "    units:      -"
      ]
     },
     "execution_count": 4,
     "metadata": {},
     "output_type": "execute_result"
    }
   ],
   "source": [
    "data.pft"
   ]
  },
  {
   "cell_type": "code",
   "execution_count": 5,
   "metadata": {},
   "outputs": [],
   "source": [
    "def subset_region(ds, region):\n",
    "    return ds.where(ds.pft==region, np.nan)"
   ]
  },
  {
   "cell_type": "code",
   "execution_count": 6,
   "metadata": {},
   "outputs": [
    {
     "name": "stderr",
     "output_type": "stream",
     "text": [
      "<string>:6: RuntimeWarning: Converting input from bool to <class 'numpy.uint8'> for compatibility.\n"
     ]
    },
    {
     "data": {
      "text/plain": [
       "<matplotlib.collections.QuadMesh at 0x7f28afb76630>"
      ]
     },
     "execution_count": 6,
     "metadata": {},
     "output_type": "execute_result"
    },
    {
     "data": {
      "image/png": "[encoded data removed]",
      "text/plain": [
       "<Figure size 1008x504 with 2 Axes>"
      ]
     },
     "metadata": {
      "needs_background": "light"
     },
     "output_type": "display_data"
    }
   ],
   "source": [
    "plot_map(data.pft==2)"
   ]
  },
  {
   "cell_type": "code",
   "execution_count": 63,
   "metadata": {},
   "outputs": [
    {
     "data": {
      "text/plain": [
       "<matplotlib.collections.QuadMesh at 0x7f621c3e2518>"
      ]
     },
     "execution_count": 63,
     "metadata": {},
     "output_type": "execute_result"
    },
    {
     "data": {
      "image/png": "[encoded data removed]",
      "text/plain": [
       "<Figure size 1008x504 with 2 Axes>"
      ]
     },
     "metadata": {
      "needs_background": "light"
     },
     "output_type": "display_data"
    }
   ],
   "source": [
    "plot_map(data.soil_properties)"
   ]
  },
  {
   "cell_type": "markdown",
   "metadata": {},
   "source": [
    "### Data"
   ]
  },
  {
   "cell_type": "code",
   "execution_count": 11,
   "metadata": {},
   "outputs": [],
   "source": [
    "dss_nn = xr.open_zarr('/scratch/dl_chapter14/experiments/et/n_sm.n_perm/inference/pred_so.zarr/') *  86400 # 1 kg/m2/s = 86400 mm/day\n",
    "dss_wn = xr.open_zarr('/scratch/dl_chapter14/experiments/et/w_sm.n_perm/inference/pred_so.zarr/') *  86400 # 1 kg/m2/s = 86400 mm/day\n",
    "dss_nw = xr.open_zarr('/scratch/dl_chapter14/experiments/et/n_sm.w_perm/inference/pred_so.zarr/') *  86400 # 1 kg/m2/s = 86400 mm/day\n",
    "dss_ww = xr.open_zarr('/scratch/dl_chapter14/experiments/et/w_sm.w_perm/inference/pred_so.zarr/') *  86400 # 1 kg/m2/s = 86400 mm/day\n",
    "\n",
    "dst_nn = xr.open_zarr('/scratch/dl_chapter14/experiments/et/n_sm.n_perm/inference/pred_to.zarr/') *  86400 # 1 kg/m2/s = 86400 mm/day\n",
    "dst_wn = xr.open_zarr('/scratch/dl_chapter14/experiments/et/w_sm.n_perm/inference/pred_to.zarr/') *  86400 # 1 kg/m2/s = 86400 mm/day\n",
    "dst_nw = xr.open_zarr('/scratch/dl_chapter14/experiments/et/n_sm.w_perm/inference/pred_to.zarr/') *  86400 # 1 kg/m2/s = 86400 mm/day\n",
    "dst_ww = xr.open_zarr('/scratch/dl_chapter14/experiments/et/w_sm.w_perm/inference/pred_to.zarr/') *  86400 # 1 kg/m2/s = 86400 mm/day\n",
    "\n",
    "dst_nn_tr = xr.open_zarr('/scratch/dl_chapter14/experiments/et/n_sm.n_perm/inference/pred_to_trainset.zarr/') *  86400 # 1 kg/m2/s = 86400 mm/day\n",
    "dst_wn_tr = xr.open_zarr('/scratch/dl_chapter14/experiments/et/w_sm.n_perm/inference/pred_to_trainset.zarr/') *  86400 # 1 kg/m2/s = 86400 mm/day\n",
    "dst_nw_tr = xr.open_zarr('/scratch/dl_chapter14/experiments/et/n_sm.w_perm/inference/pred_to_trainset.zarr/') *  86400 # 1 kg/m2/s = 86400 mm/day\n",
    "dst_ww_tr = xr.open_zarr('/scratch/dl_chapter14/experiments/et/w_sm.w_perm/inference/pred_to_trainset.zarr/') *  86400 # 1 kg/m2/s = 86400 mm/day\n",
    "\n",
    "for ds in [dss_nn, dss_nn, dss_nn, dss_nn, dst_nn, dst_nn, dst_nn, dst_nn]:\n",
    "    ds.mod.attrs['units'] = r'$mm day^{-1}$'\n",
    "    ds.obs.attrs['units'] = r'$mm day^{-1}$'\n",
    "    ds.mod.attrs['long_name'] = 'ET'\n",
    "    ds.obs.attrs['long_name'] = 'ET'"
   ]
  },
  {
   "cell_type": "markdown",
   "metadata": {},
   "source": [
    "### Aggregate to monthly"
   ]
  },
  {
   "cell_type": "code",
   "execution_count": 8,
   "metadata": {},
   "outputs": [
    {
     "name": "stderr",
     "output_type": "stream",
     "text": [
      "/opt/conda/lib/python3.6/site-packages/dask/array/numpy_compat.py:40: RuntimeWarning: invalid value encountered in true_divide\n",
      "  x = np.divide(x1, x2, out)\n",
      "/opt/conda/lib/python3.6/site-packages/dask/array/numpy_compat.py:40: RuntimeWarning: invalid value encountered in true_divide\n",
      "  x = np.divide(x1, x2, out)\n",
      "/opt/conda/lib/python3.6/site-packages/dask/array/numpy_compat.py:40: RuntimeWarning: invalid value encountered in true_divide\n",
      "  x = np.divide(x1, x2, out)\n",
      "/opt/conda/lib/python3.6/site-packages/dask/array/numpy_compat.py:40: RuntimeWarning: invalid value encountered in true_divide\n",
      "  x = np.divide(x1, x2, out)\n",
      "/opt/conda/lib/python3.6/site-packages/dask/array/numpy_compat.py:40: RuntimeWarning: invalid value encountered in true_divide\n",
      "  x = np.divide(x1, x2, out)\n",
      "/opt/conda/lib/python3.6/site-packages/dask/array/numpy_compat.py:40: RuntimeWarning: invalid value encountered in true_divide\n",
      "  x = np.divide(x1, x2, out)\n",
      "/opt/conda/lib/python3.6/site-packages/dask/array/numpy_compat.py:40: RuntimeWarning: invalid value encountered in true_divide\n",
      "  x = np.divide(x1, x2, out)\n",
      "/opt/conda/lib/python3.6/site-packages/dask/array/numpy_compat.py:40: RuntimeWarning: invalid value encountered in true_divide\n",
      "  x = np.divide(x1, x2, out)\n"
     ]
    }
   ],
   "source": [
    "dst_nn_m = dst_nn.resample(time='1MS', keep_attrs=True).mean('time', keep_attrs=True).compute()\n",
    "dst_wn_m = dst_wn.resample(time='1MS', keep_attrs=True).mean('time', keep_attrs=True).compute()\n",
    "dst_nw_m = dst_nw.resample(time='1MS', keep_attrs=True).mean('time', keep_attrs=True).compute()\n",
    "dst_ww_m = dst_ww.resample(time='1MS', keep_attrs=True).mean('time', keep_attrs=True).compute()\n",
    "\n",
    "dst_nn_tr_m = dst_nn_tr.resample(time='1MS', keep_attrs=True).mean('time', keep_attrs=True).compute()\n",
    "dst_wn_tr_m = dst_wn_tr.resample(time='1MS', keep_attrs=True).mean('time', keep_attrs=True).compute()\n",
    "dst_nw_tr_m = dst_nw_tr.resample(time='1MS', keep_attrs=True).mean('time', keep_attrs=True).compute()\n",
    "dst_ww_tr_m = dst_ww_tr.resample(time='1MS', keep_attrs=True).mean('time', keep_attrs=True).compute()"
   ]
  },
  {
   "cell_type": "markdown",
   "metadata": {},
   "source": [
    "### MSC and anomalies"
   ]
  },
  {
   "cell_type": "code",
   "execution_count": 9,
   "metadata": {},
   "outputs": [
    {
     "name": "stdout",
     "output_type": "stream",
     "text": [
      "1\n"
     ]
    },
    {
     "name": "stderr",
     "output_type": "stream",
     "text": [
      "/opt/conda/lib/python3.6/site-packages/dask/array/numpy_compat.py:40: RuntimeWarning: invalid value encountered in true_divide\n",
      "  x = np.divide(x1, x2, out)\n",
      "/opt/conda/lib/python3.6/site-packages/xarray/core/indexing.py:1343: PerformanceWarning: Slicing with an out-of-order index is generating 14 times more chunks\n",
      "  return self.array[key]\n",
      "/opt/conda/lib/python3.6/site-packages/dask/array/numpy_compat.py:40: RuntimeWarning: invalid value encountered in true_divide\n",
      "  x = np.divide(x1, x2, out)\n",
      "/opt/conda/lib/python3.6/site-packages/dask/array/numpy_compat.py:40: RuntimeWarning: invalid value encountered in true_divide\n",
      "  x = np.divide(x1, x2, out)\n",
      "/opt/conda/lib/python3.6/site-packages/xarray/core/indexing.py:1343: PerformanceWarning: Slicing with an out-of-order index is generating 14 times more chunks\n",
      "  return self.array[key]\n",
      "/opt/conda/lib/python3.6/site-packages/dask/array/numpy_compat.py:40: RuntimeWarning: invalid value encountered in true_divide\n",
      "  x = np.divide(x1, x2, out)\n"
     ]
    },
    {
     "name": "stdout",
     "output_type": "stream",
     "text": [
      "2\n"
     ]
    },
    {
     "name": "stderr",
     "output_type": "stream",
     "text": [
      "/opt/conda/lib/python3.6/site-packages/dask/array/numpy_compat.py:40: RuntimeWarning: invalid value encountered in true_divide\n",
      "  x = np.divide(x1, x2, out)\n",
      "/opt/conda/lib/python3.6/site-packages/xarray/core/indexing.py:1343: PerformanceWarning: Slicing with an out-of-order index is generating 14 times more chunks\n",
      "  return self.array[key]\n",
      "/opt/conda/lib/python3.6/site-packages/dask/array/numpy_compat.py:40: RuntimeWarning: invalid value encountered in true_divide\n",
      "  x = np.divide(x1, x2, out)\n",
      "/opt/conda/lib/python3.6/site-packages/dask/array/numpy_compat.py:40: RuntimeWarning: invalid value encountered in true_divide\n",
      "  x = np.divide(x1, x2, out)\n",
      "/opt/conda/lib/python3.6/site-packages/xarray/core/indexing.py:1343: PerformanceWarning: Slicing with an out-of-order index is generating 14 times more chunks\n",
      "  return self.array[key]\n",
      "/opt/conda/lib/python3.6/site-packages/dask/array/numpy_compat.py:40: RuntimeWarning: invalid value encountered in true_divide\n",
      "  x = np.divide(x1, x2, out)\n"
     ]
    },
    {
     "name": "stdout",
     "output_type": "stream",
     "text": [
      "3\n"
     ]
    },
    {
     "name": "stderr",
     "output_type": "stream",
     "text": [
      "/opt/conda/lib/python3.6/site-packages/dask/array/numpy_compat.py:40: RuntimeWarning: invalid value encountered in true_divide\n",
      "  x = np.divide(x1, x2, out)\n",
      "/opt/conda/lib/python3.6/site-packages/xarray/core/indexing.py:1343: PerformanceWarning: Slicing with an out-of-order index is generating 14 times more chunks\n",
      "  return self.array[key]\n",
      "/opt/conda/lib/python3.6/site-packages/dask/array/numpy_compat.py:40: RuntimeWarning: invalid value encountered in true_divide\n",
      "  x = np.divide(x1, x2, out)\n",
      "/opt/conda/lib/python3.6/site-packages/dask/array/numpy_compat.py:40: RuntimeWarning: invalid value encountered in true_divide\n",
      "  x = np.divide(x1, x2, out)\n",
      "/opt/conda/lib/python3.6/site-packages/xarray/core/indexing.py:1343: PerformanceWarning: Slicing with an out-of-order index is generating 14 times more chunks\n",
      "  return self.array[key]\n",
      "/opt/conda/lib/python3.6/site-packages/dask/array/numpy_compat.py:40: RuntimeWarning: invalid value encountered in true_divide\n",
      "  x = np.divide(x1, x2, out)\n"
     ]
    },
    {
     "name": "stdout",
     "output_type": "stream",
     "text": [
      "4\n"
     ]
    },
    {
     "name": "stderr",
     "output_type": "stream",
     "text": [
      "/opt/conda/lib/python3.6/site-packages/dask/array/numpy_compat.py:40: RuntimeWarning: invalid value encountered in true_divide\n",
      "  x = np.divide(x1, x2, out)\n",
      "/opt/conda/lib/python3.6/site-packages/xarray/core/indexing.py:1343: PerformanceWarning: Slicing with an out-of-order index is generating 14 times more chunks\n",
      "  return self.array[key]\n",
      "/opt/conda/lib/python3.6/site-packages/dask/array/numpy_compat.py:40: RuntimeWarning: invalid value encountered in true_divide\n",
      "  x = np.divide(x1, x2, out)\n",
      "/opt/conda/lib/python3.6/site-packages/dask/array/numpy_compat.py:40: RuntimeWarning: invalid value encountered in true_divide\n",
      "  x = np.divide(x1, x2, out)\n",
      "/opt/conda/lib/python3.6/site-packages/xarray/core/indexing.py:1343: PerformanceWarning: Slicing with an out-of-order index is generating 14 times more chunks\n",
      "  return self.array[key]\n",
      "/opt/conda/lib/python3.6/site-packages/dask/array/numpy_compat.py:40: RuntimeWarning: invalid value encountered in true_divide\n",
      "  x = np.divide(x1, x2, out)\n"
     ]
    },
    {
     "name": "stdout",
     "output_type": "stream",
     "text": [
      "5\n"
     ]
    },
    {
     "name": "stderr",
     "output_type": "stream",
     "text": [
      "/opt/conda/lib/python3.6/site-packages/dask/array/numpy_compat.py:40: RuntimeWarning: invalid value encountered in true_divide\n",
      "  x = np.divide(x1, x2, out)\n",
      "/opt/conda/lib/python3.6/site-packages/xarray/core/indexing.py:1343: PerformanceWarning: Slicing with an out-of-order index is generating 20 times more chunks\n",
      "  return self.array[key]\n",
      "/opt/conda/lib/python3.6/site-packages/dask/array/numpy_compat.py:40: RuntimeWarning: invalid value encountered in true_divide\n",
      "  x = np.divide(x1, x2, out)\n",
      "/opt/conda/lib/python3.6/site-packages/dask/array/numpy_compat.py:40: RuntimeWarning: invalid value encountered in true_divide\n",
      "  x = np.divide(x1, x2, out)\n",
      "/opt/conda/lib/python3.6/site-packages/xarray/core/indexing.py:1343: PerformanceWarning: Slicing with an out-of-order index is generating 20 times more chunks\n",
      "  return self.array[key]\n",
      "/opt/conda/lib/python3.6/site-packages/dask/array/numpy_compat.py:40: RuntimeWarning: invalid value encountered in true_divide\n",
      "  x = np.divide(x1, x2, out)\n"
     ]
    },
    {
     "name": "stdout",
     "output_type": "stream",
     "text": [
      "6\n"
     ]
    },
    {
     "name": "stderr",
     "output_type": "stream",
     "text": [
      "/opt/conda/lib/python3.6/site-packages/dask/array/numpy_compat.py:40: RuntimeWarning: invalid value encountered in true_divide\n",
      "  x = np.divide(x1, x2, out)\n",
      "/opt/conda/lib/python3.6/site-packages/xarray/core/indexing.py:1343: PerformanceWarning: Slicing with an out-of-order index is generating 20 times more chunks\n",
      "  return self.array[key]\n",
      "/opt/conda/lib/python3.6/site-packages/dask/array/numpy_compat.py:40: RuntimeWarning: invalid value encountered in true_divide\n",
      "  x = np.divide(x1, x2, out)\n",
      "/opt/conda/lib/python3.6/site-packages/dask/array/numpy_compat.py:40: RuntimeWarning: invalid value encountered in true_divide\n",
      "  x = np.divide(x1, x2, out)\n",
      "/opt/conda/lib/python3.6/site-packages/xarray/core/indexing.py:1343: PerformanceWarning: Slicing with an out-of-order index is generating 20 times more chunks\n",
      "  return self.array[key]\n",
      "/opt/conda/lib/python3.6/site-packages/dask/array/numpy_compat.py:40: RuntimeWarning: invalid value encountered in true_divide\n",
      "  x = np.divide(x1, x2, out)\n"
     ]
    },
    {
     "name": "stdout",
     "output_type": "stream",
     "text": [
      "7\n"
     ]
    },
    {
     "name": "stderr",
     "output_type": "stream",
     "text": [
      "/opt/conda/lib/python3.6/site-packages/dask/array/numpy_compat.py:40: RuntimeWarning: invalid value encountered in true_divide\n",
      "  x = np.divide(x1, x2, out)\n",
      "/opt/conda/lib/python3.6/site-packages/xarray/core/indexing.py:1343: PerformanceWarning: Slicing with an out-of-order index is generating 15 times more chunks\n",
      "  return self.array[key]\n",
      "/opt/conda/lib/python3.6/site-packages/dask/array/numpy_compat.py:40: RuntimeWarning: invalid value encountered in true_divide\n",
      "  x = np.divide(x1, x2, out)\n",
      "/opt/conda/lib/python3.6/site-packages/dask/array/numpy_compat.py:40: RuntimeWarning: invalid value encountered in true_divide\n",
      "  x = np.divide(x1, x2, out)\n",
      "/opt/conda/lib/python3.6/site-packages/xarray/core/indexing.py:1343: PerformanceWarning: Slicing with an out-of-order index is generating 15 times more chunks\n",
      "  return self.array[key]\n",
      "/opt/conda/lib/python3.6/site-packages/dask/array/numpy_compat.py:40: RuntimeWarning: invalid value encountered in true_divide\n",
      "  x = np.divide(x1, x2, out)\n"
     ]
    },
    {
     "name": "stdout",
     "output_type": "stream",
     "text": [
      "8\n"
     ]
    },
    {
     "name": "stderr",
     "output_type": "stream",
     "text": [
      "/opt/conda/lib/python3.6/site-packages/dask/array/numpy_compat.py:40: RuntimeWarning: invalid value encountered in true_divide\n",
      "  x = np.divide(x1, x2, out)\n",
      "/opt/conda/lib/python3.6/site-packages/xarray/core/indexing.py:1343: PerformanceWarning: Slicing with an out-of-order index is generating 15 times more chunks\n",
      "  return self.array[key]\n",
      "/opt/conda/lib/python3.6/site-packages/dask/array/numpy_compat.py:40: RuntimeWarning: invalid value encountered in true_divide\n",
      "  x = np.divide(x1, x2, out)\n",
      "/opt/conda/lib/python3.6/site-packages/dask/array/numpy_compat.py:40: RuntimeWarning: invalid value encountered in true_divide\n",
      "  x = np.divide(x1, x2, out)\n",
      "/opt/conda/lib/python3.6/site-packages/xarray/core/indexing.py:1343: PerformanceWarning: Slicing with an out-of-order index is generating 15 times more chunks\n",
      "  return self.array[key]\n",
      "/opt/conda/lib/python3.6/site-packages/dask/array/numpy_compat.py:40: RuntimeWarning: invalid value encountered in true_divide\n",
      "  x = np.divide(x1, x2, out)\n"
     ]
    },
    {
     "name": "stdout",
     "output_type": "stream",
     "text": [
      "9\n"
     ]
    },
    {
     "name": "stderr",
     "output_type": "stream",
     "text": [
      "/opt/conda/lib/python3.6/site-packages/xarray/core/nanops.py:142: RuntimeWarning: Mean of empty slice\n",
      "  return np.nanmean(a, axis=axis, dtype=dtype)\n",
      "/opt/conda/lib/python3.6/site-packages/xarray/core/nanops.py:142: RuntimeWarning: Mean of empty slice\n",
      "  return np.nanmean(a, axis=axis, dtype=dtype)\n",
      "/opt/conda/lib/python3.6/site-packages/xarray/core/nanops.py:142: RuntimeWarning: Mean of empty slice\n",
      "  return np.nanmean(a, axis=axis, dtype=dtype)\n"
     ]
    },
    {
     "name": "stdout",
     "output_type": "stream",
     "text": [
      "10\n"
     ]
    },
    {
     "name": "stderr",
     "output_type": "stream",
     "text": [
      "/opt/conda/lib/python3.6/site-packages/xarray/core/nanops.py:142: RuntimeWarning: Mean of empty slice\n",
      "  return np.nanmean(a, axis=axis, dtype=dtype)\n",
      "/opt/conda/lib/python3.6/site-packages/xarray/core/nanops.py:142: RuntimeWarning: Mean of empty slice\n",
      "  return np.nanmean(a, axis=axis, dtype=dtype)\n"
     ]
    },
    {
     "name": "stdout",
     "output_type": "stream",
     "text": [
      "11\n"
     ]
    },
    {
     "name": "stderr",
     "output_type": "stream",
     "text": [
      "/opt/conda/lib/python3.6/site-packages/xarray/core/nanops.py:142: RuntimeWarning: Mean of empty slice\n",
      "  return np.nanmean(a, axis=axis, dtype=dtype)\n",
      "/opt/conda/lib/python3.6/site-packages/xarray/core/nanops.py:142: RuntimeWarning: Mean of empty slice\n",
      "  return np.nanmean(a, axis=axis, dtype=dtype)\n"
     ]
    },
    {
     "name": "stdout",
     "output_type": "stream",
     "text": [
      "12\n"
     ]
    },
    {
     "name": "stderr",
     "output_type": "stream",
     "text": [
      "/opt/conda/lib/python3.6/site-packages/xarray/core/nanops.py:142: RuntimeWarning: Mean of empty slice\n",
      "  return np.nanmean(a, axis=axis, dtype=dtype)\n",
      "/opt/conda/lib/python3.6/site-packages/xarray/core/nanops.py:142: RuntimeWarning: Mean of empty slice\n",
      "  return np.nanmean(a, axis=axis, dtype=dtype)\n"
     ]
    },
    {
     "name": "stdout",
     "output_type": "stream",
     "text": [
      "13\n"
     ]
    },
    {
     "name": "stderr",
     "output_type": "stream",
     "text": [
      "/opt/conda/lib/python3.6/site-packages/xarray/core/nanops.py:142: RuntimeWarning: Mean of empty slice\n",
      "  return np.nanmean(a, axis=axis, dtype=dtype)\n",
      "/opt/conda/lib/python3.6/site-packages/xarray/core/nanops.py:142: RuntimeWarning: Mean of empty slice\n",
      "  return np.nanmean(a, axis=axis, dtype=dtype)\n"
     ]
    },
    {
     "name": "stdout",
     "output_type": "stream",
     "text": [
      "14\n"
     ]
    },
    {
     "name": "stderr",
     "output_type": "stream",
     "text": [
      "/opt/conda/lib/python3.6/site-packages/xarray/core/nanops.py:142: RuntimeWarning: Mean of empty slice\n",
      "  return np.nanmean(a, axis=axis, dtype=dtype)\n",
      "/opt/conda/lib/python3.6/site-packages/xarray/core/nanops.py:142: RuntimeWarning: Mean of empty slice\n",
      "  return np.nanmean(a, axis=axis, dtype=dtype)\n"
     ]
    },
    {
     "name": "stdout",
     "output_type": "stream",
     "text": [
      "15\n"
     ]
    },
    {
     "name": "stderr",
     "output_type": "stream",
     "text": [
      "/opt/conda/lib/python3.6/site-packages/xarray/core/nanops.py:142: RuntimeWarning: Mean of empty slice\n",
      "  return np.nanmean(a, axis=axis, dtype=dtype)\n",
      "/opt/conda/lib/python3.6/site-packages/xarray/core/nanops.py:142: RuntimeWarning: Mean of empty slice\n",
      "  return np.nanmean(a, axis=axis, dtype=dtype)\n"
     ]
    },
    {
     "name": "stdout",
     "output_type": "stream",
     "text": [
      "16\n"
     ]
    },
    {
     "name": "stderr",
     "output_type": "stream",
     "text": [
      "/opt/conda/lib/python3.6/site-packages/xarray/core/nanops.py:142: RuntimeWarning: Mean of empty slice\n",
      "  return np.nanmean(a, axis=axis, dtype=dtype)\n",
      "/opt/conda/lib/python3.6/site-packages/xarray/core/nanops.py:142: RuntimeWarning: Mean of empty slice\n",
      "  return np.nanmean(a, axis=axis, dtype=dtype)\n"
     ]
    }
   ],
   "source": [
    "def add_msc_and_ano(ds, time_agg='month'):\n",
    "    for s in ['mod', 'obs']:\n",
    "        msc = ds[s].groupby('time.' + time_agg).mean('time', keep_attrs=True).compute()\n",
    "        ano = (ds[s].groupby('time.' + time_agg) - msc).compute()\n",
    "        if time_agg == 'month':\n",
    "            msc[time_agg] = ['Jan', 'Feb', 'Mar', 'Apr', 'May', 'Jun', 'Jul', 'Aug', 'Sept', 'Oct', 'Nov', 'Dec']\n",
    "        iav = ds[s].groupby('time.year').mean('time', keep_attrs=True)\n",
    "        iav -= iav.mean('year')\n",
    "        ds[s + '_msc'] = msc\n",
    "        ds[s + '_ano'] = ano\n",
    "        ds[s + '_iav'] = iav.compute()\n",
    "    return ds\n",
    "i = 0\n",
    "for ds in [dst_nn, dst_wn, dst_nw, dst_ww, dst_nn_tr, dst_wn_tr, dst_nw_tr, dst_ww_tr]:\n",
    "    i += 1\n",
    "    print(i)\n",
    "    ds = add_msc_and_ano(ds)\n",
    "for ds in [dst_nn_m, dst_wn_m, dst_nw_m, dst_ww_m, dst_nn_tr_m, dst_wn_tr_m, dst_nw_tr_m, dst_ww_tr_m]:\n",
    "    i += 1\n",
    "    print(i)\n",
    "    ds = add_msc_and_ano(ds)"
   ]
  },
  {
   "cell_type": "code",
   "execution_count": 10,
   "metadata": {},
   "outputs": [],
   "source": [
    "target_dir = '/scratch/dl_chapter14/experiments/et/derived'\n",
    "if not os.path.isdir(target_dir):\n",
    "    %mkdir {target_dir}"
   ]
  },
  {
   "cell_type": "code",
   "execution_count": 11,
   "metadata": {},
   "outputs": [
    {
     "name": "stdout",
     "output_type": "stream",
     "text": [
      "dst_nn\n",
      "[########################################] | 100% Completed | 15min 37.5s\n",
      "dst_wn\n",
      "[########################################] | 100% Completed | 14min 56.4s\n",
      "dst_nw\n",
      "[########################################] | 100% Completed | 14min 52.7s\n",
      "dst_ww\n",
      "[########################################] | 100% Completed | 15min  8.8s\n",
      "dst_nn_m\n",
      "dst_wn_m\n",
      "dst_nw_m\n",
      "dst_ww_m\n",
      "dst_nn_tr\n",
      "[########################################] | 100% Completed | 21min  2.4s\n",
      "dst_wn_tr\n",
      "[########################################] | 100% Completed | 21min  2.6s\n",
      "dst_nw_tr\n",
      "[########################################] | 100% Completed | 15min 45.2s\n",
      "dst_ww_tr\n",
      "[########################################] | 100% Completed | 16min  5.4s\n",
      "dst_nn_tr_m\n",
      "dst_wn_tr_m\n",
      "dst_nw_tr_m\n",
      "dst_ww_tr_m\n"
     ]
    }
   ],
   "source": [
    "for ds, ds_name in zip(\n",
    "        [dst_nn, dst_wn, dst_nw, dst_ww, dst_nn_m, dst_wn_m, dst_nw_m, dst_ww_m, dst_nn_tr, dst_wn_tr, dst_nw_tr, dst_ww_tr, dst_nn_tr_m, dst_wn_tr_m, dst_nw_tr_m, dst_ww_tr_m],\n",
    "        ['dst_nn', 'dst_wn', 'dst_nw', 'dst_ww', 'dst_nn_m', 'dst_wn_m', 'dst_nw_m', 'dst_ww_m', 'dst_nn_tr', 'dst_wn_tr', 'dst_nw_tr', 'dst_ww_tr', 'dst_nn_tr_m', 'dst_wn_tr_m', 'dst_nw_tr_m', 'dst_ww_tr_m']):\n",
    "    print(ds_name)\n",
    "    with ProgressBar():\n",
    "        ds.to_netcdf(f'/scratch/dl_chapter14/experiments/et/derived/{ds_name}.nc')"
   ]
  },
  {
   "cell_type": "markdown",
   "metadata": {},
   "source": [
    "### Spatial analysis"
   ]
  },
  {
   "cell_type": "code",
   "execution_count": 8,
   "metadata": {},
   "outputs": [
    {
     "data": {
      "text/html": [
       "<div><svg style=\"position: absolute; width: 0; height: 0; overflow: hidden\">\n",
       "<defs>\n",
       "<symbol id=\"icon-database\" viewBox=\"0 0 32 32\">\n",
       "<title>Show/Hide data repr</title>\n",
       "<path d=\"M16 0c-8.837 0-16 2.239-16 5v4c0 2.761 7.163 5 16 5s16-2.239 16-5v-4c0-2.761-7.163-5-16-5z\"></path>\n",
       "<path d=\"M16 17c-8.837 0-16-2.239-16-5v6c0 2.761 7.163 5 16 5s16-2.239 16-5v-6c0 2.761-7.163 5-16 5z\"></path>\n",
       "<path d=\"M16 26c-8.837 0-16-2.239-16-5v6c0 2.761 7.163 5 16 5s16-2.239 16-5v-6c0 2.761-7.163 5-16 5z\"></path>\n",
       "</symbol>\n",
       "<symbol id=\"icon-file-text2\" viewBox=\"0 0 32 32\">\n",
       "<title>Show/Hide attributes</title>\n",
       "<path d=\"M28.681 7.159c-0.694-0.947-1.662-2.053-2.724-3.116s-2.169-2.030-3.116-2.724c-1.612-1.182-2.393-1.319-2.841-1.319h-15.5c-1.378 0-2.5 1.121-2.5 2.5v27c0 1.378 1.122 2.5 2.5 2.5h23c1.378 0 2.5-1.122 2.5-2.5v-19.5c0-0.448-0.137-1.23-1.319-2.841zM24.543 5.457c0.959 0.959 1.712 1.825 2.268 2.543h-4.811v-4.811c0.718 0.556 1.584 1.309 2.543 2.268zM28 29.5c0 0.271-0.229 0.5-0.5 0.5h-23c-0.271 0-0.5-0.229-0.5-0.5v-27c0-0.271 0.229-0.5 0.5-0.5 0 0 15.499-0 15.5 0v7c0 0.552 0.448 1 1 1h7v19.5z\"></path>\n",
       "<path d=\"M23 26h-14c-0.552 0-1-0.448-1-1s0.448-1 1-1h14c0.552 0 1 0.448 1 1s-0.448 1-1 1z\"></path>\n",
       "<path d=\"M23 22h-14c-0.552 0-1-0.448-1-1s0.448-1 1-1h14c0.552 0 1 0.448 1 1s-0.448 1-1 1z\"></path>\n",
       "<path d=\"M23 18h-14c-0.552 0-1-0.448-1-1s0.448-1 1-1h14c0.552 0 1 0.448 1 1s-0.448 1-1 1z\"></path>\n",
       "</symbol>\n",
       "</defs>\n",
       "</svg>\n",
       "<style>/* CSS stylesheet for displaying xarray objects in jupyterlab.\n",
       " *\n",
       " */\n",
       "\n",
       ":root {\n",
       "  --xr-font-color0: var(--jp-content-font-color0, rgba(0, 0, 0, 1));\n",
       "  --xr-font-color2: var(--jp-content-font-color2, rgba(0, 0, 0, 0.54));\n",
       "  --xr-font-color3: var(--jp-content-font-color3, rgba(0, 0, 0, 0.38));\n",
       "  --xr-border-color: var(--jp-border-color2, #e0e0e0);\n",
       "  --xr-disabled-color: var(--jp-layout-color3, #bdbdbd);\n",
       "  --xr-background-color: var(--jp-layout-color0, white);\n",
       "  --xr-background-color-row-even: var(--jp-layout-color1, white);\n",
       "  --xr-background-color-row-odd: var(--jp-layout-color2, #eeeeee);\n",
       "}\n",
       "\n",
       ".xr-wrap {\n",
       "  min-width: 300px;\n",
       "  max-width: 700px;\n",
       "}\n",
       "\n",
       ".xr-header {\n",
       "  padding-top: 6px;\n",
       "  padding-bottom: 6px;\n",
       "  margin-bottom: 4px;\n",
       "  border-bottom: solid 1px var(--xr-border-color);\n",
       "}\n",
       "\n",
       ".xr-header > div,\n",
       ".xr-header > ul {\n",
       "  display: inline;\n",
       "  margin-top: 0;\n",
       "  margin-bottom: 0;\n",
       "}\n",
       "\n",
       ".xr-obj-type,\n",
       ".xr-array-name {\n",
       "  margin-left: 2px;\n",
       "  margin-right: 10px;\n",
       "}\n",
       "\n",
       ".xr-obj-type {\n",
       "  color: var(--xr-font-color2);\n",
       "}\n",
       "\n",
       ".xr-sections {\n",
       "  padding-left: 0 !important;\n",
       "  display: grid;\n",
       "  grid-template-columns: 150px auto auto 1fr 20px 20px;\n",
       "}\n",
       "\n",
       ".xr-section-item {\n",
       "  display: contents;\n",
       "}\n",
       "\n",
       ".xr-section-item input {\n",
       "  display: none;\n",
       "}\n",
       "\n",
       ".xr-section-item input + label {\n",
       "  color: var(--xr-disabled-color);\n",
       "}\n",
       "\n",
       ".xr-section-item input:enabled + label {\n",
       "  cursor: pointer;\n",
       "  color: var(--xr-font-color2);\n",
       "}\n",
       "\n",
       ".xr-section-item input:enabled + label:hover {\n",
       "  color: var(--xr-font-color0);\n",
       "}\n",
       "\n",
       ".xr-section-summary {\n",
       "  grid-column: 1;\n",
       "  color: var(--xr-font-color2);\n",
       "  font-weight: 500;\n",
       "}\n",
       "\n",
       ".xr-section-summary > span {\n",
       "  display: inline-block;\n",
       "  padding-left: 0.5em;\n",
       "}\n",
       "\n",
       ".xr-section-summary-in:disabled + label {\n",
       "  color: var(--xr-font-color2);\n",
       "}\n",
       "\n",
       ".xr-section-summary-in + label:before {\n",
       "  display: inline-block;\n",
       "  content: '►';\n",
       "  font-size: 11px;\n",
       "  width: 15px;\n",
       "  text-align: center;\n",
       "}\n",
       "\n",
       ".xr-section-summary-in:disabled + label:before {\n",
       "  color: var(--xr-disabled-color);\n",
       "}\n",
       "\n",
       ".xr-section-summary-in:checked + label:before {\n",
       "  content: '▼';\n",
       "}\n",
       "\n",
       ".xr-section-summary-in:checked + label > span {\n",
       "  display: none;\n",
       "}\n",
       "\n",
       ".xr-section-summary,\n",
       ".xr-section-inline-details {\n",
       "  padding-top: 4px;\n",
       "  padding-bottom: 4px;\n",
       "}\n",
       "\n",
       ".xr-section-inline-details {\n",
       "  grid-column: 2 / -1;\n",
       "}\n",
       "\n",
       ".xr-section-details {\n",
       "  display: none;\n",
       "  grid-column: 1 / -1;\n",
       "  margin-bottom: 5px;\n",
       "}\n",
       "\n",
       ".xr-section-summary-in:checked ~ .xr-section-details {\n",
       "  display: contents;\n",
       "}\n",
       "\n",
       ".xr-array-wrap {\n",
       "  grid-column: 1 / -1;\n",
       "  display: grid;\n",
       "  grid-template-columns: 20px auto;\n",
       "}\n",
       "\n",
       ".xr-array-wrap > label {\n",
       "  grid-column: 1;\n",
       "  vertical-align: top;\n",
       "}\n",
       "\n",
       ".xr-preview {\n",
       "  color: var(--xr-font-color3);\n",
       "}\n",
       "\n",
       ".xr-array-preview,\n",
       ".xr-array-data {\n",
       "  padding: 0 5px !important;\n",
       "  grid-column: 2;\n",
       "}\n",
       "\n",
       ".xr-array-data,\n",
       ".xr-array-in:checked ~ .xr-array-preview {\n",
       "  display: none;\n",
       "}\n",
       "\n",
       ".xr-array-in:checked ~ .xr-array-data,\n",
       ".xr-array-preview {\n",
       "  display: inline-block;\n",
       "}\n",
       "\n",
       ".xr-dim-list {\n",
       "  display: inline-block !important;\n",
       "  list-style: none;\n",
       "  padding: 0 !important;\n",
       "  margin: 0;\n",
       "}\n",
       "\n",
       ".xr-dim-list li {\n",
       "  display: inline-block;\n",
       "  padding: 0;\n",
       "  margin: 0;\n",
       "}\n",
       "\n",
       ".xr-dim-list:before {\n",
       "  content: '(';\n",
       "}\n",
       "\n",
       ".xr-dim-list:after {\n",
       "  content: ')';\n",
       "}\n",
       "\n",
       ".xr-dim-list li:not(:last-child):after {\n",
       "  content: ',';\n",
       "  padding-right: 5px;\n",
       "}\n",
       "\n",
       ".xr-has-index {\n",
       "  font-weight: bold;\n",
       "}\n",
       "\n",
       ".xr-var-list,\n",
       ".xr-var-item {\n",
       "  display: contents;\n",
       "}\n",
       "\n",
       ".xr-var-item > div,\n",
       ".xr-var-item label,\n",
       ".xr-var-item > .xr-var-name span {\n",
       "  background-color: var(--xr-background-color-row-even);\n",
       "  margin-bottom: 0;\n",
       "}\n",
       "\n",
       ".xr-var-item > .xr-var-name:hover span {\n",
       "  padding-right: 5px;\n",
       "}\n",
       "\n",
       ".xr-var-list > li:nth-child(odd) > div,\n",
       ".xr-var-list > li:nth-child(odd) > label,\n",
       ".xr-var-list > li:nth-child(odd) > .xr-var-name span {\n",
       "  background-color: var(--xr-background-color-row-odd);\n",
       "}\n",
       "\n",
       ".xr-var-name {\n",
       "  grid-column: 1;\n",
       "}\n",
       "\n",
       ".xr-var-dims {\n",
       "  grid-column: 2;\n",
       "}\n",
       "\n",
       ".xr-var-dtype {\n",
       "  grid-column: 3;\n",
       "  text-align: right;\n",
       "  color: var(--xr-font-color2);\n",
       "}\n",
       "\n",
       ".xr-var-preview {\n",
       "  grid-column: 4;\n",
       "}\n",
       "\n",
       ".xr-var-name,\n",
       ".xr-var-dims,\n",
       ".xr-var-dtype,\n",
       ".xr-preview,\n",
       ".xr-attrs dt {\n",
       "  white-space: nowrap;\n",
       "  overflow: hidden;\n",
       "  text-overflow: ellipsis;\n",
       "  padding-right: 10px;\n",
       "}\n",
       "\n",
       ".xr-var-name:hover,\n",
       ".xr-var-dims:hover,\n",
       ".xr-var-dtype:hover,\n",
       ".xr-attrs dt:hover {\n",
       "  overflow: visible;\n",
       "  width: auto;\n",
       "  z-index: 1;\n",
       "}\n",
       "\n",
       ".xr-var-attrs,\n",
       ".xr-var-data {\n",
       "  display: none;\n",
       "  background-color: var(--xr-background-color) !important;\n",
       "  padding-bottom: 5px !important;\n",
       "}\n",
       "\n",
       ".xr-var-attrs-in:checked ~ .xr-var-attrs,\n",
       ".xr-var-data-in:checked ~ .xr-var-data {\n",
       "  display: block;\n",
       "}\n",
       "\n",
       ".xr-var-data > table {\n",
       "  float: right;\n",
       "}\n",
       "\n",
       ".xr-var-name span,\n",
       ".xr-var-data,\n",
       ".xr-attrs {\n",
       "  padding-left: 25px !important;\n",
       "}\n",
       "\n",
       ".xr-attrs,\n",
       ".xr-var-attrs,\n",
       ".xr-var-data {\n",
       "  grid-column: 1 / -1;\n",
       "}\n",
       "\n",
       "dl.xr-attrs {\n",
       "  padding: 0;\n",
       "  margin: 0;\n",
       "  display: grid;\n",
       "  grid-template-columns: 125px auto;\n",
       "}\n",
       "\n",
       ".xr-attrs dt, dd {\n",
       "  padding: 0;\n",
       "  margin: 0;\n",
       "  float: left;\n",
       "  padding-right: 10px;\n",
       "  width: auto;\n",
       "}\n",
       "\n",
       ".xr-attrs dt {\n",
       "  font-weight: normal;\n",
       "  grid-column: 1;\n",
       "}\n",
       "\n",
       ".xr-attrs dt:hover span {\n",
       "  display: inline-block;\n",
       "  background: var(--xr-background-color);\n",
       "  padding-right: 10px;\n",
       "}\n",
       "\n",
       ".xr-attrs dd {\n",
       "  grid-column: 2;\n",
       "  white-space: pre-wrap;\n",
       "  word-break: break-all;\n",
       "}\n",
       "\n",
       ".xr-icon-database,\n",
       ".xr-icon-file-text2 {\n",
       "  display: inline-block;\n",
       "  vertical-align: middle;\n",
       "  width: 1em;\n",
       "  height: 1.5em !important;\n",
       "  stroke-width: 0;\n",
       "  stroke: currentColor;\n",
       "  fill: currentColor;\n",
       "}\n",
       "</style><div class='xr-wrap'><div class='xr-header'><div class='xr-obj-type'>xarray.DataArray</div><div class='xr-array-name'>'mod'</div><ul class='xr-dim-list'><li><span class='xr-has-index'>time</span>: 5114</li><li><span class='xr-has-index'>lat</span>: 360</li><li><span class='xr-has-index'>lon</span>: 720</li></ul></div><ul class='xr-sections'><li class='xr-section-item'><div class='xr-array-wrap'><input id='section-57f03b50-27f1-4539-b24b-772b0f052283' class='xr-array-in' type='checkbox' ><label for='section-57f03b50-27f1-4539-b24b-772b0f052283' title='Show/hide data repr'><svg class='icon xr-icon-database'><use xlink:href='#icon-database'></use></svg></label><div class='xr-array-preview xr-preview'><span>...</span></div><pre class='xr-array-data'>[1325548800 values with dtype=float64]</pre></div></li><li class='xr-section-item'><input id='section-3f92b2ee-1cbd-4fc0-b8a4-bb933818f7f6' class='xr-section-summary-in' type='checkbox'  checked><label for='section-3f92b2ee-1cbd-4fc0-b8a4-bb933818f7f6' class='xr-section-summary' >Coordinates: <span>(3)</span></label><div class='xr-section-inline-details'></div><div class='xr-section-details'><ul class='xr-var-list'><li class='xr-var-item'><div class='xr-var-name'><span class='xr-has-index'>lon</span></div><div class='xr-var-dims'>(lon)</div><div class='xr-var-dtype'>float64</div><div class='xr-var-preview xr-preview'>-179.8 -179.2 ... 179.2 179.8</div><input id='attrs-ccd232b2-ccd8-44ef-9504-5e3894f6781c' class='xr-var-attrs-in' type='checkbox' ><label for='attrs-ccd232b2-ccd8-44ef-9504-5e3894f6781c' title='Show/Hide attributes'><svg class='icon xr-icon-file-text2'><use xlink:href='#icon-file-text2'></use></svg></label><input id='data-8d175434-c095-463e-aa47-a66d8d4cc897' class='xr-var-data-in' type='checkbox'><label for='data-8d175434-c095-463e-aa47-a66d8d4cc897' title='Show/Hide data repr'><svg class='icon xr-icon-database'><use xlink:href='#icon-database'></use></svg></label><div class='xr-var-attrs'><dl class='xr-attrs'><dt><span>long_name :</span></dt><dd>longitude</dd><dt><span>units :</span></dt><dd>degree</dd></dl></div><pre class='xr-var-data'>array([-179.75, -179.25, -178.75, ...,  178.75,  179.25,  179.75])</pre></li><li class='xr-var-item'><div class='xr-var-name'><span class='xr-has-index'>lat</span></div><div class='xr-var-dims'>(lat)</div><div class='xr-var-dtype'>float64</div><div class='xr-var-preview xr-preview'>89.75 89.25 88.75 ... -89.25 -89.75</div><input id='attrs-c5720aeb-ab5a-4bbe-adc4-3a958a5fe8b7' class='xr-var-attrs-in' type='checkbox' ><label for='attrs-c5720aeb-ab5a-4bbe-adc4-3a958a5fe8b7' title='Show/Hide attributes'><svg class='icon xr-icon-file-text2'><use xlink:href='#icon-file-text2'></use></svg></label><input id='data-aa7a312f-9623-4171-ad9b-b3f0442d75b4' class='xr-var-data-in' type='checkbox'><label for='data-aa7a312f-9623-4171-ad9b-b3f0442d75b4' title='Show/Hide data repr'><svg class='icon xr-icon-database'><use xlink:href='#icon-database'></use></svg></label><div class='xr-var-attrs'><dl class='xr-attrs'><dt><span>long_name :</span></dt><dd>latitude</dd><dt><span>units :</span></dt><dd>degree</dd></dl></div><pre class='xr-var-data'>array([ 89.75,  89.25,  88.75, ..., -88.75, -89.25, -89.75])</pre></li><li class='xr-var-item'><div class='xr-var-name'><span class='xr-has-index'>time</span></div><div class='xr-var-dims'>(time)</div><div class='xr-var-dtype'>datetime64[ns]</div><div class='xr-var-preview xr-preview'>2000-01-01 ... 2013-12-31</div><input id='attrs-5e2b1870-a46e-48e6-989c-04b10c96a9a5' class='xr-var-attrs-in' type='checkbox' ><label for='attrs-5e2b1870-a46e-48e6-989c-04b10c96a9a5' title='Show/Hide attributes'><svg class='icon xr-icon-file-text2'><use xlink:href='#icon-file-text2'></use></svg></label><input id='data-bf7b7832-0b2b-4303-82cf-29fdfc57650a' class='xr-var-data-in' type='checkbox'><label for='data-bf7b7832-0b2b-4303-82cf-29fdfc57650a' title='Show/Hide data repr'><svg class='icon xr-icon-database'><use xlink:href='#icon-database'></use></svg></label><div class='xr-var-attrs'><dl class='xr-attrs'><dt><span>long_name :</span></dt><dd>time</dd></dl></div><pre class='xr-var-data'>array([&#x27;2000-01-01T00:00:00.000000000&#x27;, &#x27;2000-01-02T00:00:00.000000000&#x27;,\n",
       "       &#x27;2000-01-03T00:00:00.000000000&#x27;, ..., &#x27;2013-12-29T00:00:00.000000000&#x27;,\n",
       "       &#x27;2013-12-30T00:00:00.000000000&#x27;, &#x27;2013-12-31T00:00:00.000000000&#x27;],\n",
       "      dtype=&#x27;datetime64[ns]&#x27;)</pre></li></ul></div></li><li class='xr-section-item'><input id='section-130d7f9c-e2c5-4bb0-a2fd-758308770b23' class='xr-section-summary-in' type='checkbox'  checked><label for='section-130d7f9c-e2c5-4bb0-a2fd-758308770b23' class='xr-section-summary' >Attributes: <span>(2)</span></label><div class='xr-section-inline-details'></div><div class='xr-section-details'><dl class='xr-attrs'><dt><span>units :</span></dt><dd>$mm day^{-1}$</dd><dt><span>long_name :</span></dt><dd>ET</dd></dl></div></li></ul></div></div>"
      ],
      "text/plain": [
       "<xarray.DataArray 'mod' (time: 5114, lat: 360, lon: 720)>\n",
       "[1325548800 values with dtype=float64]\n",
       "Coordinates:\n",
       "  * lon      (lon) float64 -179.8 -179.2 -178.8 -178.2 ... 178.8 179.2 179.8\n",
       "  * lat      (lat) float64 89.75 89.25 88.75 88.25 ... -88.75 -89.25 -89.75\n",
       "  * time     (time) datetime64[ns] 2000-01-01 2000-01-02 ... 2013-12-31\n",
       "Attributes:\n",
       "    units:      $mm day^{-1}$\n",
       "    long_name:  ET"
      ]
     },
     "execution_count": 8,
     "metadata": {},
     "output_type": "execute_result"
    }
   ],
   "source": [
    "dst_nn.mod"
   ]
  },
  {
   "cell_type": "code",
   "execution_count": 4,
   "metadata": {},
   "outputs": [],
   "source": [
    "dst_nn = xr.open_dataset('/scratch/dl_chapter14/experiments/et/derived/dst_nn.nc')\n",
    "dst_wn = xr.open_dataset('/scratch/dl_chapter14/experiments/et/derived/dst_wn.nc')\n",
    "dst_nw = xr.open_dataset('/scratch/dl_chapter14/experiments/et/derived/dst_nw.nc')\n",
    "dst_ww = xr.open_dataset('/scratch/dl_chapter14/experiments/et/derived/dst_ww.nc')\n",
    "dst_nn_m = xr.open_dataset('/scratch/dl_chapter14/experiments/et/derived/dst_nn_m.nc')\n",
    "dst_wn_m = xr.open_dataset('/scratch/dl_chapter14/experiments/et/derived/dst_wn_m.nc')\n",
    "dst_nw_m = xr.open_dataset('/scratch/dl_chapter14/experiments/et/derived/dst_nw_m.nc')\n",
    "dst_ww_m = xr.open_dataset('/scratch/dl_chapter14/experiments/et/derived/dst_ww_m.nc')\n",
    "\n",
    "dst_nn_tr = xr.open_dataset('/scratch/dl_chapter14/experiments/et/derived/dst_nn_tr.nc')\n",
    "dst_wn_tr = xr.open_dataset('/scratch/dl_chapter14/experiments/et/derived/dst_wn_tr.nc')\n",
    "dst_nw_tr = xr.open_dataset('/scratch/dl_chapter14/experiments/et/derived/dst_nw_tr.nc')\n",
    "dst_ww_tr = xr.open_dataset('/scratch/dl_chapter14/experiments/et/derived/dst_ww_tr.nc')\n",
    "dst_nn_tr_m = xr.open_dataset('/scratch/dl_chapter14/experiments/et/derived/dst_nn_tr_m.nc')\n",
    "dst_wn_tr_m = xr.open_dataset('/scratch/dl_chapter14/experiments/et/derived/dst_wn_tr_m.nc')\n",
    "dst_nw_tr_m = xr.open_dataset('/scratch/dl_chapter14/experiments/et/derived/dst_nw_tr_m.nc')\n",
    "dst_ww_tr_m = xr.open_dataset('/scratch/dl_chapter14/experiments/et/derived/dst_ww_tr_m.nc')"
   ]
  },
  {
   "cell_type": "code",
   "execution_count": 13,
   "metadata": {},
   "outputs": [
    {
     "name": "stdout",
     "output_type": "stream",
     "text": [
      "1\n",
      "2\n",
      "3\n",
      "4\n",
      "5\n",
      "6\n",
      "7\n",
      "8\n",
      "9\n",
      "10\n",
      "11\n",
      "12\n",
      "13\n",
      "14\n",
      "15\n",
      "16\n",
      "17\n",
      "18\n",
      "19\n",
      "20\n",
      "21\n",
      "22\n",
      "23\n",
      "24\n",
      "25\n",
      "26\n",
      "27\n",
      "28\n",
      "29\n",
      "30\n",
      "31\n",
      "32\n",
      "1\n",
      "2\n",
      "3\n",
      "4\n",
      "5\n",
      "6\n",
      "7\n",
      "8\n",
      "9\n",
      "10\n",
      "11\n",
      "12\n",
      "13\n",
      "14\n",
      "15\n",
      "16\n",
      "17\n",
      "18\n",
      "19\n",
      "20\n",
      "21\n",
      "22\n",
      "23\n",
      "24\n",
      "25\n",
      "26\n",
      "27\n",
      "28\n",
      "29\n",
      "30\n",
      "31\n",
      "32\n"
     ]
    }
   ],
   "source": [
    "metrics = []\n",
    "i = 0\n",
    "for s, s_name in zip(['', '_msc', '_ano', '_iav'], ['raw', 'msc', 'ano', 'iav']):\n",
    "    for ds, n, ts in zip(\n",
    "            [dst_wn, dst_nn, dst_ww, dst_nw, dst_wn_m, dst_nn_m, dst_ww_m, dst_nw_m],\n",
    "            ['wn', 'nn', 'ww', 'nw'] * 2,\n",
    "            np.repeat(['daily', 'monthly'], 4)):\n",
    "        i += 1\n",
    "        print(i)\n",
    "        ds = ds.chunk({'time': -1, 'month': -1, 'year': -1})\n",
    "        if s_name == 'msc':\n",
    "            timedim = 'month'\n",
    "        elif s_name == 'iav':\n",
    "            timedim = 'year'\n",
    "        else:\n",
    "            timedim = 'time'\n",
    "        m = get_metrics(ds['mod' + s], ds['obs' + s], ['mef', 'rmse'], dim=timedim, verbose=False).compute()\n",
    "        m = m.expand_dims({'set': [s_name], 'model': [n], 'timeres': [ts], 'cvset': ['eval']}, axis=(0, 1, 2, 3))\n",
    "        metrics.append(m)\n",
    "\n",
    "i = 0\n",
    "for s, s_name in zip(['', '_msc', '_ano', '_iav'], ['raw', 'msc', 'ano', 'iav']):\n",
    "    for ds, n, ts in zip(\n",
    "            [dst_wn_tr, dst_nn_tr, dst_ww_tr, dst_nw_tr, dst_wn_tr_m, dst_nn_tr_m, dst_ww_tr_m, dst_nw_tr_m],\n",
    "            ['wn', 'nn', 'ww', 'nw'] * 2,\n",
    "            np.repeat(['daily', 'monthly'], 4)):\n",
    "        i += 1\n",
    "        print(i)\n",
    "        ds = ds.chunk({'time': -1, 'month': -1, 'year': -1})\n",
    "        if s_name == 'msc':\n",
    "            timedim = 'month'\n",
    "        elif s_name == 'iav':\n",
    "            timedim = 'year'\n",
    "        else:\n",
    "            timedim = 'time'\n",
    "        m = get_metrics(ds['mod' + s], ds['obs' + s], ['mef', 'rmse'], dim=timedim, verbose=False).compute()\n",
    "        m = m.expand_dims({'set': [s_name], 'model': [n], 'timeres': [ts], 'cvset': ['train']}, axis=(0, 1, 2, 3))\n",
    "        metrics.append(m)"
   ]
  },
  {
   "cell_type": "code",
   "execution_count": 14,
   "metadata": {},
   "outputs": [],
   "source": [
    "xr.merge(metrics).to_netcdf('/scratch/dl_chapter14/experiments/et/derived/spatial_metrics.nc')"
   ]
  },
  {
   "cell_type": "code",
   "execution_count": 5,
   "metadata": {},
   "outputs": [],
   "source": [
    "metrics = xr.open_dataset('/scratch/dl_chapter14/experiments/et/derived/spatial_metrics.nc')"
   ]
  },
  {
   "cell_type": "code",
   "execution_count": 6,
   "metadata": {},
   "outputs": [],
   "source": [
    "metrics['pft'] = data.pft.astype('int')"
   ]
  },
  {
   "cell_type": "code",
   "execution_count": 7,
   "metadata": {},
   "outputs": [
    {
     "data": {
      "text/html": [
       "<div>\n",
       "<style scoped>\n",
       "    .dataframe tbody tr th:only-of-type {\n",
       "        vertical-align: middle;\n",
       "    }\n",
       "\n",
       "    .dataframe tbody tr th {\n",
       "        vertical-align: top;\n",
       "    }\n",
       "\n",
       "    .dataframe thead th {\n",
       "        text-align: right;\n",
       "    }\n",
       "</style>\n",
       "<table border=\"1\" class=\"dataframe\">\n",
       "  <thead>\n",
       "    <tr style=\"text-align: right;\">\n",
       "      <th></th>\n",
       "      <th></th>\n",
       "      <th>cvset</th>\n",
       "      <th>model</th>\n",
       "      <th>set</th>\n",
       "      <th>timeres</th>\n",
       "      <th>mef</th>\n",
       "      <th>rmse</th>\n",
       "      <th>pft</th>\n",
       "    </tr>\n",
       "    <tr>\n",
       "      <th>lat</th>\n",
       "      <th>lon</th>\n",
       "      <th></th>\n",
       "      <th></th>\n",
       "      <th></th>\n",
       "      <th></th>\n",
       "      <th></th>\n",
       "      <th></th>\n",
       "      <th></th>\n",
       "    </tr>\n",
       "  </thead>\n",
       "  <tbody>\n",
       "    <tr>\n",
       "      <th rowspan=\"5\" valign=\"top\">82.75</th>\n",
       "      <th>-49.75</th>\n",
       "      <td>eval</td>\n",
       "      <td>nn</td>\n",
       "      <td>ano</td>\n",
       "      <td>daily</td>\n",
       "      <td>0.724082</td>\n",
       "      <td>0.102874</td>\n",
       "      <td>11</td>\n",
       "    </tr>\n",
       "    <tr>\n",
       "      <th>-49.75</th>\n",
       "      <td>eval</td>\n",
       "      <td>nn</td>\n",
       "      <td>ano</td>\n",
       "      <td>monthly</td>\n",
       "      <td>0.872152</td>\n",
       "      <td>0.035251</td>\n",
       "      <td>11</td>\n",
       "    </tr>\n",
       "    <tr>\n",
       "      <th>-49.75</th>\n",
       "      <td>eval</td>\n",
       "      <td>nn</td>\n",
       "      <td>iav</td>\n",
       "      <td>daily</td>\n",
       "      <td>0.820649</td>\n",
       "      <td>0.017424</td>\n",
       "      <td>11</td>\n",
       "    </tr>\n",
       "    <tr>\n",
       "      <th>-49.75</th>\n",
       "      <td>eval</td>\n",
       "      <td>nn</td>\n",
       "      <td>iav</td>\n",
       "      <td>monthly</td>\n",
       "      <td>0.818567</td>\n",
       "      <td>0.017440</td>\n",
       "      <td>11</td>\n",
       "    </tr>\n",
       "    <tr>\n",
       "      <th>-49.75</th>\n",
       "      <td>eval</td>\n",
       "      <td>nn</td>\n",
       "      <td>msc</td>\n",
       "      <td>daily</td>\n",
       "      <td>0.987257</td>\n",
       "      <td>0.021779</td>\n",
       "      <td>11</td>\n",
       "    </tr>\n",
       "    <tr>\n",
       "      <th>...</th>\n",
       "      <th>...</th>\n",
       "      <td>...</td>\n",
       "      <td>...</td>\n",
       "      <td>...</td>\n",
       "      <td>...</td>\n",
       "      <td>...</td>\n",
       "      <td>...</td>\n",
       "      <td>...</td>\n",
       "    </tr>\n",
       "    <tr>\n",
       "      <th rowspan=\"5\" valign=\"top\">-55.75</th>\n",
       "      <th>-67.25</th>\n",
       "      <td>train</td>\n",
       "      <td>ww</td>\n",
       "      <td>iav</td>\n",
       "      <td>monthly</td>\n",
       "      <td>0.792482</td>\n",
       "      <td>0.006949</td>\n",
       "      <td>7</td>\n",
       "    </tr>\n",
       "    <tr>\n",
       "      <th>-67.25</th>\n",
       "      <td>train</td>\n",
       "      <td>ww</td>\n",
       "      <td>msc</td>\n",
       "      <td>daily</td>\n",
       "      <td>0.919469</td>\n",
       "      <td>0.091780</td>\n",
       "      <td>7</td>\n",
       "    </tr>\n",
       "    <tr>\n",
       "      <th>-67.25</th>\n",
       "      <td>train</td>\n",
       "      <td>ww</td>\n",
       "      <td>msc</td>\n",
       "      <td>monthly</td>\n",
       "      <td>0.919472</td>\n",
       "      <td>0.091779</td>\n",
       "      <td>7</td>\n",
       "    </tr>\n",
       "    <tr>\n",
       "      <th>-67.25</th>\n",
       "      <td>train</td>\n",
       "      <td>ww</td>\n",
       "      <td>raw</td>\n",
       "      <td>daily</td>\n",
       "      <td>0.882694</td>\n",
       "      <td>0.125273</td>\n",
       "      <td>7</td>\n",
       "    </tr>\n",
       "    <tr>\n",
       "      <th>-67.25</th>\n",
       "      <td>train</td>\n",
       "      <td>ww</td>\n",
       "      <td>raw</td>\n",
       "      <td>monthly</td>\n",
       "      <td>0.915908</td>\n",
       "      <td>0.094547</td>\n",
       "      <td>7</td>\n",
       "    </tr>\n",
       "  </tbody>\n",
       "</table>\n",
       "<p>3240096 rows × 7 columns</p>\n",
       "</div>"
      ],
      "text/plain": [
       "               cvset model  set  timeres       mef      rmse  pft\n",
       "lat    lon                                                       \n",
       " 82.75 -49.75   eval    nn  ano    daily  0.724082  0.102874   11\n",
       "       -49.75   eval    nn  ano  monthly  0.872152  0.035251   11\n",
       "       -49.75   eval    nn  iav    daily  0.820649  0.017424   11\n",
       "       -49.75   eval    nn  iav  monthly  0.818567  0.017440   11\n",
       "       -49.75   eval    nn  msc    daily  0.987257  0.021779   11\n",
       "...              ...   ...  ...      ...       ...       ...  ...\n",
       "-55.75 -67.25  train    ww  iav  monthly  0.792482  0.006949    7\n",
       "       -67.25  train    ww  msc    daily  0.919469  0.091780    7\n",
       "       -67.25  train    ww  msc  monthly  0.919472  0.091779    7\n",
       "       -67.25  train    ww  raw    daily  0.882694  0.125273    7\n",
       "       -67.25  train    ww  raw  monthly  0.915908  0.094547    7\n",
       "\n",
       "[3240096 rows x 7 columns]"
      ]
     },
     "execution_count": 7,
     "metadata": {},
     "output_type": "execute_result"
    }
   ],
   "source": [
    "df = metrics.to_dataframe().dropna().reset_index(level=['model', 'set', 'timeres', 'cvset'])\n",
    "df"
   ]
  },
  {
   "cell_type": "code",
   "execution_count": 171,
   "metadata": {},
   "outputs": [
    {
     "data": {
      "text/html": [
       "<div>\n",
       "<style scoped>\n",
       "    .dataframe tbody tr th:only-of-type {\n",
       "        vertical-align: middle;\n",
       "    }\n",
       "\n",
       "    .dataframe tbody tr th {\n",
       "        vertical-align: top;\n",
       "    }\n",
       "\n",
       "    .dataframe thead tr th {\n",
       "        text-align: left;\n",
       "    }\n",
       "\n",
       "    .dataframe thead tr:last-of-type th {\n",
       "        text-align: right;\n",
       "    }\n",
       "</style>\n",
       "<table border=\"1\" class=\"dataframe\">\n",
       "  <thead>\n",
       "    <tr>\n",
       "      <th></th>\n",
       "      <th colspan=\"4\" halign=\"left\">mef</th>\n",
       "      <th colspan=\"4\" halign=\"left\">rmse</th>\n",
       "    </tr>\n",
       "    <tr>\n",
       "      <th></th>\n",
       "      <th>mean</th>\n",
       "      <th>q25</th>\n",
       "      <th>q50</th>\n",
       "      <th>q75</th>\n",
       "      <th>mean</th>\n",
       "      <th>q25</th>\n",
       "      <th>q50</th>\n",
       "      <th>q75</th>\n",
       "    </tr>\n",
       "    <tr>\n",
       "      <th>model</th>\n",
       "      <th></th>\n",
       "      <th></th>\n",
       "      <th></th>\n",
       "      <th></th>\n",
       "      <th></th>\n",
       "      <th></th>\n",
       "      <th></th>\n",
       "      <th></th>\n",
       "    </tr>\n",
       "  </thead>\n",
       "  <tbody>\n",
       "    <tr>\n",
       "      <th>nn</th>\n",
       "      <td>0.94</td>\n",
       "      <td>0.97</td>\n",
       "      <td>0.99</td>\n",
       "      <td>1.00</td>\n",
       "      <td>0.08</td>\n",
       "      <td>0.05</td>\n",
       "      <td>0.07</td>\n",
       "      <td>0.10</td>\n",
       "    </tr>\n",
       "    <tr>\n",
       "      <th>nw</th>\n",
       "      <td>0.71</td>\n",
       "      <td>0.82</td>\n",
       "      <td>0.97</td>\n",
       "      <td>0.99</td>\n",
       "      <td>0.17</td>\n",
       "      <td>0.07</td>\n",
       "      <td>0.13</td>\n",
       "      <td>0.23</td>\n",
       "    </tr>\n",
       "    <tr>\n",
       "      <th>wn</th>\n",
       "      <td>0.99</td>\n",
       "      <td>1.00</td>\n",
       "      <td>1.00</td>\n",
       "      <td>1.00</td>\n",
       "      <td>0.03</td>\n",
       "      <td>0.02</td>\n",
       "      <td>0.03</td>\n",
       "      <td>0.04</td>\n",
       "    </tr>\n",
       "    <tr>\n",
       "      <th>ww</th>\n",
       "      <td>0.91</td>\n",
       "      <td>0.95</td>\n",
       "      <td>0.99</td>\n",
       "      <td>1.00</td>\n",
       "      <td>0.10</td>\n",
       "      <td>0.06</td>\n",
       "      <td>0.08</td>\n",
       "      <td>0.12</td>\n",
       "    </tr>\n",
       "  </tbody>\n",
       "</table>\n",
       "</div>"
      ],
      "text/plain": [
       "        mef                    rmse                  \n",
       "       mean   q25   q50   q75  mean   q25   q50   q75\n",
       "model                                                \n",
       "nn     0.94  0.97  0.99  1.00  0.08  0.05  0.07  0.10\n",
       "nw     0.71  0.82  0.97  0.99  0.17  0.07  0.13  0.23\n",
       "wn     0.99  1.00  1.00  1.00  0.03  0.02  0.03  0.04\n",
       "ww     0.91  0.95  0.99  1.00  0.10  0.06  0.08  0.12"
      ]
     },
     "execution_count": 171,
     "metadata": {},
     "output_type": "execute_result"
    }
   ],
   "source": [
    "def q25(x):\n",
    "    return x.quantile(0.25)\n",
    "\n",
    "def q50(x):\n",
    "    return x.quantile(0.50)\n",
    "\n",
    "def q75(x):\n",
    "    return x.quantile(0.75)\n",
    "\n",
    "f = {'mef': ['mean',q25,q50,q75], 'rmse': ['mean',q25,q50,q75]}\n",
    "\n",
    "df[\n",
    "    (df.cvset   == 'eval') &\n",
    "    (df.set     == 'msc') &\n",
    "    (df.timeres == 'daily')\n",
    "].groupby('model').agg(f).round(2)"
   ]
  },
  {
   "cell_type": "code",
   "execution_count": 56,
   "metadata": {},
   "outputs": [
    {
     "data": {
      "text/html": [
       "<div>\n",
       "<style scoped>\n",
       "    .dataframe tbody tr th:only-of-type {\n",
       "        vertical-align: middle;\n",
       "    }\n",
       "\n",
       "    .dataframe tbody tr th {\n",
       "        vertical-align: top;\n",
       "    }\n",
       "\n",
       "    .dataframe thead tr th {\n",
       "        text-align: left;\n",
       "    }\n",
       "\n",
       "    .dataframe thead tr:last-of-type th {\n",
       "        text-align: right;\n",
       "    }\n",
       "</style>\n",
       "<table border=\"1\" class=\"dataframe\">\n",
       "  <thead>\n",
       "    <tr>\n",
       "      <th></th>\n",
       "      <th colspan=\"4\" halign=\"left\">mef</th>\n",
       "      <th colspan=\"4\" halign=\"left\">rmse</th>\n",
       "    </tr>\n",
       "    <tr>\n",
       "      <th></th>\n",
       "      <th>mean</th>\n",
       "      <th>q25</th>\n",
       "      <th>q50</th>\n",
       "      <th>q75</th>\n",
       "      <th>mean</th>\n",
       "      <th>q25</th>\n",
       "      <th>q50</th>\n",
       "      <th>q75</th>\n",
       "    </tr>\n",
       "    <tr>\n",
       "      <th>model</th>\n",
       "      <th></th>\n",
       "      <th></th>\n",
       "      <th></th>\n",
       "      <th></th>\n",
       "      <th></th>\n",
       "      <th></th>\n",
       "      <th></th>\n",
       "      <th></th>\n",
       "    </tr>\n",
       "  </thead>\n",
       "  <tbody>\n",
       "    <tr>\n",
       "      <th>nn</th>\n",
       "      <td>0.95</td>\n",
       "      <td>0.94</td>\n",
       "      <td>0.97</td>\n",
       "      <td>0.98</td>\n",
       "      <td>0.21</td>\n",
       "      <td>0.16</td>\n",
       "      <td>0.19</td>\n",
       "      <td>0.24</td>\n",
       "    </tr>\n",
       "    <tr>\n",
       "      <th>nw</th>\n",
       "      <td>0.76</td>\n",
       "      <td>0.67</td>\n",
       "      <td>0.89</td>\n",
       "      <td>0.95</td>\n",
       "      <td>0.41</td>\n",
       "      <td>0.26</td>\n",
       "      <td>0.33</td>\n",
       "      <td>0.50</td>\n",
       "    </tr>\n",
       "    <tr>\n",
       "      <th>wn</th>\n",
       "      <td>0.97</td>\n",
       "      <td>0.96</td>\n",
       "      <td>0.98</td>\n",
       "      <td>0.99</td>\n",
       "      <td>0.17</td>\n",
       "      <td>0.12</td>\n",
       "      <td>0.15</td>\n",
       "      <td>0.20</td>\n",
       "    </tr>\n",
       "    <tr>\n",
       "      <th>ww</th>\n",
       "      <td>0.88</td>\n",
       "      <td>0.86</td>\n",
       "      <td>0.93</td>\n",
       "      <td>0.96</td>\n",
       "      <td>0.30</td>\n",
       "      <td>0.22</td>\n",
       "      <td>0.27</td>\n",
       "      <td>0.35</td>\n",
       "    </tr>\n",
       "  </tbody>\n",
       "</table>\n",
       "</div>"
      ],
      "text/plain": [
       "        mef                    rmse                  \n",
       "       mean   q25   q50   q75  mean   q25   q50   q75\n",
       "model                                                \n",
       "nn     0.95  0.94  0.97  0.98  0.21  0.16  0.19  0.24\n",
       "nw     0.76  0.67  0.89  0.95  0.41  0.26  0.33  0.50\n",
       "wn     0.97  0.96  0.98  0.99  0.17  0.12  0.15  0.20\n",
       "ww     0.88  0.86  0.93  0.96  0.30  0.22  0.27  0.35"
      ]
     },
     "execution_count": 56,
     "metadata": {},
     "output_type": "execute_result"
    }
   ],
   "source": [
    "def q25(x):\n",
    "    return x.quantile(0.25)\n",
    "\n",
    "def q50(x):\n",
    "    return x.quantile(0.50)\n",
    "\n",
    "def q75(x):\n",
    "    return x.quantile(0.75)\n",
    "\n",
    "f = {'mef': ['mean',q25,q50,q75], 'rmse': ['mean',q25,q50,q75]}\n",
    "\n",
    "df[\n",
    "    (df.cvset   == 'eval') &\n",
    "    (df.set     == 'raw') &\n",
    "    (df.timeres == 'daily') &\n",
    "    (df.pft     != 2)\n",
    "].groupby('model').agg(f).round(2)"
   ]
  },
  {
   "cell_type": "code",
   "execution_count": 62,
   "metadata": {},
   "outputs": [
    {
     "data": {
      "text/html": [
       "<div>\n",
       "<style scoped>\n",
       "    .dataframe tbody tr th:only-of-type {\n",
       "        vertical-align: middle;\n",
       "    }\n",
       "\n",
       "    .dataframe tbody tr th {\n",
       "        vertical-align: top;\n",
       "    }\n",
       "\n",
       "    .dataframe thead tr th {\n",
       "        text-align: left;\n",
       "    }\n",
       "\n",
       "    .dataframe thead tr:last-of-type th {\n",
       "        text-align: right;\n",
       "    }\n",
       "</style>\n",
       "<table border=\"1\" class=\"dataframe\">\n",
       "  <thead>\n",
       "    <tr>\n",
       "      <th></th>\n",
       "      <th colspan=\"4\" halign=\"left\">mef</th>\n",
       "      <th colspan=\"4\" halign=\"left\">rmse</th>\n",
       "    </tr>\n",
       "    <tr>\n",
       "      <th></th>\n",
       "      <th>mean</th>\n",
       "      <th>q25</th>\n",
       "      <th>q50</th>\n",
       "      <th>q75</th>\n",
       "      <th>mean</th>\n",
       "      <th>q25</th>\n",
       "      <th>q50</th>\n",
       "      <th>q75</th>\n",
       "    </tr>\n",
       "    <tr>\n",
       "      <th>model</th>\n",
       "      <th></th>\n",
       "      <th></th>\n",
       "      <th></th>\n",
       "      <th></th>\n",
       "      <th></th>\n",
       "      <th></th>\n",
       "      <th></th>\n",
       "      <th></th>\n",
       "    </tr>\n",
       "  </thead>\n",
       "  <tbody>\n",
       "    <tr>\n",
       "      <th>nn</th>\n",
       "      <td>0.74</td>\n",
       "      <td>0.65</td>\n",
       "      <td>0.75</td>\n",
       "      <td>0.87</td>\n",
       "      <td>0.46</td>\n",
       "      <td>0.38</td>\n",
       "      <td>0.48</td>\n",
       "      <td>0.55</td>\n",
       "    </tr>\n",
       "    <tr>\n",
       "      <th>nw</th>\n",
       "      <td>0.55</td>\n",
       "      <td>0.46</td>\n",
       "      <td>0.57</td>\n",
       "      <td>0.68</td>\n",
       "      <td>0.61</td>\n",
       "      <td>0.51</td>\n",
       "      <td>0.61</td>\n",
       "      <td>0.69</td>\n",
       "    </tr>\n",
       "    <tr>\n",
       "      <th>wn</th>\n",
       "      <td>0.77</td>\n",
       "      <td>0.67</td>\n",
       "      <td>0.78</td>\n",
       "      <td>0.91</td>\n",
       "      <td>0.42</td>\n",
       "      <td>0.34</td>\n",
       "      <td>0.45</td>\n",
       "      <td>0.53</td>\n",
       "    </tr>\n",
       "    <tr>\n",
       "      <th>ww</th>\n",
       "      <td>0.67</td>\n",
       "      <td>0.56</td>\n",
       "      <td>0.69</td>\n",
       "      <td>0.81</td>\n",
       "      <td>0.52</td>\n",
       "      <td>0.45</td>\n",
       "      <td>0.55</td>\n",
       "      <td>0.62</td>\n",
       "    </tr>\n",
       "  </tbody>\n",
       "</table>\n",
       "</div>"
      ],
      "text/plain": [
       "        mef                    rmse                  \n",
       "       mean   q25   q50   q75  mean   q25   q50   q75\n",
       "model                                                \n",
       "nn     0.74  0.65  0.75  0.87  0.46  0.38  0.48  0.55\n",
       "nw     0.55  0.46  0.57  0.68  0.61  0.51  0.61  0.69\n",
       "wn     0.77  0.67  0.78  0.91  0.42  0.34  0.45  0.53\n",
       "ww     0.67  0.56  0.69  0.81  0.52  0.45  0.55  0.62"
      ]
     },
     "execution_count": 62,
     "metadata": {},
     "output_type": "execute_result"
    }
   ],
   "source": [
    "def q25(x):\n",
    "    return x.quantile(0.25)\n",
    "\n",
    "def q50(x):\n",
    "    return x.quantile(0.50)\n",
    "\n",
    "def q75(x):\n",
    "    return x.quantile(0.75)\n",
    "\n",
    "f = {'mef': ['mean',q25,q50,q75], 'rmse': ['mean',q25,q50,q75]}\n",
    "\n",
    "df[\n",
    "    (df.cvset   == 'eval') &\n",
    "    (df.set     == 'raw') &\n",
    "    (df.timeres == 'daily') &\n",
    "    (df.pft     == 2)\n",
    "].groupby('model').agg(f).round(2)"
   ]
  },
  {
   "cell_type": "code",
   "execution_count": 39,
   "metadata": {},
   "outputs": [
    {
     "data": {
      "image/png": "[encoded data removed]",
      "text/plain": [
       "<Figure size 864x72 with 1 Axes>"
      ]
     },
     "metadata": {
      "needs_background": "light"
     },
     "output_type": "display_data"
    }
   ],
   "source": [
    "sb.palplot(sb.color_palette(\"Paired\"))"
   ]
  },
  {
   "cell_type": "code",
   "execution_count": 47,
   "metadata": {},
   "outputs": [
    {
     "data": {
      "text/plain": [
       "<matplotlib.collections.PathCollection at 0x7f621c505710>"
      ]
     },
     "execution_count": 47,
     "metadata": {},
     "output_type": "execute_result"
    },
    {
     "data": {
      "image/png": "[encoded data removed]",
      "text/plain": [
       "<Figure size 443.578x274.147 with 1 Axes>"
      ]
     },
     "metadata": {
      "needs_background": "light"
     },
     "output_type": "display_data"
    }
   ],
   "source": [
    "plt.scatter(1, 2, color=sb.color_palette(\"Paired\")[3])"
   ]
  },
  {
   "cell_type": "code",
   "execution_count": 8,
   "metadata": {},
   "outputs": [],
   "source": [
    "order = ['raw', 'msc', 'ano', 'iav']\n",
    "hue_order = ['wn', 'nn', 'ww', 'nw']"
   ]
  },
  {
   "cell_type": "code",
   "execution_count": 180,
   "metadata": {},
   "outputs": [
    {
     "data": {
      "text/plain": [
       "<Figure size 432x288 with 0 Axes>"
      ]
     },
     "metadata": {},
     "output_type": "display_data"
    },
    {
     "data": {
      "image/png": "[encoded data removed]",
      "text/plain": [
       "<Figure size 443.578x274.147 with 4 Axes>"
      ]
     },
     "metadata": {
      "needs_background": "light"
     },
     "output_type": "display_data"
    }
   ],
   "source": [
    "fig, ax = new_subplots(2, 2, 0.7, sharey='row', sharex=True, gridspec_kw={'wspace': 0.02, 'hspace': 0.04})\n",
    "\n",
    "plot_kwargs = dict(\n",
    "    order=order,\n",
    "    hue_order=hue_order,\n",
    "    palette='Paired'\n",
    ")\n",
    "\n",
    "p1 = sb.boxplot(x=\"set\", y=\"mef\", hue=\"model\", data=df.loc[(df['timeres']=='daily') & (df['cvset']=='train'), :], showfliers=False, ax=ax[0, 0], **plot_kwargs)\n",
    "p2 = sb.boxplot(x=\"set\", y=\"mef\", hue=\"model\", data=df.loc[(df['timeres']=='daily') & (df['cvset']=='eval'), :], showfliers=False, ax=ax[0, 1], **plot_kwargs)\n",
    "p3 = sb.boxplot(x=\"set\", y=\"rmse\", hue=\"model\", data=df.loc[(df['timeres']=='daily') & (df['cvset']=='train'), :], showfliers=False, ax=ax[1, 0], **plot_kwargs)\n",
    "p4 = sb.boxplot(x=\"set\", y=\"rmse\", hue=\"model\", data=df.loc[(df['timeres']=='daily') & (df['cvset']=='eval'), :], showfliers=False, ax=ax[1, 1], **plot_kwargs)\n",
    "\n",
    "ax[0, 0].legend().set_visible(False)\n",
    "ax[0, 1].legend().set_visible(False)\n",
    "ax[1, 0].legend().set_visible(False)\n",
    "ax[1, 1].legend().set_visible(False)\n",
    "\n",
    "ax[1, 0].set_xticklabels(['daily', 'daily\\nseas. cycle', 'daily\\nanomalies', 'interannual\\nanomalies']);\n",
    "ax[1, 1].set_xticklabels(['daily', 'daily\\nseas. cycle', 'daily\\nanomalies', 'interannual\\nanomalies']);\n",
    "ax[1, 0].set_xlabel('')\n",
    "ax[1, 1].set_xlabel('')\n",
    "ax[1, 1].set_xlabel('')\n",
    "ax[0, 0].set_ylabel('NSE ($-$)')\n",
    "ax[1, 0].set_ylabel('RMSE ($mm \\ day^{-1}$)')\n",
    "ax[0, 1].set_ylim(-0.6, 1.001);\n",
    "ax[1, 1].set_ylim(0, 1.0);\n",
    "\n",
    "for ax_ in ax.flat:\n",
    "    ax_.label_outer()\n",
    "    ax_.set_axisbelow(True)\n",
    "    ax_.grid(axis='y', color='0.5', linewidth=0.2)\n",
    "\n",
    "ax[0, 0].set_title('training')\n",
    "ax[0, 1].set_title('test')\n",
    "\n",
    "ax[0, 0].tick_params(axis='x', which='both',length=0)\n",
    "ax[0, 1].tick_params(axis='both', which='both',length=0)\n",
    "ax[1, 1].tick_params(axis='y', which='both',length=0)\n",
    "\n",
    "ax[0, 0].yaxis.set_major_formatter(FormatStrFormatter('%.2f'))\n",
    "ax[1, 0].yaxis.set_major_formatter(FormatStrFormatter('%.2f'))\n",
    "\n",
    "fig.align_ylabels(ax[:, 0])\n",
    "\n",
    "colors = [\n",
    "    sb.color_palette(\"Paired\")[0],\n",
    "    sb.color_palette(\"Paired\")[1],\n",
    "    sb.color_palette(\"Paired\")[2],\n",
    "    sb.color_palette(\"Paired\")[3]\n",
    "] * 4\n",
    "\n",
    "for ax_ in ax.flat:\n",
    "    ax_.spines['top'].set_visible(False)\n",
    "    ax_.spines['right'].set_visible(False)\n",
    "    \n",
    "    for p, (patch, color) in enumerate(zip(ax_.artists, colors)):\n",
    "        patch.set_facecolor(color)\n",
    "        patch.set_alpha(0.8)\n",
    "        patch.set_linewidth(0.)\n",
    "\n",
    "        for q in range(p*5, p*5+5):\n",
    "\n",
    "            # print(len(ax_.lines), q)\n",
    "            line = ax_.lines[q]\n",
    "            line.set_color(color)\n",
    "\n",
    "            # whiskers\n",
    "            if (q % 5 == 0) or (q % 5 == 1):\n",
    "                line.set_linewidth(0.9)\n",
    "\n",
    "            # caps\n",
    "            if (q % 5 == 2) or (q % 5 == 3):\n",
    "                line.set_linewidth(0.9)\n",
    "\n",
    "            # median\n",
    "            if (q % 5 == 4):\n",
    "                line.set_linewidth(0)\n",
    "                x, y = line.get_data()\n",
    "                xn = (x-(x.sum()/2.))*0.95+(x.sum()/2.)\n",
    "                color = [c - o for c, o in zip(color, [0.12, 0.12, 0.12, 0])]\n",
    "                ax_.plot(xn, y, color=color, linewidth=1.2, solid_capstyle=\"butt\", zorder=4, alpha=1)\n",
    "\n",
    "legend = ax[1, 0].legend(loc='upper center', bbox_to_anchor=(1.0, -0.2), ncol=4, title='', frameon=False)\n",
    "for t, l in zip(legend.texts, [r'$\\mathrm{LSTM_{SM}}$', r'$\\mathrm{LSTM_{\\neg SM}}$', r'$\\mathrm{FC_{SM}}$', r'$\\mathrm{FC_{\\neg SM}}$']):\n",
    "    t.set_text(l)\n",
    "\n",
    "for legpatch in legend.get_patches():\n",
    "    col = legpatch.get_facecolor()\n",
    "    col_alpha = list(col)\n",
    "    col_alpha[-1] = 0.8\n",
    "    legpatch.set_edgecolor(col)\n",
    "    legpatch.set_facecolor(col_alpha)\n",
    "    legpatch.set_linewidth(0)\n",
    "\n",
    "# fig.savefig('/workspace/bkraft/dl_chapter14/src/notebooks/exp1_figures/boxplot.pgf')\n",
    "savefig('/workspace/bkraft/dl_chapter14/src/notebooks/exp1_figures/Fig4')"
   ]
  },
  {
   "cell_type": "code",
   "execution_count": 67,
   "metadata": {},
   "outputs": [
    {
     "data": {
      "image/png": "[encoded data removed]",
      "text/plain": [
       "<Figure size 443.578x532.294 with 16 Axes>"
      ]
     },
     "metadata": {
      "needs_background": "light"
     },
     "output_type": "display_data"
    }
   ],
   "source": [
    "fig, axes = subplots_robinson(4, 2, figsize=(fig_size[0], fig_size[0]*1.2), gridspec_kw={'wspace': 0.01, 'hspace': 0.01})\n",
    "\n",
    "for i, met in enumerate(['mef', 'rmse']):\n",
    "    \n",
    "    for j, (mod, mod_name) in enumerate(zip(['wn', 'nn', 'ww', 'nw'], [r'$\\mathrm{LSTM_{SM}}$', r'$\\mathrm{LSTM_{\\neg SM}}$', r'$\\mathrm{FC_{SM}}$', r'$\\mathrm{FC_{\\neg SM}}$'])):\n",
    "\n",
    "        ax = axes[j, i]\n",
    "        dt = metrics[met].sel(model=mod, timeres='daily', set='raw', cvset='eval')\n",
    "        label = 'NSE ($-$)' if met=='mef' else 'RMSE ($mm \\ day^{-1}$)'\n",
    "        plot_map(\n",
    "            dt, label=' ', rasterized=True, vmin=0 if met=='mef' else 0.1, vmax=1 if met=='mef' else 1, cmap='plasma' if met=='mef' else 'plasma_r', ax=ax,\n",
    "            histogram_placement=[0.05, 0.27, 0.2, 0.25], hist_kw={'bins': 20, 'edgecolor': 'none'}, cbar_kwargs={'extend': 'min'})\n",
    "        ax.set_title('')\n",
    "        if i == 0:\n",
    "            ax.text(-0.02, 0.45, mod_name, horizontalalignment='right', verticalalignment='center', transform=ax.transAxes, rotation=90, size=9)\n",
    "        if j == 0:\n",
    "            ax.set_title(label, size=9)\n",
    "        ax.outline_patch.set_linewidth(0.5)\n",
    "\n",
    "savefig('/workspace/bkraft/dl_chapter14/src/notebooks/exp1_figures/Fig2', dpi=300)"
   ]
  },
  {
   "cell_type": "code",
   "execution_count": null,
   "metadata": {},
   "outputs": [],
   "source": [
    "plt.pcolormesh()"
   ]
  },
  {
   "cell_type": "code",
   "execution_count": 31,
   "metadata": {},
   "outputs": [
    {
     "name": "stdout",
     "output_type": "stream",
     "text": [
      "{\n",
      "  \"dense_activation\": \"relu\",\n",
      "  \"dense_hidden_size\": 200,\n",
      "  \"dense_num_layers\": 6,\n",
      "  \"dropout_in\": 0.0,\n",
      "  \"dropout_linear\": 0.0,\n",
      "  \"hc_config\": {\n",
      "    \"batch_size\": 64,\n",
      "    \"data_path\": \"/scratch/dl_chapter14/data/data.zarr/\",\n",
      "    \"experiment_name\": \"w_sm.w_perm\",\n",
      "    \"grace_period\": 50,\n",
      "    \"halving_factor\": 3,\n",
      "    \"input_vars\": [\n",
      "      \"ccover\",\n",
      "      \"lai\",\n",
      "      \"lwdown\",\n",
      "      \"swdown\",\n",
      "      \"psurf\",\n",
      "      \"qair\",\n",
      "      \"tair\",\n",
      "      \"wind\",\n",
      "      \"rainf\",\n",
      "      \"snowf\",\n",
      "      \"mrlsl_shal\",\n",
      "      \"mrlsl_deep\"\n",
      "    ],\n",
      "    \"input_vars_static\": [\n",
      "      \"soil_properties\",\n",
      "      \"pft\"\n",
      "    ],\n",
      "    \"is_temporal\": false,\n",
      "    \"is_tune\": true,\n",
      "    \"loss_fn\": \"MSE\",\n",
      "    \"max_t\": 120,\n",
      "    \"metric\": \"loss_eval\",\n",
      "    \"ncpu_per_run\": 10,\n",
      "    \"ngpu_per_run\": 1.0,\n",
      "    \"num_samples\": 134,\n",
      "    \"num_workers\": 8,\n",
      "    \"optimizer\": \"Adam\",\n",
      "    \"patience\": 30,\n",
      "    \"pin_memory\": false,\n",
      "    \"small_aoi\": false,\n",
      "    \"store\": \"/scratch/dl_chapter14/experiments\",\n",
      "    \"target_var\": \"et\",\n",
      "    \"time\": {\n",
      "      \"eval\": [\n",
      "        \"2000-01-01\",\n",
      "        \"2013-12-31\"\n",
      "      ],\n",
      "      \"train\": [\n",
      "        \"1981-01-01\",\n",
      "        \"2000-12-31\"\n",
      "      ],\n",
      "      \"train_seq_length\": 2000,\n",
      "      \"warmup\": 5\n",
      "    },\n",
      "    \"train_sample_size\": 600\n",
      "  },\n",
      "  \"learning_rate\": 0.01,\n",
      "  \"weight_decay\": 0.001\n",
      "}"
     ]
    }
   ],
   "source": [
    "!cat '/scratch/dl_chapter14/experiments/et/w_sm.w_perm/hptune/summary/best_params.json'"
   ]
  },
  {
   "cell_type": "code",
   "execution_count": 119,
   "metadata": {},
   "outputs": [
    {
     "name": "stdout",
     "output_type": "stream",
     "text": [
      "model:  wn\n",
      "NSE: 0.71, 0.48\n",
      "model:  nn\n"
     ]
    },
    {
     "name": "stderr",
     "output_type": "stream",
     "text": [
      "/opt/conda/lib/python3.6/site-packages/ipykernel_launcher.py:3: FutureWarning: Interpreting tuple 'by' as a list of keys, rather than a single key. Use 'by=[...]' instead of 'by=(...)'. In the future, a tuple will always mean a single key.\n",
      "  This is separate from the ipykernel package so we can avoid doing imports until\n"
     ]
    },
    {
     "name": "stdout",
     "output_type": "stream",
     "text": [
      "NSE: 0.70, 0.48\n",
      "model:  ww\n",
      "NSE: 0.64, 0.55\n",
      "model:  nw\n",
      "NSE: 0.60, 0.57\n"
     ]
    }
   ],
   "source": [
    "for m in ('wn', 'nn', 'ww', 'nw'):\n",
    "    print('model: ', m)\n",
    "    pd_pft = df.loc[(df['timeres']=='daily') & (df['cvset']=='eval') & (df['model']==m), :].groupby(('pft', 'set'))\n",
    "    pd_pft = pd.concat((pd_pft.mean(), pd_pft.count()['model']), axis=1).reset_index(level=['pft','set'])\n",
    "    met = pd_pft.loc[(pd_pft['pft']==2) & (pd_pft['set']=='raw'),:].mean()\n",
    "    print(f'NSE: {met[\"mef\"]:0.2f}, {met[\"rmse\"]:0.2f}')"
   ]
  },
  {
   "cell_type": "code",
   "execution_count": 126,
   "metadata": {},
   "outputs": [
    {
     "data": {
      "text/plain": [
       "array([0.21018645])"
      ]
     },
     "execution_count": 126,
     "metadata": {},
     "output_type": "execute_result"
    }
   ],
   "source": [
    "met['rmse'].values"
   ]
  },
  {
   "cell_type": "code",
   "execution_count": 128,
   "metadata": {},
   "outputs": [
    {
     "name": "stdout",
     "output_type": "stream",
     "text": [
      "model:  wn\n",
      "NSE: 0.95, 0.21\n",
      "model:  nn\n"
     ]
    },
    {
     "name": "stderr",
     "output_type": "stream",
     "text": [
      "/opt/conda/lib/python3.6/site-packages/ipykernel_launcher.py:3: FutureWarning: Interpreting tuple 'by' as a list of keys, rather than a single key. Use 'by=[...]' instead of 'by=(...)'. In the future, a tuple will always mean a single key.\n",
      "  This is separate from the ipykernel package so we can avoid doing imports until\n"
     ]
    },
    {
     "name": "stdout",
     "output_type": "stream",
     "text": [
      "NSE: 0.94, 0.21\n",
      "model:  ww\n",
      "NSE: 0.87, 0.31\n",
      "model:  nw\n",
      "NSE: 0.81, 0.36\n"
     ]
    }
   ],
   "source": [
    "for m in ('wn', 'nn', 'ww', 'nw'):\n",
    "    print('model: ', m)\n",
    "    pd_pft = df.loc[(df['timeres']=='daily') & (df['cvset']=='eval') & (df['model']==m), :].groupby(('pft', 'set'))\n",
    "    pd_pft = pd.concat((pd_pft.mean(), pd_pft.count()['model']), axis=1).reset_index(level=['pft','set'])\n",
    "    met = pd_pft.loc[(pd_pft['pft']!=2) & (pd_pft['set']=='raw'),:].groupby(('set')).mean()\n",
    "    print(f'NSE: {met[\"mef\"].values[0]:0.2f}, {met[\"rmse\"].values[0]:0.2f}')"
   ]
  },
  {
   "cell_type": "code",
   "execution_count": 94,
   "metadata": {},
   "outputs": [
    {
     "name": "stderr",
     "output_type": "stream",
     "text": [
      "/opt/conda/lib/python3.6/site-packages/ipykernel_launcher.py:1: FutureWarning: Interpreting tuple 'by' as a list of keys, rather than a single key. Use 'by=[...]' instead of 'by=(...)'. In the future, a tuple will always mean a single key.\n",
      "  \"\"\"Entry point for launching an IPython kernel.\n"
     ]
    },
    {
     "data": {
      "text/html": [
       "<div>\n",
       "<style scoped>\n",
       "    .dataframe tbody tr th:only-of-type {\n",
       "        vertical-align: middle;\n",
       "    }\n",
       "\n",
       "    .dataframe tbody tr th {\n",
       "        vertical-align: top;\n",
       "    }\n",
       "\n",
       "    .dataframe thead th {\n",
       "        text-align: right;\n",
       "    }\n",
       "</style>\n",
       "<table border=\"1\" class=\"dataframe\">\n",
       "  <thead>\n",
       "    <tr style=\"text-align: right;\">\n",
       "      <th></th>\n",
       "      <th>pft</th>\n",
       "      <th>set</th>\n",
       "      <th>mef</th>\n",
       "      <th>rmse</th>\n",
       "      <th>model</th>\n",
       "    </tr>\n",
       "  </thead>\n",
       "  <tbody>\n",
       "    <tr>\n",
       "      <th>0</th>\n",
       "      <td>2</td>\n",
       "      <td>ano</td>\n",
       "      <td>0.678900</td>\n",
       "      <td>0.461140</td>\n",
       "      <td>5112</td>\n",
       "    </tr>\n",
       "    <tr>\n",
       "      <th>1</th>\n",
       "      <td>2</td>\n",
       "      <td>iav</td>\n",
       "      <td>0.794918</td>\n",
       "      <td>0.043168</td>\n",
       "      <td>5112</td>\n",
       "    </tr>\n",
       "    <tr>\n",
       "      <th>2</th>\n",
       "      <td>2</td>\n",
       "      <td>msc</td>\n",
       "      <td>0.579744</td>\n",
       "      <td>0.111722</td>\n",
       "      <td>5112</td>\n",
       "    </tr>\n",
       "    <tr>\n",
       "      <th>3</th>\n",
       "      <td>2</td>\n",
       "      <td>raw</td>\n",
       "      <td>0.699384</td>\n",
       "      <td>0.482448</td>\n",
       "      <td>5112</td>\n",
       "    </tr>\n",
       "    <tr>\n",
       "      <th>4</th>\n",
       "      <td>3</td>\n",
       "      <td>ano</td>\n",
       "      <td>0.840044</td>\n",
       "      <td>0.231431</td>\n",
       "      <td>1693</td>\n",
       "    </tr>\n",
       "    <tr>\n",
       "      <th>5</th>\n",
       "      <td>3</td>\n",
       "      <td>iav</td>\n",
       "      <td>0.827647</td>\n",
       "      <td>0.021844</td>\n",
       "      <td>1693</td>\n",
       "    </tr>\n",
       "    <tr>\n",
       "      <th>6</th>\n",
       "      <td>3</td>\n",
       "      <td>msc</td>\n",
       "      <td>0.980368</td>\n",
       "      <td>0.048368</td>\n",
       "      <td>1693</td>\n",
       "    </tr>\n",
       "    <tr>\n",
       "      <th>7</th>\n",
       "      <td>3</td>\n",
       "      <td>raw</td>\n",
       "      <td>0.960902</td>\n",
       "      <td>0.238665</td>\n",
       "      <td>1693</td>\n",
       "    </tr>\n",
       "    <tr>\n",
       "      <th>8</th>\n",
       "      <td>4</td>\n",
       "      <td>ano</td>\n",
       "      <td>0.803231</td>\n",
       "      <td>0.258093</td>\n",
       "      <td>2251</td>\n",
       "    </tr>\n",
       "    <tr>\n",
       "      <th>9</th>\n",
       "      <td>4</td>\n",
       "      <td>iav</td>\n",
       "      <td>0.780242</td>\n",
       "      <td>0.024074</td>\n",
       "      <td>2251</td>\n",
       "    </tr>\n",
       "    <tr>\n",
       "      <th>10</th>\n",
       "      <td>4</td>\n",
       "      <td>msc</td>\n",
       "      <td>0.987048</td>\n",
       "      <td>0.058592</td>\n",
       "      <td>2251</td>\n",
       "    </tr>\n",
       "    <tr>\n",
       "      <th>11</th>\n",
       "      <td>4</td>\n",
       "      <td>raw</td>\n",
       "      <td>0.935430</td>\n",
       "      <td>0.267860</td>\n",
       "      <td>2251</td>\n",
       "    </tr>\n",
       "    <tr>\n",
       "      <th>12</th>\n",
       "      <td>5</td>\n",
       "      <td>ano</td>\n",
       "      <td>0.830868</td>\n",
       "      <td>0.261053</td>\n",
       "      <td>5152</td>\n",
       "    </tr>\n",
       "    <tr>\n",
       "      <th>13</th>\n",
       "      <td>5</td>\n",
       "      <td>iav</td>\n",
       "      <td>0.830595</td>\n",
       "      <td>0.023455</td>\n",
       "      <td>5152</td>\n",
       "    </tr>\n",
       "    <tr>\n",
       "      <th>14</th>\n",
       "      <td>5</td>\n",
       "      <td>msc</td>\n",
       "      <td>0.979229</td>\n",
       "      <td>0.049263</td>\n",
       "      <td>5152</td>\n",
       "    </tr>\n",
       "    <tr>\n",
       "      <th>15</th>\n",
       "      <td>5</td>\n",
       "      <td>raw</td>\n",
       "      <td>0.943490</td>\n",
       "      <td>0.268669</td>\n",
       "      <td>5152</td>\n",
       "    </tr>\n",
       "    <tr>\n",
       "      <th>16</th>\n",
       "      <td>6</td>\n",
       "      <td>ano</td>\n",
       "      <td>0.811906</td>\n",
       "      <td>0.206276</td>\n",
       "      <td>2335</td>\n",
       "    </tr>\n",
       "    <tr>\n",
       "      <th>17</th>\n",
       "      <td>6</td>\n",
       "      <td>iav</td>\n",
       "      <td>0.845045</td>\n",
       "      <td>0.013914</td>\n",
       "      <td>2335</td>\n",
       "    </tr>\n",
       "    <tr>\n",
       "      <th>18</th>\n",
       "      <td>6</td>\n",
       "      <td>msc</td>\n",
       "      <td>0.998706</td>\n",
       "      <td>0.028750</td>\n",
       "      <td>2335</td>\n",
       "    </tr>\n",
       "    <tr>\n",
       "      <th>19</th>\n",
       "      <td>6</td>\n",
       "      <td>raw</td>\n",
       "      <td>0.962207</td>\n",
       "      <td>0.208688</td>\n",
       "      <td>2335</td>\n",
       "    </tr>\n",
       "    <tr>\n",
       "      <th>20</th>\n",
       "      <td>7</td>\n",
       "      <td>ano</td>\n",
       "      <td>0.869790</td>\n",
       "      <td>0.228373</td>\n",
       "      <td>12129</td>\n",
       "    </tr>\n",
       "    <tr>\n",
       "      <th>21</th>\n",
       "      <td>7</td>\n",
       "      <td>iav</td>\n",
       "      <td>0.888197</td>\n",
       "      <td>0.038762</td>\n",
       "      <td>12129</td>\n",
       "    </tr>\n",
       "    <tr>\n",
       "      <th>22</th>\n",
       "      <td>7</td>\n",
       "      <td>msc</td>\n",
       "      <td>0.942089</td>\n",
       "      <td>0.085768</td>\n",
       "      <td>12129</td>\n",
       "    </tr>\n",
       "    <tr>\n",
       "      <th>23</th>\n",
       "      <td>7</td>\n",
       "      <td>raw</td>\n",
       "      <td>0.923288</td>\n",
       "      <td>0.248616</td>\n",
       "      <td>12129</td>\n",
       "    </tr>\n",
       "    <tr>\n",
       "      <th>24</th>\n",
       "      <td>8</td>\n",
       "      <td>ano</td>\n",
       "      <td>0.886760</td>\n",
       "      <td>0.161665</td>\n",
       "      <td>2375</td>\n",
       "    </tr>\n",
       "    <tr>\n",
       "      <th>25</th>\n",
       "      <td>8</td>\n",
       "      <td>iav</td>\n",
       "      <td>0.911156</td>\n",
       "      <td>0.032979</td>\n",
       "      <td>2375</td>\n",
       "    </tr>\n",
       "    <tr>\n",
       "      <th>26</th>\n",
       "      <td>8</td>\n",
       "      <td>msc</td>\n",
       "      <td>0.941874</td>\n",
       "      <td>0.061108</td>\n",
       "      <td>2375</td>\n",
       "    </tr>\n",
       "    <tr>\n",
       "      <th>27</th>\n",
       "      <td>8</td>\n",
       "      <td>raw</td>\n",
       "      <td>0.932002</td>\n",
       "      <td>0.176962</td>\n",
       "      <td>2375</td>\n",
       "    </tr>\n",
       "    <tr>\n",
       "      <th>28</th>\n",
       "      <td>9</td>\n",
       "      <td>ano</td>\n",
       "      <td>0.894886</td>\n",
       "      <td>0.122965</td>\n",
       "      <td>7165</td>\n",
       "    </tr>\n",
       "    <tr>\n",
       "      <th>29</th>\n",
       "      <td>9</td>\n",
       "      <td>iav</td>\n",
       "      <td>0.905017</td>\n",
       "      <td>0.012383</td>\n",
       "      <td>7165</td>\n",
       "    </tr>\n",
       "    <tr>\n",
       "      <th>30</th>\n",
       "      <td>9</td>\n",
       "      <td>msc</td>\n",
       "      <td>0.981166</td>\n",
       "      <td>0.038873</td>\n",
       "      <td>7165</td>\n",
       "    </tr>\n",
       "    <tr>\n",
       "      <th>31</th>\n",
       "      <td>9</td>\n",
       "      <td>raw</td>\n",
       "      <td>0.968929</td>\n",
       "      <td>0.130871</td>\n",
       "      <td>7165</td>\n",
       "    </tr>\n",
       "    <tr>\n",
       "      <th>32</th>\n",
       "      <td>10</td>\n",
       "      <td>ano</td>\n",
       "      <td>0.864757</td>\n",
       "      <td>0.177556</td>\n",
       "      <td>12091</td>\n",
       "    </tr>\n",
       "    <tr>\n",
       "      <th>33</th>\n",
       "      <td>10</td>\n",
       "      <td>iav</td>\n",
       "      <td>0.833293</td>\n",
       "      <td>0.030499</td>\n",
       "      <td>12091</td>\n",
       "    </tr>\n",
       "    <tr>\n",
       "      <th>34</th>\n",
       "      <td>10</td>\n",
       "      <td>msc</td>\n",
       "      <td>0.932571</td>\n",
       "      <td>0.078880</td>\n",
       "      <td>12091</td>\n",
       "    </tr>\n",
       "    <tr>\n",
       "      <th>35</th>\n",
       "      <td>10</td>\n",
       "      <td>raw</td>\n",
       "      <td>0.939426</td>\n",
       "      <td>0.198989</td>\n",
       "      <td>12091</td>\n",
       "    </tr>\n",
       "    <tr>\n",
       "      <th>36</th>\n",
       "      <td>11</td>\n",
       "      <td>ano</td>\n",
       "      <td>0.813937</td>\n",
       "      <td>0.133422</td>\n",
       "      <td>350</td>\n",
       "    </tr>\n",
       "    <tr>\n",
       "      <th>37</th>\n",
       "      <td>11</td>\n",
       "      <td>iav</td>\n",
       "      <td>0.793984</td>\n",
       "      <td>0.026924</td>\n",
       "      <td>350</td>\n",
       "    </tr>\n",
       "    <tr>\n",
       "      <th>38</th>\n",
       "      <td>11</td>\n",
       "      <td>msc</td>\n",
       "      <td>0.942363</td>\n",
       "      <td>0.065122</td>\n",
       "      <td>350</td>\n",
       "    </tr>\n",
       "    <tr>\n",
       "      <th>39</th>\n",
       "      <td>11</td>\n",
       "      <td>raw</td>\n",
       "      <td>0.893488</td>\n",
       "      <td>0.152359</td>\n",
       "      <td>350</td>\n",
       "    </tr>\n",
       "  </tbody>\n",
       "</table>\n",
       "</div>"
      ],
      "text/plain": [
       "    pft  set       mef      rmse  model\n",
       "0     2  ano  0.678900  0.461140   5112\n",
       "1     2  iav  0.794918  0.043168   5112\n",
       "2     2  msc  0.579744  0.111722   5112\n",
       "3     2  raw  0.699384  0.482448   5112\n",
       "4     3  ano  0.840044  0.231431   1693\n",
       "5     3  iav  0.827647  0.021844   1693\n",
       "6     3  msc  0.980368  0.048368   1693\n",
       "7     3  raw  0.960902  0.238665   1693\n",
       "8     4  ano  0.803231  0.258093   2251\n",
       "9     4  iav  0.780242  0.024074   2251\n",
       "10    4  msc  0.987048  0.058592   2251\n",
       "11    4  raw  0.935430  0.267860   2251\n",
       "12    5  ano  0.830868  0.261053   5152\n",
       "13    5  iav  0.830595  0.023455   5152\n",
       "14    5  msc  0.979229  0.049263   5152\n",
       "15    5  raw  0.943490  0.268669   5152\n",
       "16    6  ano  0.811906  0.206276   2335\n",
       "17    6  iav  0.845045  0.013914   2335\n",
       "18    6  msc  0.998706  0.028750   2335\n",
       "19    6  raw  0.962207  0.208688   2335\n",
       "20    7  ano  0.869790  0.228373  12129\n",
       "21    7  iav  0.888197  0.038762  12129\n",
       "22    7  msc  0.942089  0.085768  12129\n",
       "23    7  raw  0.923288  0.248616  12129\n",
       "24    8  ano  0.886760  0.161665   2375\n",
       "25    8  iav  0.911156  0.032979   2375\n",
       "26    8  msc  0.941874  0.061108   2375\n",
       "27    8  raw  0.932002  0.176962   2375\n",
       "28    9  ano  0.894886  0.122965   7165\n",
       "29    9  iav  0.905017  0.012383   7165\n",
       "30    9  msc  0.981166  0.038873   7165\n",
       "31    9  raw  0.968929  0.130871   7165\n",
       "32   10  ano  0.864757  0.177556  12091\n",
       "33   10  iav  0.833293  0.030499  12091\n",
       "34   10  msc  0.932571  0.078880  12091\n",
       "35   10  raw  0.939426  0.198989  12091\n",
       "36   11  ano  0.813937  0.133422    350\n",
       "37   11  iav  0.793984  0.026924    350\n",
       "38   11  msc  0.942363  0.065122    350\n",
       "39   11  raw  0.893488  0.152359    350"
      ]
     },
     "execution_count": 94,
     "metadata": {},
     "output_type": "execute_result"
    }
   ],
   "source": [
    "pd_pft = df.loc[(df['timeres']=='daily') & (df['cvset']=='eval') & (df['model']=='nn'), :].groupby(('pft', 'set'))\n",
    "pd_pft = pd.concat((pd_pft.mean(), pd_pft.count()['model']), axis=1).reset_index(level=['pft','set'])\n",
    "pd_pft"
   ]
  },
  {
   "cell_type": "code",
   "execution_count": 75,
   "metadata": {},
   "outputs": [
    {
     "data": {
      "image/png": "[encoded data removed]",
      "text/plain": [
       "<Figure size 432x288 with 1 Axes>"
      ]
     },
     "metadata": {
      "needs_background": "light"
     },
     "output_type": "display_data"
    },
    {
     "data": {
      "image/png": "[encoded data removed]",
      "text/plain": [
       "<Figure size 432x288 with 1 Axes>"
      ]
     },
     "metadata": {
      "needs_background": "light"
     },
     "output_type": "display_data"
    },
    {
     "data": {
      "image/png": "[encoded data removed]",
      "text/plain": [
       "<Figure size 432x288 with 1 Axes>"
      ]
     },
     "metadata": {
      "needs_background": "light"
     },
     "output_type": "display_data"
    },
    {
     "data": {
      "image/png": "[encoded data removed]",
      "text/plain": [
       "<Figure size 432x288 with 1 Axes>"
      ]
     },
     "metadata": {
      "needs_background": "light"
     },
     "output_type": "display_data"
    }
   ],
   "source": [
    "for s in ['raw', 'msc', 'ano', 'iav']:\n",
    "    pd_pft.loc[pd_pft['set']==s, :].plot.scatter(x='rmse', y='model')"
   ]
  },
  {
   "cell_type": "code",
   "execution_count": 18,
   "metadata": {},
   "outputs": [
    {
     "ename": "KeyError",
     "evalue": "'eval'",
     "output_type": "error",
     "traceback": [
      "\u001b[0;31m---------------------------------------------------------------------------\u001b[0m",
      "\u001b[0;31mKeyError\u001b[0m                                  Traceback (most recent call last)",
      "\u001b[0;32m/opt/conda/lib/python3.6/site-packages/xarray/core/dataset.py\u001b[0m in \u001b[0;36m_construct_dataarray\u001b[0;34m(self, name)\u001b[0m\n\u001b[1;32m   1163\u001b[0m         \u001b[0;32mtry\u001b[0m\u001b[0;34m:\u001b[0m\u001b[0;34m\u001b[0m\u001b[0;34m\u001b[0m\u001b[0m\n\u001b[0;32m-> 1164\u001b[0;31m             \u001b[0mvariable\u001b[0m \u001b[0;34m=\u001b[0m \u001b[0mself\u001b[0m\u001b[0;34m.\u001b[0m\u001b[0m_variables\u001b[0m\u001b[0;34m[\u001b[0m\u001b[0mname\u001b[0m\u001b[0;34m]\u001b[0m\u001b[0;34m\u001b[0m\u001b[0;34m\u001b[0m\u001b[0m\n\u001b[0m\u001b[1;32m   1165\u001b[0m         \u001b[0;32mexcept\u001b[0m \u001b[0mKeyError\u001b[0m\u001b[0;34m:\u001b[0m\u001b[0;34m\u001b[0m\u001b[0;34m\u001b[0m\u001b[0m\n",
      "\u001b[0;31mKeyError\u001b[0m: 'eval'",
      "\nDuring handling of the above exception, another exception occurred:\n",
      "\u001b[0;31mKeyError\u001b[0m                                  Traceback (most recent call last)",
      "\u001b[0;32m<ipython-input-18-be4b579e2250>\u001b[0m in \u001b[0;36m<module>\u001b[0;34m\u001b[0m\n\u001b[0;32m----> 1\u001b[0;31m \u001b[0mmetrics\u001b[0m\u001b[0;34m[\u001b[0m\u001b[0;34m'eval'\u001b[0m\u001b[0;34m]\u001b[0m\u001b[0;34m\u001b[0m\u001b[0;34m\u001b[0m\u001b[0m\n\u001b[0m",
      "\u001b[0;32m/opt/conda/lib/python3.6/site-packages/xarray/core/dataset.py\u001b[0m in \u001b[0;36m__getitem__\u001b[0;34m(self, key)\u001b[0m\n\u001b[1;32m   1252\u001b[0m \u001b[0;34m\u001b[0m\u001b[0m\n\u001b[1;32m   1253\u001b[0m         \u001b[0;32mif\u001b[0m \u001b[0mhashable\u001b[0m\u001b[0;34m(\u001b[0m\u001b[0mkey\u001b[0m\u001b[0;34m)\u001b[0m\u001b[0;34m:\u001b[0m\u001b[0;34m\u001b[0m\u001b[0;34m\u001b[0m\u001b[0m\n\u001b[0;32m-> 1254\u001b[0;31m             \u001b[0;32mreturn\u001b[0m \u001b[0mself\u001b[0m\u001b[0;34m.\u001b[0m\u001b[0m_construct_dataarray\u001b[0m\u001b[0;34m(\u001b[0m\u001b[0mkey\u001b[0m\u001b[0;34m)\u001b[0m\u001b[0;34m\u001b[0m\u001b[0;34m\u001b[0m\u001b[0m\n\u001b[0m\u001b[1;32m   1255\u001b[0m         \u001b[0;32melse\u001b[0m\u001b[0;34m:\u001b[0m\u001b[0;34m\u001b[0m\u001b[0;34m\u001b[0m\u001b[0m\n\u001b[1;32m   1256\u001b[0m             \u001b[0;32mreturn\u001b[0m \u001b[0mself\u001b[0m\u001b[0;34m.\u001b[0m\u001b[0m_copy_listed\u001b[0m\u001b[0;34m(\u001b[0m\u001b[0mnp\u001b[0m\u001b[0;34m.\u001b[0m\u001b[0masarray\u001b[0m\u001b[0;34m(\u001b[0m\u001b[0mkey\u001b[0m\u001b[0;34m)\u001b[0m\u001b[0;34m)\u001b[0m\u001b[0;34m\u001b[0m\u001b[0;34m\u001b[0m\u001b[0m\n",
      "\u001b[0;32m/opt/conda/lib/python3.6/site-packages/xarray/core/dataset.py\u001b[0m in \u001b[0;36m_construct_dataarray\u001b[0;34m(self, name)\u001b[0m\n\u001b[1;32m   1165\u001b[0m         \u001b[0;32mexcept\u001b[0m \u001b[0mKeyError\u001b[0m\u001b[0;34m:\u001b[0m\u001b[0;34m\u001b[0m\u001b[0;34m\u001b[0m\u001b[0m\n\u001b[1;32m   1166\u001b[0m             _, name, variable = _get_virtual_variable(\n\u001b[0;32m-> 1167\u001b[0;31m                 \u001b[0mself\u001b[0m\u001b[0;34m.\u001b[0m\u001b[0m_variables\u001b[0m\u001b[0;34m,\u001b[0m \u001b[0mname\u001b[0m\u001b[0;34m,\u001b[0m \u001b[0mself\u001b[0m\u001b[0;34m.\u001b[0m\u001b[0m_level_coords\u001b[0m\u001b[0;34m,\u001b[0m \u001b[0mself\u001b[0m\u001b[0;34m.\u001b[0m\u001b[0mdims\u001b[0m\u001b[0;34m\u001b[0m\u001b[0;34m\u001b[0m\u001b[0m\n\u001b[0m\u001b[1;32m   1168\u001b[0m             )\n\u001b[1;32m   1169\u001b[0m \u001b[0;34m\u001b[0m\u001b[0m\n",
      "\u001b[0;32m/opt/conda/lib/python3.6/site-packages/xarray/core/dataset.py\u001b[0m in \u001b[0;36m_get_virtual_variable\u001b[0;34m(variables, key, level_vars, dim_sizes)\u001b[0m\n\u001b[1;32m    165\u001b[0m         \u001b[0mref_var\u001b[0m \u001b[0;34m=\u001b[0m \u001b[0mdim_var\u001b[0m\u001b[0;34m.\u001b[0m\u001b[0mto_index_variable\u001b[0m\u001b[0;34m(\u001b[0m\u001b[0;34m)\u001b[0m\u001b[0;34m.\u001b[0m\u001b[0mget_level_variable\u001b[0m\u001b[0;34m(\u001b[0m\u001b[0mref_name\u001b[0m\u001b[0;34m)\u001b[0m\u001b[0;34m\u001b[0m\u001b[0;34m\u001b[0m\u001b[0m\n\u001b[1;32m    166\u001b[0m     \u001b[0;32melse\u001b[0m\u001b[0;34m:\u001b[0m\u001b[0;34m\u001b[0m\u001b[0;34m\u001b[0m\u001b[0m\n\u001b[0;32m--> 167\u001b[0;31m         \u001b[0mref_var\u001b[0m \u001b[0;34m=\u001b[0m \u001b[0mvariables\u001b[0m\u001b[0;34m[\u001b[0m\u001b[0mref_name\u001b[0m\u001b[0;34m]\u001b[0m\u001b[0;34m\u001b[0m\u001b[0;34m\u001b[0m\u001b[0m\n\u001b[0m\u001b[1;32m    168\u001b[0m \u001b[0;34m\u001b[0m\u001b[0m\n\u001b[1;32m    169\u001b[0m     \u001b[0;32mif\u001b[0m \u001b[0mvar_name\u001b[0m \u001b[0;32mis\u001b[0m \u001b[0;32mNone\u001b[0m\u001b[0;34m:\u001b[0m\u001b[0;34m\u001b[0m\u001b[0;34m\u001b[0m\u001b[0m\n",
      "\u001b[0;31mKeyError\u001b[0m: 'eval'"
     ]
    }
   ],
   "source": []
  },
  {
   "cell_type": "code",
   "execution_count": null,
   "metadata": {},
   "outputs": [],
   "source": []
  },
  {
   "cell_type": "code",
   "execution_count": null,
   "metadata": {},
   "outputs": [],
   "source": []
  },
  {
   "cell_type": "code",
   "execution_count": null,
   "metadata": {},
   "outputs": [],
   "source": [
    "fig, axes = subplots_robinson(4, 4, figsize=(26, 16), gridspec_kw={'hspace': 0.0, 'wspace': 0.0})\n",
    "\n",
    "# use mef, bias, metrics in columns\n",
    "\n",
    "for i, (ds, title) in enumerate(zip([met_wn, met_nn, met_ww , met_nw], ['with SM\\nno perm', 'no SM\\nno perm', 'with SM\\nwith perm', 'no SM\\nwith perm'])):\n",
    "    ax = axes[:, i]\n",
    "    plot_map(ds.corr, vmin=0.5, vmax=1, ax=ax[0])\n",
    "    plot_map(ds.rmse, vmin=0, vmax=0.00001, ax=ax[1])\n",
    "    plot_map(ds.mef, vmin=0, vmax=1, ax=ax[2])\n",
    "    plot_map(ds.bias, vmin=-0.000003, vmax=0.000003, ax=ax[3])\n",
    "    ax[0].set_title(title)"
   ]
  },
  {
   "cell_type": "code",
   "execution_count": null,
   "metadata": {},
   "outputs": [],
   "source": [
    "plot_map(metrics.isel(set=1, timeres=1, model=2).mef, robust=True)"
   ]
  },
  {
   "cell_type": "code",
   "execution_count": null,
   "metadata": {},
   "outputs": [],
   "source": [
    "fig, axes = subplots_robinson(4, 4, figsize=(26, 16), gridspec_kw={'hspace': 0.0, 'wspace': 0.0})\n",
    "\n",
    "# use mef, bias, metrics in columns\n",
    "\n",
    "for i, (ds, title) in enumerate(zip([met_wn, met_nn, met_ww , met_nw], ['with SM\\nno perm', 'no SM\\nno perm', 'with SM\\nwith perm', 'no SM\\nwith perm'])):\n",
    "    ax = axes[:, i]\n",
    "    plot_map(ds.corr, vmin=0.5, vmax=1, ax=ax[0])\n",
    "    plot_map(ds.rmse, vmin=0, vmax=0.00001, ax=ax[1])\n",
    "    plot_map(ds.mef, vmin=0, vmax=1, ax=ax[2])\n",
    "    plot_map(ds.bias, vmin=-0.000003, vmax=0.000003, ax=ax[3])\n",
    "    ax[0].set_title(title)"
   ]
  },
  {
   "cell_type": "code",
   "execution_count": null,
   "metadata": {},
   "outputs": [],
   "source": [
    "fig, axes = subplots_robinson(4, 4, figsize=(26, 16), gridspec_kw={'hspace': 0.0, 'wspace': 0.0})\n",
    "\n",
    "for i, (ds, title) in enumerate(zip([met_wn, met_nn, met_ww , met_nw], ['with SM\\nno perm', 'no SM\\nno perm', 'with SM\\nwith perm', 'no SM\\nwith perm'])):\n",
    "    ax = axes[:, i]\n",
    "    plot_map(ds.corr, vmin=0.5, vmax=1, ax=ax[0])\n",
    "    plot_map(ds.rmse, vmin=0, vmax=0.00001, ax=ax[1])\n",
    "    plot_map(ds.mef, vmin=0, vmax=1, ax=ax[2])\n",
    "    plot_map(ds.bias, vmin=-0.000003, vmax=0.000003, ax=ax[3])\n",
    "    ax[0].set_title(title)"
   ]
  },
  {
   "cell_type": "code",
   "execution_count": null,
   "metadata": {},
   "outputs": [],
   "source": [
    "fig, axes = subplots_robinson(figsize=(26, 16), gridspec_kw={'hspace': 0.0, 'wspace': 0.0})\n",
    "plot_map((met_nn.corr-met_nw.corr)-(met_ww.corr-met_nw.corr), ax=axes, vmin=0, robust=True)"
   ]
  },
  {
   "cell_type": "code",
   "execution_count": null,
   "metadata": {},
   "outputs": [],
   "source": [
    "fig, axes = subplots_robinson(figsize=(26, 16), gridspec_kw={'hspace': 0.0, 'wspace': 0.0})\n",
    "plot_map((met_nn.corr-met_nw.corr)-(met_ww.corr-met_nw.corr), ax=axes, vmin=0, robust=True)"
   ]
  },
  {
   "cell_type": "code",
   "execution_count": null,
   "metadata": {},
   "outputs": [],
   "source": []
  },
  {
   "cell_type": "code",
   "execution_count": null,
   "metadata": {},
   "outputs": [],
   "source": []
  },
  {
   "cell_type": "code",
   "execution_count": null,
   "metadata": {},
   "outputs": [],
   "source": [
    "dst_nn_msc = dst_nn.groupby('time.dayofyear').mean('time')"
   ]
  },
  {
   "cell_type": "code",
   "execution_count": null,
   "metadata": {},
   "outputs": [],
   "source": [
    "dst_nn"
   ]
  },
  {
   "cell_type": "code",
   "execution_count": null,
   "metadata": {},
   "outputs": [],
   "source": [
    "with ProgressBar():\n",
    "    msc = dst_nn.groupby('time.dayofyear').mean('time')\n",
    "    msc.to_zarr('/scratch/dl_chapter14/experiments/et/n_sm.n_perm/inference/pred_to_msc.zarr/')"
   ]
  },
  {
   "cell_type": "code",
   "execution_count": null,
   "metadata": {},
   "outputs": [],
   "source": [
    "with ProgressBar():\n",
    "    msc = dst_ww.groupby('time.dayofyear').mean('time')\n",
    "    msc.to_zarr('/scratch/dl_chapter14/experiments/et/w_sm.w_perm/inference/pred_to_msc.zarr/')"
   ]
  },
  {
   "cell_type": "code",
   "execution_count": null,
   "metadata": {},
   "outputs": [],
   "source": [
    "with ProgressBar():\n",
    "    msc = dst_nw.groupby('time.dayofyear').mean('time')\n",
    "    msc.to_zarr('/scratch/dl_chapter14/experiments/et/n_sm.w_perm/inference/pred_to_msc.zarr/')"
   ]
  },
  {
   "cell_type": "code",
   "execution_count": null,
   "metadata": {},
   "outputs": [],
   "source": [
    "with ProgressBar():\n",
    "    msc = dst_wn.groupby('time.dayofyear').mean('time')\n",
    "    msc.to_zarr('/scratch/dl_chapter14/experiments/et/w_sm.n_perm/inference/pred_to_msc.zarr/')"
   ]
  },
  {
   "cell_type": "code",
   "execution_count": null,
   "metadata": {},
   "outputs": [],
   "source": []
  },
  {
   "cell_type": "code",
   "execution_count": null,
   "metadata": {},
   "outputs": [],
   "source": [
    "with ProgressBar():\n",
    "    msc = xr.open_zarr('/scratch/dl_chapter14/experiments/et/n_sm.n_perm/inference/pred_to_msc.zarr/')\n",
    "    (dst_nn - msc).to_zarr('/scratch/dl_chapter14/experiments/et/n_sm.n_perm/inference/pred_to_ano.zarr/')"
   ]
  },
  {
   "cell_type": "code",
   "execution_count": null,
   "metadata": {},
   "outputs": [],
   "source": [
    "with ProgressBar():\n",
    "    msc = xr.open_zarr('/scratch/dl_chapter14/experiments/et/w_sm.w_perm/inference/pred_to_msc.zarr/')\n",
    "    (dst_ww - msc).to_zarr('/scratch/dl_chapter14/experiments/et/w_sm.w_perm/inference/pred_to_ano.zarr/')"
   ]
  },
  {
   "cell_type": "code",
   "execution_count": null,
   "metadata": {},
   "outputs": [],
   "source": [
    "with ProgressBar():\n",
    "    msc = xr.open_zarr('/scratch/dl_chapter14/experiments/et/n_sm.w_perm/inference/pred_to_msc.zarr/')\n",
    "    (dst_nw - msc).to_zarr('/scratch/dl_chapter14/experiments/et/n_sm.w_perm/inference/pred_to_ano.zarr/')"
   ]
  },
  {
   "cell_type": "code",
   "execution_count": null,
   "metadata": {},
   "outputs": [],
   "source": [
    "with ProgressBar():\n",
    "    msc = xr.open_zarr('/scratch/dl_chapter14/experiments/et/w_sm.n_perm/inference/pred_to_msc.zarr/')\n",
    "    (dst_wn - msc).to_zarr('/scratch/dl_chapter14/experiments/et/w_sm.n_perm/inference/pred_to_ano.zarr/')"
   ]
  },
  {
   "cell_type": "code",
   "execution_count": null,
   "metadata": {},
   "outputs": [],
   "source": []
  },
  {
   "cell_type": "code",
   "execution_count": null,
   "metadata": {},
   "outputs": [],
   "source": []
  },
  {
   "cell_type": "code",
   "execution_count": null,
   "metadata": {},
   "outputs": [],
   "source": [
    "(dst_nn - msc)"
   ]
  },
  {
   "cell_type": "code",
   "execution_count": null,
   "metadata": {},
   "outputs": [],
   "source": [
    "msc"
   ]
  },
  {
   "cell_type": "code",
   "execution_count": null,
   "metadata": {},
   "outputs": [],
   "source": []
  },
  {
   "cell_type": "code",
   "execution_count": null,
   "metadata": {},
   "outputs": [],
   "source": [
    "msc = xr.open_zarr('/scratch/dl_chapter14/experiments/et/n_sm.n_perm/inference/pred_to_msc.zarr/')"
   ]
  },
  {
   "cell_type": "code",
   "execution_count": null,
   "metadata": {},
   "outputs": [],
   "source": [
    "msc.sel(lat=45, lon=8, method='nearest').mod.plot()\n",
    "msc.sel(lat=45, lon=8, method='nearest').obs.plot()"
   ]
  },
  {
   "cell_type": "code",
   "execution_count": null,
   "metadata": {},
   "outputs": [],
   "source": []
  },
  {
   "cell_type": "code",
   "execution_count": null,
   "metadata": {},
   "outputs": [],
   "source": [
    "xr.apply_ufunc(\n",
    "    calc_msc_ano, dst_nn,\n",
    "    dask='parallelized',\n",
    "    output_dtypes=[float]\n",
    ").compute()"
   ]
  },
  {
   "cell_type": "code",
   "execution_count": null,
   "metadata": {},
   "outputs": [],
   "source": []
  },
  {
   "cell_type": "code",
   "execution_count": null,
   "metadata": {},
   "outputs": [],
   "source": []
  },
  {
   "cell_type": "code",
   "execution_count": null,
   "metadata": {},
   "outputs": [],
   "source": [
    "with ProgressBar():\n",
    "    dst_nn_msc = dst_nn.groupby('time.dayofyear').mean('time').compute()"
   ]
  },
  {
   "cell_type": "code",
   "execution_count": null,
   "metadata": {},
   "outputs": [],
   "source": []
  },
  {
   "cell_type": "code",
   "execution_count": null,
   "metadata": {},
   "outputs": [],
   "source": []
  },
  {
   "cell_type": "code",
   "execution_count": null,
   "metadata": {},
   "outputs": [],
   "source": []
  },
  {
   "cell_type": "code",
   "execution_count": null,
   "metadata": {},
   "outputs": [],
   "source": []
  },
  {
   "cell_type": "code",
   "execution_count": null,
   "metadata": {},
   "outputs": [],
   "source": [
    "def plot_time_series(\n",
    "        x, y,\n",
    "        xlabel='mod', ylabel='obs',\n",
    "        timeagg=None,\n",
    "        title='',\n",
    "        ax=None,\n",
    "        figsize=(15, 5),\n",
    "        subplot_kw={},\n",
    "        **kwargs):\n",
    "\n",
    "    if ax is None:\n",
    "        plt.figure(figsize=figsize)\n",
    "        ax = plt.subplot(**subplot_kw)\n",
    "\n",
    "    if timeagg is not None:\n",
    "        x = x.resample(time=timeagg).mean()\n",
    "        y = y.resample(time=timeagg).mean()\n",
    "\n",
    "    time = x.time.values\n",
    "\n",
    "    x_m = x.mean(dim=['lat', 'lon'])\n",
    "    y_m = y.mean(dim=['lat', 'lon'])\n",
    "\n",
    "    x_qs = xr_quantile(x, [0.25, 0.75], dim=['lat', 'lon'])\n",
    "    y_qs = xr_quantile(y, [0.25, 0.75], dim=['lat', 'lon'])\n",
    "\n",
    "    ax.fill_between(time, x_qs.isel(quantile=0), x_qs.isel(quantile=1), alpha=0.2, facecolor='tab:blue', label=r'$modeled_{q0.2-0.8}$')\n",
    "    ax.fill_between(time, y_qs.isel(quantile=0), y_qs.isel(quantile=1), alpha=0.2, facecolor='k', label=r'$observed_{q0.2-0.8}$')\n",
    "    ax.plot(time, x_m, alpha=1.0, color='tab:blue', linewidth=2., label=r'$modeled_{median}$')\n",
    "    ax.plot(time, y_m, color='k', linewidth=1.2, linestyle='--', label=r'$observed_{median}$')\n",
    "\n",
    "    # ax.text(0.05, 0.95, f'r={r:.3f}', horizontalalignment='left', verticalalignment='top', transform=ax.transAxes)\n",
    "    \n",
    "    # ax.set_ylabel(var)\n",
    "    \n",
    "    ax.legend()\n",
    "\n",
    "    ax.patch.set_facecolor('white')"
   ]
  },
  {
   "cell_type": "code",
   "execution_count": null,
   "metadata": {},
   "outputs": [],
   "source": [
    "plot_time_series(dss.mod, dss.obs)"
   ]
  },
  {
   "cell_type": "code",
   "execution_count": null,
   "metadata": {},
   "outputs": [],
   "source": [
    "plot_time_series(dss.mod, dss.obs)"
   ]
  },
  {
   "cell_type": "code",
   "execution_count": null,
   "metadata": {},
   "outputs": [],
   "source": []
  },
  {
   "cell_type": "code",
   "execution_count": null,
   "metadata": {},
   "outputs": [],
   "source": [
    "ts = dst_nw.sel(lat=46, lon=8, method='nearest')"
   ]
  },
  {
   "cell_type": "code",
   "execution_count": null,
   "metadata": {},
   "outputs": [],
   "source": [
    "ts"
   ]
  },
  {
   "cell_type": "code",
   "execution_count": null,
   "metadata": {},
   "outputs": [],
   "source": [
    "plt.figure(figsize=(35, 7))\n",
    "ts.obs.isel(time=slice(0, 1000)).plot(alpha=0.5, color='k')\n",
    "ts.mod.isel(time=slice(0, 1000)).plot(color='orangered', alpha=0.5)"
   ]
  },
  {
   "cell_type": "code",
   "execution_count": null,
   "metadata": {},
   "outputs": [],
   "source": [
    "%time dst_nn_msc = dst_nn.groupby('time.dayofyear').mean().compute()"
   ]
  },
  {
   "cell_type": "code",
   "execution_count": null,
   "metadata": {},
   "outputs": [],
   "source": [
    "ts_msc.mod.plot()"
   ]
  },
  {
   "cell_type": "code",
   "execution_count": null,
   "metadata": {},
   "outputs": [],
   "source": [
    "dst_nn_msc"
   ]
  },
  {
   "cell_type": "code",
   "execution_count": null,
   "metadata": {},
   "outputs": [],
   "source": [
    "dst_nn_msc.mod.values[1, 1, 1]"
   ]
  },
  {
   "cell_type": "code",
   "execution_count": null,
   "metadata": {},
   "outputs": [],
   "source": [
    "plot_map(dst_nn_msc.mod.isel(dayofyear=0))"
   ]
  },
  {
   "cell_type": "code",
   "execution_count": null,
   "metadata": {},
   "outputs": [],
   "source": [
    "plot_map(dst_nn_msc.obs.isel(dayofyear=0))"
   ]
  },
  {
   "cell_type": "code",
   "execution_count": null,
   "metadata": {},
   "outputs": [],
   "source": []
  },
  {
   "cell_type": "code",
   "execution_count": null,
   "metadata": {},
   "outputs": [],
   "source": []
  },
  {
   "cell_type": "code",
   "execution_count": null,
   "metadata": {},
   "outputs": [],
   "source": [
    "def _single_xr_quantile(x, q, dim):\n",
    "    if isinstance(dim, str):\n",
    "        dim = [dim]\n",
    "    ndims = len(dim)\n",
    "    axes = tuple(np.arange(ndims)-ndims)\n",
    "    m = xr.apply_ufunc(\n",
    "        np.nanquantile, x,\n",
    "        input_core_dims=[dim],\n",
    "        dask='parallelized',\n",
    "        output_dtypes=[float],\n",
    "        keep_attrs=True,\n",
    "        kwargs={'q': q, 'axis': axes})\n",
    "    m.name = 'quantile'\n",
    "    return m\n",
    "\n",
    "def xr_quantile(x, q, dim):\n",
    "    if not hasattr([1, 2], '__iter__'):\n",
    "        q = [q]\n",
    "    quantiles = []\n",
    "    for i, q_ in enumerate(q):\n",
    "        r = _single_xr_quantile(x, q_, dim).compute()\n",
    "        quantiles.append(r)\n",
    "    quantiles = xr.concat(quantiles, 'quantile')\n",
    "    quantiles['quantile'] = q\n",
    "    quantiles.attrs.update({**x.attrs})\n",
    "\n",
    "\n",
    "    return quantiles"
   ]
  },
  {
   "cell_type": "code",
   "execution_count": null,
   "metadata": {},
   "outputs": [],
   "source": [
    "qs = xr_quantile(dss.obs, [0.25, 0.5, 0.75], dim=['lat', 'lon'])"
   ]
  },
  {
   "cell_type": "code",
   "execution_count": null,
   "metadata": {},
   "outputs": [],
   "source": [
    "qs"
   ]
  },
  {
   "cell_type": "code",
   "execution_count": null,
   "metadata": {},
   "outputs": [],
   "source": [
    "qs.isel(quantile=0).plot()\n",
    "qs.isel(quantile=1).plot()\n",
    "qs.isel(quantile=2).plot()"
   ]
  },
  {
   "cell_type": "code",
   "execution_count": null,
   "metadata": {},
   "outputs": [],
   "source": [
    "med."
   ]
  },
  {
   "cell_type": "code",
   "execution_count": null,
   "metadata": {},
   "outputs": [],
   "source": []
  },
  {
   "cell_type": "code",
   "execution_count": null,
   "metadata": {},
   "outputs": [],
   "source": [
    "xr.merge(qs)"
   ]
  },
  {
   "cell_type": "code",
   "execution_count": null,
   "metadata": {},
   "outputs": [],
   "source": []
  },
  {
   "cell_type": "code",
   "execution_count": null,
   "metadata": {},
   "outputs": [],
   "source": [
    "med = xr_quantile(dss.obs, [0.25, 0.75], dim=['lat', 'lon']).compute()"
   ]
  },
  {
   "cell_type": "code",
   "execution_count": null,
   "metadata": {},
   "outputs": [],
   "source": []
  },
  {
   "cell_type": "code",
   "execution_count": null,
   "metadata": {},
   "outputs": [],
   "source": [
    "plt.plot(med)"
   ]
  },
  {
   "cell_type": "code",
   "execution_count": null,
   "metadata": {},
   "outputs": [],
   "source": [
    "med = xr_median(dst.obs, dim=['time']).compute()"
   ]
  },
  {
   "cell_type": "code",
   "execution_count": null,
   "metadata": {},
   "outputs": [],
   "source": [
    "plot_map(med)"
   ]
  },
  {
   "cell_type": "code",
   "execution_count": null,
   "metadata": {},
   "outputs": [],
   "source": []
  },
  {
   "cell_type": "code",
   "execution_count": null,
   "metadata": {},
   "outputs": [],
   "source": []
  },
  {
   "cell_type": "code",
   "execution_count": null,
   "metadata": {},
   "outputs": [],
   "source": [
    "plt.figure(figsize=(30, 7))\n",
    "\n",
    "plt.plot(dss.obs.mean(('lat', 'lon')), 'k--', label='obs global mean')\n",
    "plt.plot(dss.mod.mean(('lat', 'lon')), alpha=0.5, label='mod global mean')\n",
    "plt.legend()"
   ]
  },
  {
   "cell_type": "code",
   "execution_count": null,
   "metadata": {},
   "outputs": [],
   "source": []
  },
  {
   "cell_type": "code",
   "execution_count": null,
   "metadata": {},
   "outputs": [],
   "source": [
    "import numpy as np\n",
    "import matplotlib.pyplot as plt"
   ]
  },
  {
   "cell_type": "code",
   "execution_count": null,
   "metadata": {},
   "outputs": [],
   "source": [
    "def f0(x):\n",
    "    return x**(-0.5)\n",
    "def f1(x):\n",
    "    return x**(-0.2) + 0.01 * x\n",
    "def f_gl(x):\n",
    "    gl = np.zeros_like(x)\n",
    "    for t, v in enumerate(x):\n",
    "        gl[t] = 100 * (v / np.min(x[:t+1]) - 1)\n",
    "    return gl\n",
    "def f_min(x):\n",
    "    m = np.zeros_like(x)\n",
    "    for t, v in enumerate(x):\n",
    "        m[t] = np.min(x[:t+1])\n",
    "    return m"
   ]
  },
  {
   "cell_type": "code",
   "execution_count": null,
   "metadata": {},
   "outputs": [],
   "source": [
    "t = np.linspace(0, 60, 400)\n",
    "e_tr = f0(t)\n",
    "e_va = f1(t)\n",
    "gl = f_gl(e_va)\n",
    "gl_tr = f_gl(e_tr)\n",
    "plt.plot(e_va)\n",
    "plt.plot(e_tr)\n",
    "plt.plot(gl)\n",
    "# plt.plot(gl_tr)"
   ]
  },
  {
   "cell_type": "code",
   "execution_count": null,
   "metadata": {},
   "outputs": [],
   "source": [
    "def f_gl(x):\n",
    "    per_impr = np.zeros_like(x)\n",
    "    for t in range(1, len(x)):\n",
    "        per_impr[t] = 100 * (1 - x[t] / x[t-1])\n",
    "    return per_impr"
   ]
  },
  {
   "cell_type": "code",
   "execution_count": null,
   "metadata": {},
   "outputs": [],
   "source": [
    "gl = f_gl(e_va)"
   ]
  },
  {
   "cell_type": "code",
   "execution_count": null,
   "metadata": {},
   "outputs": [],
   "source": [
    "plt.plot(e_va[1:])\n",
    "plt.plot(gl[1:])"
   ]
  },
  {
   "cell_type": "code",
   "execution_count": null,
   "metadata": {},
   "outputs": [],
   "source": []
  },
  {
   "cell_type": "code",
   "execution_count": null,
   "metadata": {},
   "outputs": [],
   "source": []
  },
  {
   "cell_type": "code",
   "execution_count": null,
   "metadata": {},
   "outputs": [],
   "source": []
  },
  {
   "cell_type": "code",
   "execution_count": null,
   "metadata": {},
   "outputs": [],
   "source": []
  },
  {
   "cell_type": "code",
   "execution_count": null,
   "metadata": {},
   "outputs": [],
   "source": [
    "import pandas as pd"
   ]
  },
  {
   "cell_type": "code",
   "execution_count": null,
   "metadata": {},
   "outputs": [],
   "source": [
    "df = pd.read_csv('/scratch/dl_chapter14/experiments/hydro/default/tune/hydro/Emulator_117_dropout_in=0.6,dropout_linear=0.1,dropout_lstm=0.6,batch_size=32,dynamic_path=_scratch_dl_chapter14_input_dynamic_gsw_2019-11-14_08-49-30_h07l5k6/progress.csv')\n",
    "df.keys()"
   ]
  },
  {
   "cell_type": "code",
   "execution_count": null,
   "metadata": {},
   "outputs": [],
   "source": [
    "df"
   ]
  },
  {
   "cell_type": "code",
   "execution_count": null,
   "metadata": {},
   "outputs": [],
   "source": [
    "plt.plot(df['wloss_eval'])"
   ]
  },
  {
   "cell_type": "code",
   "execution_count": null,
   "metadata": {},
   "outputs": [],
   "source": [
    "plt.plot(df['loss_eval'])"
   ]
  },
  {
   "cell_type": "code",
   "execution_count": null,
   "metadata": {},
   "outputs": [],
   "source": [
    "plt.plot(df['perc_improved'])"
   ]
  },
  {
   "cell_type": "code",
   "execution_count": null,
   "metadata": {},
   "outputs": [],
   "source": [
    "plt.plot(df['patience_counter'])"
   ]
  },
  {
   "cell_type": "code",
   "execution_count": null,
   "metadata": {},
   "outputs": [],
   "source": [
    "l = {'a': 1, 'b': 2}\n",
    "options_str = \", \".join(l.keys())\n",
    "print(f'[{options_str}]')"
   ]
  },
  {
   "cell_type": "code",
   "execution_count": null,
   "metadata": {},
   "outputs": [],
   "source": []
  },
  {
   "cell_type": "code",
   "execution_count": null,
   "metadata": {},
   "outputs": [],
   "source": [
    "print(f'{getattr.__name__}')"
   ]
  },
  {
   "cell_type": "code",
   "execution_count": null,
   "metadata": {},
   "outputs": [],
   "source": [
    "from datetime import datetime"
   ]
  },
  {
   "cell_type": "code",
   "execution_count": null,
   "metadata": {},
   "outputs": [],
   "source": [
    "tic = datetime.now()"
   ]
  },
  {
   "cell_type": "code",
   "execution_count": null,
   "metadata": {},
   "outputs": [],
   "source": [
    "tic.strftime(\"%m/%d/%Y, %H:%M:%S\")"
   ]
  },
  {
   "cell_type": "code",
   "execution_count": null,
   "metadata": {},
   "outputs": [],
   "source": [
    "toc = datetime.now()"
   ]
  },
  {
   "cell_type": "code",
   "execution_count": null,
   "metadata": {},
   "outputs": [],
   "source": [
    "elapsed = toc- tic"
   ]
  },
  {
   "cell_type": "code",
   "execution_count": null,
   "metadata": {},
   "outputs": [],
   "source": [
    "elapsed.seconds"
   ]
  },
  {
   "cell_type": "code",
   "execution_count": null,
   "metadata": {},
   "outputs": [],
   "source": [
    "mins = int(elapsed.seconds/60)\n",
    "mins"
   ]
  },
  {
   "cell_type": "code",
   "execution_count": null,
   "metadata": {},
   "outputs": [],
   "source": [
    "secs = int(elapsed.seconds - 60 * mins)\n",
    "secs"
   ]
  },
  {
   "cell_type": "code",
   "execution_count": null,
   "metadata": {},
   "outputs": [],
   "source": [
    "import xarray as xr\n",
    "import numpy as np\n",
    "import zarr"
   ]
  },
  {
   "cell_type": "code",
   "execution_count": null,
   "metadata": {},
   "outputs": [],
   "source": [
    "ds_ssd = zarr.open_group('/scratch/dl_chapter14/experiments/hydro/default/pred/predictions.zarr/')\n",
    "ds_ram = zarr.open_group('/run/user/196')\n",
    "ds_ram.tree()"
   ]
  },
  {
   "cell_type": "code",
   "execution_count": null,
   "metadata": {},
   "outputs": [],
   "source": [
    "def read_zarr(ds, n):\n",
    "    for i in range(n):\n",
    "        lat = np.random.choice(360)\n",
    "        lon = np.random.choice(720)\n",
    "        s = ds['mrro'][:, lat, lon] + 1"
   ]
  },
  {
   "cell_type": "code",
   "execution_count": null,
   "metadata": {},
   "outputs": [],
   "source": [
    "%time read_zarr(ds_ssd, 1000)"
   ]
  },
  {
   "cell_type": "code",
   "execution_count": null,
   "metadata": {},
   "outputs": [],
   "source": [
    "%time read_zarr(ds_ssd, 1000)"
   ]
  },
  {
   "cell_type": "code",
   "execution_count": null,
   "metadata": {},
   "outputs": [],
   "source": [
    "ls -l /run/user/1968"
   ]
  },
  {
   "cell_type": "code",
   "execution_count": null,
   "metadata": {},
   "outputs": [],
   "source": [
    "/scratch/"
   ]
  },
  {
   "cell_type": "code",
   "execution_count": null,
   "metadata": {},
   "outputs": [],
   "source": []
  },
  {
   "cell_type": "code",
   "execution_count": null,
   "metadata": {},
   "outputs": [],
   "source": []
  },
  {
   "cell_type": "code",
   "execution_count": null,
   "metadata": {},
   "outputs": [],
   "source": [
    "import torch\n",
    "import numpy as np"
   ]
  },
  {
   "cell_type": "code",
   "execution_count": null,
   "metadata": {},
   "outputs": [],
   "source": [
    "class RNN(torch.nn.Module):\n",
    "    def __init__(self):\n",
    "        super(RNN, self).__init__()\n",
    "        self.rnn = torch.nn.RNN(1, 5)\n",
    "    def forward(self, x):\n",
    "        out = self.rnn(x)\n",
    "        return out\n"
   ]
  },
  {
   "cell_type": "code",
   "execution_count": null,
   "metadata": {},
   "outputs": [],
   "source": [
    "import xarray as xr"
   ]
  },
  {
   "cell_type": "code",
   "execution_count": null,
   "metadata": {},
   "outputs": [],
   "source": [
    "ds = xr.open_zarr('/scratch/dl_chapter14/experiments/hydro/default/pred/predictions.zarr/')"
   ]
  },
  {
   "cell_type": "code",
   "execution_count": null,
   "metadata": {},
   "outputs": [],
   "source": [
    "ds"
   ]
  },
  {
   "cell_type": "code",
   "execution_count": null,
   "metadata": {},
   "outputs": [],
   "source": [
    "pred = xr.Dataset({\n",
    "    'obs': xr.DataArray(ds.values, coords=[ds.lat, ds.lon, ds.time]),\n",
    "    'mod': xr.DataArray(ds.values, coords=[ds.lat, ds.lon, ds.time])\n",
    "})\n",
    "pred.attrs = ds.attrs"
   ]
  },
  {
   "cell_type": "code",
   "execution_count": null,
   "metadata": {},
   "outputs": [],
   "source": [
    "xr.Dataset({\n",
    "    'mod': xr.DataArray(ds.mrro.values, coords=[dslat, ds.lon, ds.time),\n",
    "    'obs': xr.ones_like(ds.coords) * ds.mrro.values\n",
    "})"
   ]
  },
  {
   "cell_type": "code",
   "execution_count": null,
   "metadata": {},
   "outputs": [],
   "source": [
    "ds"
   ]
  },
  {
   "cell_type": "code",
   "execution_count": null,
   "metadata": {},
   "outputs": [],
   "source": [
    "ds = xr.open_zarr('/scratch/dl_chapter14/target/dynamic/koirala2017.zarr/')\n",
    "ds"
   ]
  },
  {
   "cell_type": "code",
   "execution_count": null,
   "metadata": {},
   "outputs": [],
   "source": [
    "plot_map(ds.wtd.isel(time=0), robust=True)"
   ]
  },
  {
   "cell_type": "code",
   "execution_count": null,
   "metadata": {},
   "outputs": [],
   "source": []
  },
  {
   "cell_type": "code",
   "execution_count": null,
   "metadata": {},
   "outputs": [],
   "source": []
  },
  {
   "cell_type": "code",
   "execution_count": null,
   "metadata": {},
   "outputs": [],
   "source": []
  },
  {
   "cell_type": "code",
   "execution_count": null,
   "metadata": {},
   "outputs": [],
   "source": [
    "p = xr.open_zarr('/scratch/hydrodl/data/bucket.zarr/prec/')"
   ]
  },
  {
   "cell_type": "code",
   "execution_count": null,
   "metadata": {},
   "outputs": [],
   "source": [
    "p_missing = p.data.isnull().sum('time').compute()"
   ]
  },
  {
   "cell_type": "code",
   "execution_count": null,
   "metadata": {},
   "outputs": [],
   "source": [
    "plot_map(p_missing)"
   ]
  },
  {
   "cell_type": "code",
   "execution_count": null,
   "metadata": {},
   "outputs": [],
   "source": [
    "xr.open_zarr('/scratch/dl_chapter14/target/dynamic/koirala2017.zarr/')"
   ]
  },
  {
   "cell_type": "code",
   "execution_count": null,
   "metadata": {},
   "outputs": [],
   "source": [
    "xr.open_dataset('/workspace/BGI/people/skoirala/spmip/matsiro-gw.run1_20180805/matsiro-gw_experiment_1_1982.nc')"
   ]
  },
  {
   "cell_type": "code",
   "execution_count": null,
   "metadata": {},
   "outputs": [],
   "source": [
    "ds_frac = xr.open_dataset('/workspace/BGI/people/skoirala/spmip/matsiro-gw.run1_20180805/matsiro-gw_experiment_1_1982.nc')['mrlslfrac']\n",
    "ds = xr.open_dataset('/workspace/BGI/people/skoirala/spmip/matsiro-gw.run1_20180805/matsiro-gw_experiment_1_1982.nc')['rzwc']"
   ]
  },
  {
   "cell_type": "code",
   "execution_count": null,
   "metadata": {},
   "outputs": [],
   "source": [
    "ds"
   ]
  },
  {
   "cell_type": "code",
   "execution_count": null,
   "metadata": {},
   "outputs": [],
   "source": [
    "ds_frac_mean = ds_frac.mean(('time', 'level'))\n",
    "ds_mean = ds.mean(('time', 'level'))"
   ]
  },
  {
   "cell_type": "code",
   "execution_count": null,
   "metadata": {},
   "outputs": [],
   "source": [
    "plt.figure(figsize=(17, 12))\n",
    "plt.imshow(ds_frac_mean.values, vmin=0.2, vmax=0.6)"
   ]
  },
  {
   "cell_type": "code",
   "execution_count": null,
   "metadata": {},
   "outputs": [],
   "source": [
    "plt.figure(figsize=(17, 12))\n",
    "plt.imshow(ds_mean.values)"
   ]
  },
  {
   "cell_type": "code",
   "execution_count": null,
   "metadata": {},
   "outputs": [],
   "source": [
    "plot_map(ds_mean)"
   ]
  },
  {
   "cell_type": "code",
   "execution_count": null,
   "metadata": {},
   "outputs": [],
   "source": [
    "\"et\", \"tws\", \"mrro\", \"wtd\", \"mrlslfrac\""
   ]
  },
  {
   "cell_type": "code",
   "execution_count": null,
   "metadata": {},
   "outputs": [],
   "source": [
    "t = xr.open_dataset('/workspace/BGI/people/skoirala/spmip/full_matsiro-gw_exp3.run1_20180805_latlonReverse/full_matsiro-gw_exp3_experiment_3_1950.nc')"
   ]
  },
  {
   "cell_type": "code",
   "execution_count": null,
   "metadata": {},
   "outputs": [],
   "source": [
    "t"
   ]
  },
  {
   "cell_type": "code",
   "execution_count": null,
   "metadata": {},
   "outputs": [],
   "source": [
    "plot_map(t.mrlslfrac.isel(levelc=1, time=0), robust=True)"
   ]
  },
  {
   "cell_type": "code",
   "execution_count": null,
   "metadata": {},
   "outputs": [],
   "source": [
    "ls -l /workspace/BGI/data/DataStructureMDI/DATA/grid/Global/0d50_daily/GSWP3/EXP1/Data/"
   ]
  },
  {
   "cell_type": "code",
   "execution_count": null,
   "metadata": {},
   "outputs": [],
   "source": [
    "e"
   ]
  },
  {
   "cell_type": "markdown",
   "metadata": {},
   "source": [
    "\n",
    "#### input vars\n",
    "\n",
    "| var  | dims | path |\n",
    "| ---  | ---  | ---  |\n",
    "| Rainf  | lat, lon, time | '/workspace/BGI/data/DataStructureMDI/DATA/grid/Global/0d50_daily/GSWP3/EXP1/Data/Rainf/' |\n",
    "| Snowf  | lat, lon, time | '/workspace/BGI/data/DataStructureMDI/DATA/grid/Global/0d50_daily/GSWP3/EXP1/Data/Snowf/' |\n",
    "| SWdown  | lat, lon, time | '/workspace/BGI/data/DataStructureMDI/DATA/grid/Global/0d50_daily/GSWP3/EXP1/Data/SWdown/' |\n",
    "| LWdown  | lat, lon, time | '/workspace/BGI/data/DataStructureMDI/DATA/grid/Global/0d50_daily/GSWP3/EXP1/Data/LWdown/' |\n",
    "| Tair  | lat, lon, time | '/workspace/BGI/data/DataStructureMDI/DATA/grid/Global/0d50_daily/GSWP3/EXP1/Data/Tair/' |\n",
    "| Wind  | lat, lon, time | '/workspace/BGI/data/DataStructureMDI/DATA/grid/Global/0d50_daily/GSWP3/EXP1/Data/Wind/' |\n",
    "| Qair  | lat, lon, time | '/workspace/BGI/data/DataStructureMDI/DATA/grid/Global/0d50_daily/GSWP3/EXP1/Data/Qair/' |\n",
    "| PSurf  | lat, lon, time | '/workspace/BGI/data/DataStructureMDI/DATA/grid/Global/0d50_daily/GSWP3/EXP1/Data/PSurf/' |\n",
    "| lai | lat, lon, time | '/workspace/BGI/work_3/dl_chapter14/input_data/org_data/matsiro-gw_lai.nc' |\n",
    "| ccover | lat, lon, time | '/workspace/BGI/work_3/dl_chapter14/input_data/org_data/matsiro-gw_lai.nc' |\n",
    "| PFT | lat, lon | '/workspace/BGI/work_3/dl_chapter14/input_data/org_data/matsiro-gw_PFT.nc' |\n",
    "| soil_properties | lat, lon | '/workspace/BGI/work_3/dl_chapter14/input_data/org_data/matsiro-gw_soil_propreties.nc' |\n",
    "\n",
    "#### Target vars\n",
    "\n",
    "| var  | dims | path |\n",
    "| ---  | ---  | ---  |\n",
    "| et (also input) | lat, lon, time | '/workspace/BGI/people/skoirala/spmip/full_matsiro-gw_exp3.run1_20180805_latlonReverse/full_matsiro-gw_exp3_experiment_3_YYYY.nc' |\n",
    "| mrlslfrac (mean of first 4 levels)  | lat, lon, time | '/workspace/BGI/people/skoirala/spmip/full_matsiro-gw_exp3.run1_20180805_latlonReverse/full_matsiro-gw_exp3_experiment_3_YYYY.nc' |\n",
    "| tws  | lat, lon, time | '/workspace/BGI/people/skoirala/spmip/full_matsiro-gw_exp3.run1_20180805_latlonReverse/full_matsiro-gw_exp3_experiment_3_YYYY.nc' |\n",
    "| mrro  | lat, lon, time | '/workspace/BGI/people/skoirala/spmip/full_matsiro-gw_exp3.run1_20180805_latlonReverse/full_matsiro-gw_exp3_experiment_3_YYYY.nc' |\n"
   ]
  },
  {
   "cell_type": "code",
   "execution_count": null,
   "metadata": {},
   "outputs": [],
   "source": [
    "import xarray as xr"
   ]
  },
  {
   "cell_type": "code",
   "execution_count": null,
   "metadata": {},
   "outputs": [],
   "source": [
    "d = xr.open_dataset('/workspace/BGI/work_3/dl_chapter14/input_data/org_data/matsiro-gw_soil_propreties.nc')\n",
    "d"
   ]
  },
  {
   "cell_type": "code",
   "execution_count": null,
   "metadata": {},
   "outputs": [],
   "source": [
    "plot_map(d.PFT)"
   ]
  },
  {
   "cell_type": "code",
   "execution_count": null,
   "metadata": {},
   "outputs": [],
   "source": []
  },
  {
   "cell_type": "code",
   "execution_count": null,
   "metadata": {},
   "outputs": [],
   "source": []
  },
  {
   "cell_type": "code",
   "execution_count": null,
   "metadata": {},
   "outputs": [],
   "source": [
    "from matplotlib import animation\n",
    "import cartopy\n",
    "import cartopy.crs as ccrs\n",
    "from cartopy.mpl.gridliner import LONGITUDE_FORMATTER, LATITUDE_FORMATTER\n",
    "from matplotlib.colors import LogNorm\n",
    "from matplotlib import animation, rc\n",
    "from IPython.display import HTML, Image\n",
    "rc('animation', html='html5')\n",
    "%matplotlib inline"
   ]
  },
  {
   "cell_type": "code",
   "execution_count": null,
   "metadata": {},
   "outputs": [],
   "source": [
    "ds = xr.open_zarr('/scratch/hydrodl/data/bucket.zarr/et/').data"
   ]
  },
  {
   "cell_type": "code",
   "execution_count": null,
   "metadata": {},
   "outputs": [],
   "source": [
    "ds.isel(time=[0, 4, 8]).values.shape"
   ]
  },
  {
   "cell_type": "code",
   "execution_count": null,
   "metadata": {},
   "outputs": [],
   "source": [
    "ax = plt.subplot(projection=ccrs.Robinson())\n",
    "ax.set_global()\n",
    "ax.coastlines(color='white')\n",
    "ax.gridlines()\n",
    "ax.imshow(ds.isel(time=[0, 4, 8]).values.transpose(1, 2, 0)[-1::-1,:,:], transform=ccrs.PlateCarree())\n",
    "# (ds.isel(time=[0, 4, 8])).plot.imshow(robust=True, ax=ax, transform=ccrs.PlateCarree())"
   ]
  },
  {
   "cell_type": "code",
   "execution_count": null,
   "metadata": {},
   "outputs": [],
   "source": [
    "import cartopy.crs as ccrs\n",
    "import xarray\n",
    "import matplotlib.pyplot as plt\n",
    "\n",
    "#ds = xr.load_dataset(...)\n",
    "\n",
    "ax = plt.subplot(projection=ccrs.Robinson())\n",
    "(ds.isel(time=[0, 4, 8])).plot.imshow(ax=ax, transform=ccrs.PlateCarree())"
   ]
  },
  {
   "cell_type": "code",
   "execution_count": null,
   "metadata": {},
   "outputs": [],
   "source": [
    "ax = plt.subplot(projection=ccrs.Robinson())\n",
    "ax.imshow(ds.isel(time=[0, 4, 8]).transpose('lat', 'lon', 'time').values[-1::-1, :, :], transform=ccrs.PlateCarree())"
   ]
  },
  {
   "cell_type": "code",
   "execution_count": null,
   "metadata": {},
   "outputs": [],
   "source": [
    "ax = plt.subplot(projection=ccrs.Robinson())\n",
    "plt.plot(ds.isel(time=[0, 4, 8]).transpose('lat', 'lon', 'time').values[-1::-1, :, :], transform=ccrs.PlateCarree(), ax=ax)"
   ]
  },
  {
   "cell_type": "code",
   "execution_count": null,
   "metadata": {},
   "outputs": [],
   "source": []
  },
  {
   "cell_type": "code",
   "execution_count": null,
   "metadata": {},
   "outputs": [],
   "source": [
    "import cartopy.crs as ccrs\n",
    "import xarray\n",
    "import matplotlib.pyplot as plt\n",
    "\n",
    "#ds = xr.load_dataset(...)\n",
    "\n",
    "ax = plt.subplot(projection=ccrs.Robinson())\n",
    "(ds.isel(time=0)).plot.imshow(robust=True, ax=ax, transform=ccrs.PlateCarree(), add_colorbar=False)"
   ]
  },
  {
   "cell_type": "code",
   "execution_count": null,
   "metadata": {},
   "outputs": [],
   "source": [
    "xr.__version__"
   ]
  },
  {
   "cell_type": "code",
   "execution_count": null,
   "metadata": {},
   "outputs": [],
   "source": [
    "mpl.__version__"
   ]
  },
  {
   "cell_type": "code",
   "execution_count": null,
   "metadata": {},
   "outputs": [],
   "source": []
  },
  {
   "cell_type": "code",
   "execution_count": null,
   "metadata": {},
   "outputs": [],
   "source": []
  },
  {
   "cell_type": "code",
   "execution_count": 13,
   "metadata": {},
   "outputs": [
    {
     "data": {
      "text/html": [
       "<div><svg style=\"position: absolute; width: 0; height: 0; overflow: hidden\">\n",
       "<defs>\n",
       "<symbol id=\"icon-database\" viewBox=\"0 0 32 32\">\n",
       "<title>Show/Hide data repr</title>\n",
       "<path d=\"M16 0c-8.837 0-16 2.239-16 5v4c0 2.761 7.163 5 16 5s16-2.239 16-5v-4c0-2.761-7.163-5-16-5z\"></path>\n",
       "<path d=\"M16 17c-8.837 0-16-2.239-16-5v6c0 2.761 7.163 5 16 5s16-2.239 16-5v-6c0 2.761-7.163 5-16 5z\"></path>\n",
       "<path d=\"M16 26c-8.837 0-16-2.239-16-5v6c0 2.761 7.163 5 16 5s16-2.239 16-5v-6c0 2.761-7.163 5-16 5z\"></path>\n",
       "</symbol>\n",
       "<symbol id=\"icon-file-text2\" viewBox=\"0 0 32 32\">\n",
       "<title>Show/Hide attributes</title>\n",
       "<path d=\"M28.681 7.159c-0.694-0.947-1.662-2.053-2.724-3.116s-2.169-2.030-3.116-2.724c-1.612-1.182-2.393-1.319-2.841-1.319h-15.5c-1.378 0-2.5 1.121-2.5 2.5v27c0 1.378 1.122 2.5 2.5 2.5h23c1.378 0 2.5-1.122 2.5-2.5v-19.5c0-0.448-0.137-1.23-1.319-2.841zM24.543 5.457c0.959 0.959 1.712 1.825 2.268 2.543h-4.811v-4.811c0.718 0.556 1.584 1.309 2.543 2.268zM28 29.5c0 0.271-0.229 0.5-0.5 0.5h-23c-0.271 0-0.5-0.229-0.5-0.5v-27c0-0.271 0.229-0.5 0.5-0.5 0 0 15.499-0 15.5 0v7c0 0.552 0.448 1 1 1h7v19.5z\"></path>\n",
       "<path d=\"M23 26h-14c-0.552 0-1-0.448-1-1s0.448-1 1-1h14c0.552 0 1 0.448 1 1s-0.448 1-1 1z\"></path>\n",
       "<path d=\"M23 22h-14c-0.552 0-1-0.448-1-1s0.448-1 1-1h14c0.552 0 1 0.448 1 1s-0.448 1-1 1z\"></path>\n",
       "<path d=\"M23 18h-14c-0.552 0-1-0.448-1-1s0.448-1 1-1h14c0.552 0 1 0.448 1 1s-0.448 1-1 1z\"></path>\n",
       "</symbol>\n",
       "</defs>\n",
       "</svg>\n",
       "<style>/* CSS stylesheet for displaying xarray objects in jupyterlab.\n",
       " *\n",
       " */\n",
       "\n",
       ":root {\n",
       "  --xr-font-color0: var(--jp-content-font-color0, rgba(0, 0, 0, 1));\n",
       "  --xr-font-color2: var(--jp-content-font-color2, rgba(0, 0, 0, 0.54));\n",
       "  --xr-font-color3: var(--jp-content-font-color3, rgba(0, 0, 0, 0.38));\n",
       "  --xr-border-color: var(--jp-border-color2, #e0e0e0);\n",
       "  --xr-disabled-color: var(--jp-layout-color3, #bdbdbd);\n",
       "  --xr-background-color: var(--jp-layout-color0, white);\n",
       "  --xr-background-color-row-even: var(--jp-layout-color1, white);\n",
       "  --xr-background-color-row-odd: var(--jp-layout-color2, #eeeeee);\n",
       "}\n",
       "\n",
       ".xr-wrap {\n",
       "  min-width: 300px;\n",
       "  max-width: 700px;\n",
       "}\n",
       "\n",
       ".xr-header {\n",
       "  padding-top: 6px;\n",
       "  padding-bottom: 6px;\n",
       "  margin-bottom: 4px;\n",
       "  border-bottom: solid 1px var(--xr-border-color);\n",
       "}\n",
       "\n",
       ".xr-header > div,\n",
       ".xr-header > ul {\n",
       "  display: inline;\n",
       "  margin-top: 0;\n",
       "  margin-bottom: 0;\n",
       "}\n",
       "\n",
       ".xr-obj-type,\n",
       ".xr-array-name {\n",
       "  margin-left: 2px;\n",
       "  margin-right: 10px;\n",
       "}\n",
       "\n",
       ".xr-obj-type {\n",
       "  color: var(--xr-font-color2);\n",
       "}\n",
       "\n",
       ".xr-sections {\n",
       "  padding-left: 0 !important;\n",
       "  display: grid;\n",
       "  grid-template-columns: 150px auto auto 1fr 20px 20px;\n",
       "}\n",
       "\n",
       ".xr-section-item {\n",
       "  display: contents;\n",
       "}\n",
       "\n",
       ".xr-section-item input {\n",
       "  display: none;\n",
       "}\n",
       "\n",
       ".xr-section-item input + label {\n",
       "  color: var(--xr-disabled-color);\n",
       "}\n",
       "\n",
       ".xr-section-item input:enabled + label {\n",
       "  cursor: pointer;\n",
       "  color: var(--xr-font-color2);\n",
       "}\n",
       "\n",
       ".xr-section-item input:enabled + label:hover {\n",
       "  color: var(--xr-font-color0);\n",
       "}\n",
       "\n",
       ".xr-section-summary {\n",
       "  grid-column: 1;\n",
       "  color: var(--xr-font-color2);\n",
       "  font-weight: 500;\n",
       "}\n",
       "\n",
       ".xr-section-summary > span {\n",
       "  display: inline-block;\n",
       "  padding-left: 0.5em;\n",
       "}\n",
       "\n",
       ".xr-section-summary-in:disabled + label {\n",
       "  color: var(--xr-font-color2);\n",
       "}\n",
       "\n",
       ".xr-section-summary-in + label:before {\n",
       "  display: inline-block;\n",
       "  content: '►';\n",
       "  font-size: 11px;\n",
       "  width: 15px;\n",
       "  text-align: center;\n",
       "}\n",
       "\n",
       ".xr-section-summary-in:disabled + label:before {\n",
       "  color: var(--xr-disabled-color);\n",
       "}\n",
       "\n",
       ".xr-section-summary-in:checked + label:before {\n",
       "  content: '▼';\n",
       "}\n",
       "\n",
       ".xr-section-summary-in:checked + label > span {\n",
       "  display: none;\n",
       "}\n",
       "\n",
       ".xr-section-summary,\n",
       ".xr-section-inline-details {\n",
       "  padding-top: 4px;\n",
       "  padding-bottom: 4px;\n",
       "}\n",
       "\n",
       ".xr-section-inline-details {\n",
       "  grid-column: 2 / -1;\n",
       "}\n",
       "\n",
       ".xr-section-details {\n",
       "  display: none;\n",
       "  grid-column: 1 / -1;\n",
       "  margin-bottom: 5px;\n",
       "}\n",
       "\n",
       ".xr-section-summary-in:checked ~ .xr-section-details {\n",
       "  display: contents;\n",
       "}\n",
       "\n",
       ".xr-array-wrap {\n",
       "  grid-column: 1 / -1;\n",
       "  display: grid;\n",
       "  grid-template-columns: 20px auto;\n",
       "}\n",
       "\n",
       ".xr-array-wrap > label {\n",
       "  grid-column: 1;\n",
       "  vertical-align: top;\n",
       "}\n",
       "\n",
       ".xr-preview {\n",
       "  color: var(--xr-font-color3);\n",
       "}\n",
       "\n",
       ".xr-array-preview,\n",
       ".xr-array-data {\n",
       "  padding: 0 5px !important;\n",
       "  grid-column: 2;\n",
       "}\n",
       "\n",
       ".xr-array-data,\n",
       ".xr-array-in:checked ~ .xr-array-preview {\n",
       "  display: none;\n",
       "}\n",
       "\n",
       ".xr-array-in:checked ~ .xr-array-data,\n",
       ".xr-array-preview {\n",
       "  display: inline-block;\n",
       "}\n",
       "\n",
       ".xr-dim-list {\n",
       "  display: inline-block !important;\n",
       "  list-style: none;\n",
       "  padding: 0 !important;\n",
       "  margin: 0;\n",
       "}\n",
       "\n",
       ".xr-dim-list li {\n",
       "  display: inline-block;\n",
       "  padding: 0;\n",
       "  margin: 0;\n",
       "}\n",
       "\n",
       ".xr-dim-list:before {\n",
       "  content: '(';\n",
       "}\n",
       "\n",
       ".xr-dim-list:after {\n",
       "  content: ')';\n",
       "}\n",
       "\n",
       ".xr-dim-list li:not(:last-child):after {\n",
       "  content: ',';\n",
       "  padding-right: 5px;\n",
       "}\n",
       "\n",
       ".xr-has-index {\n",
       "  font-weight: bold;\n",
       "}\n",
       "\n",
       ".xr-var-list,\n",
       ".xr-var-item {\n",
       "  display: contents;\n",
       "}\n",
       "\n",
       ".xr-var-item > div,\n",
       ".xr-var-item label,\n",
       ".xr-var-item > .xr-var-name span {\n",
       "  background-color: var(--xr-background-color-row-even);\n",
       "  margin-bottom: 0;\n",
       "}\n",
       "\n",
       ".xr-var-item > .xr-var-name:hover span {\n",
       "  padding-right: 5px;\n",
       "}\n",
       "\n",
       ".xr-var-list > li:nth-child(odd) > div,\n",
       ".xr-var-list > li:nth-child(odd) > label,\n",
       ".xr-var-list > li:nth-child(odd) > .xr-var-name span {\n",
       "  background-color: var(--xr-background-color-row-odd);\n",
       "}\n",
       "\n",
       ".xr-var-name {\n",
       "  grid-column: 1;\n",
       "}\n",
       "\n",
       ".xr-var-dims {\n",
       "  grid-column: 2;\n",
       "}\n",
       "\n",
       ".xr-var-dtype {\n",
       "  grid-column: 3;\n",
       "  text-align: right;\n",
       "  color: var(--xr-font-color2);\n",
       "}\n",
       "\n",
       ".xr-var-preview {\n",
       "  grid-column: 4;\n",
       "}\n",
       "\n",
       ".xr-var-name,\n",
       ".xr-var-dims,\n",
       ".xr-var-dtype,\n",
       ".xr-preview,\n",
       ".xr-attrs dt {\n",
       "  white-space: nowrap;\n",
       "  overflow: hidden;\n",
       "  text-overflow: ellipsis;\n",
       "  padding-right: 10px;\n",
       "}\n",
       "\n",
       ".xr-var-name:hover,\n",
       ".xr-var-dims:hover,\n",
       ".xr-var-dtype:hover,\n",
       ".xr-attrs dt:hover {\n",
       "  overflow: visible;\n",
       "  width: auto;\n",
       "  z-index: 1;\n",
       "}\n",
       "\n",
       ".xr-var-attrs,\n",
       ".xr-var-data {\n",
       "  display: none;\n",
       "  background-color: var(--xr-background-color) !important;\n",
       "  padding-bottom: 5px !important;\n",
       "}\n",
       "\n",
       ".xr-var-attrs-in:checked ~ .xr-var-attrs,\n",
       ".xr-var-data-in:checked ~ .xr-var-data {\n",
       "  display: block;\n",
       "}\n",
       "\n",
       ".xr-var-data > table {\n",
       "  float: right;\n",
       "}\n",
       "\n",
       ".xr-var-name span,\n",
       ".xr-var-data,\n",
       ".xr-attrs {\n",
       "  padding-left: 25px !important;\n",
       "}\n",
       "\n",
       ".xr-attrs,\n",
       ".xr-var-attrs,\n",
       ".xr-var-data {\n",
       "  grid-column: 1 / -1;\n",
       "}\n",
       "\n",
       "dl.xr-attrs {\n",
       "  padding: 0;\n",
       "  margin: 0;\n",
       "  display: grid;\n",
       "  grid-template-columns: 125px auto;\n",
       "}\n",
       "\n",
       ".xr-attrs dt, dd {\n",
       "  padding: 0;\n",
       "  margin: 0;\n",
       "  float: left;\n",
       "  padding-right: 10px;\n",
       "  width: auto;\n",
       "}\n",
       "\n",
       ".xr-attrs dt {\n",
       "  font-weight: normal;\n",
       "  grid-column: 1;\n",
       "}\n",
       "\n",
       ".xr-attrs dt:hover span {\n",
       "  display: inline-block;\n",
       "  background: var(--xr-background-color);\n",
       "  padding-right: 10px;\n",
       "}\n",
       "\n",
       ".xr-attrs dd {\n",
       "  grid-column: 2;\n",
       "  white-space: pre-wrap;\n",
       "  word-break: break-all;\n",
       "}\n",
       "\n",
       ".xr-icon-database,\n",
       ".xr-icon-file-text2 {\n",
       "  display: inline-block;\n",
       "  vertical-align: middle;\n",
       "  width: 1em;\n",
       "  height: 1.5em !important;\n",
       "  stroke-width: 0;\n",
       "  stroke: currentColor;\n",
       "  fill: currentColor;\n",
       "}\n",
       "</style><div class='xr-wrap'><div class='xr-header'><div class='xr-obj-type'>xarray.Dataset</div></div><ul class='xr-sections'><li class='xr-section-item'><input id='section-ddc8fcd1-f41e-4487-8a60-0e5450f59c8a' class='xr-section-summary-in' type='checkbox' disabled ><label for='section-ddc8fcd1-f41e-4487-8a60-0e5450f59c8a' class='xr-section-summary'  title='Expand/collapse section'>Dimensions:</label><div class='xr-section-inline-details'><ul class='xr-dim-list'><li><span class='xr-has-index'>lat</span>: 360</li><li><span class='xr-has-index'>lon</span>: 720</li><li><span class='xr-has-index'>time</span>: 5114</li></ul></div><div class='xr-section-details'></div></li><li class='xr-section-item'><input id='section-d17b4d7f-1de3-4588-b079-7bdd1531c150' class='xr-section-summary-in' type='checkbox'  checked><label for='section-d17b4d7f-1de3-4588-b079-7bdd1531c150' class='xr-section-summary' >Coordinates: <span>(3)</span></label><div class='xr-section-inline-details'></div><div class='xr-section-details'><ul class='xr-var-list'><li class='xr-var-item'><div class='xr-var-name'><span class='xr-has-index'>time</span></div><div class='xr-var-dims'>(time)</div><div class='xr-var-dtype'>datetime64[ns]</div><div class='xr-var-preview xr-preview'>2000-01-01 ... 2013-12-31</div><input id='attrs-8372931b-62bd-49c5-90ce-19e3e5ef0e2f' class='xr-var-attrs-in' type='checkbox' ><label for='attrs-8372931b-62bd-49c5-90ce-19e3e5ef0e2f' title='Show/Hide attributes'><svg class='icon xr-icon-file-text2'><use xlink:href='#icon-file-text2'></use></svg></label><input id='data-c32f7d12-977d-46db-96cf-0c78077f2148' class='xr-var-data-in' type='checkbox'><label for='data-c32f7d12-977d-46db-96cf-0c78077f2148' title='Show/Hide data repr'><svg class='icon xr-icon-database'><use xlink:href='#icon-database'></use></svg></label><div class='xr-var-attrs'><dl class='xr-attrs'><dt><span>long_name :</span></dt><dd>time</dd></dl></div><pre class='xr-var-data'>array([&#x27;2000-01-01T00:00:00.000000000&#x27;, &#x27;2000-01-02T00:00:00.000000000&#x27;,\n",
       "       &#x27;2000-01-03T00:00:00.000000000&#x27;, ..., &#x27;2013-12-29T00:00:00.000000000&#x27;,\n",
       "       &#x27;2013-12-30T00:00:00.000000000&#x27;, &#x27;2013-12-31T00:00:00.000000000&#x27;],\n",
       "      dtype=&#x27;datetime64[ns]&#x27;)</pre></li><li class='xr-var-item'><div class='xr-var-name'><span class='xr-has-index'>lon</span></div><div class='xr-var-dims'>(lon)</div><div class='xr-var-dtype'>float64</div><div class='xr-var-preview xr-preview'>-179.8 -179.2 ... 179.2 179.8</div><input id='attrs-2f9aec04-0220-432a-8f53-97ea96db530f' class='xr-var-attrs-in' type='checkbox' ><label for='attrs-2f9aec04-0220-432a-8f53-97ea96db530f' title='Show/Hide attributes'><svg class='icon xr-icon-file-text2'><use xlink:href='#icon-file-text2'></use></svg></label><input id='data-65c1ff8a-40b8-4774-b618-32750dbc87a2' class='xr-var-data-in' type='checkbox'><label for='data-65c1ff8a-40b8-4774-b618-32750dbc87a2' title='Show/Hide data repr'><svg class='icon xr-icon-database'><use xlink:href='#icon-database'></use></svg></label><div class='xr-var-attrs'><dl class='xr-attrs'><dt><span>long_name :</span></dt><dd>longitude</dd><dt><span>units :</span></dt><dd>degree</dd></dl></div><pre class='xr-var-data'>array([-179.75, -179.25, -178.75, ...,  178.75,  179.25,  179.75])</pre></li><li class='xr-var-item'><div class='xr-var-name'><span class='xr-has-index'>lat</span></div><div class='xr-var-dims'>(lat)</div><div class='xr-var-dtype'>float64</div><div class='xr-var-preview xr-preview'>89.75 89.25 88.75 ... -89.25 -89.75</div><input id='attrs-cde2fce0-692c-4565-99d6-0daad1b68751' class='xr-var-attrs-in' type='checkbox' ><label for='attrs-cde2fce0-692c-4565-99d6-0daad1b68751' title='Show/Hide attributes'><svg class='icon xr-icon-file-text2'><use xlink:href='#icon-file-text2'></use></svg></label><input id='data-79a7d5af-bc8b-4453-923c-78077cf4aa7f' class='xr-var-data-in' type='checkbox'><label for='data-79a7d5af-bc8b-4453-923c-78077cf4aa7f' title='Show/Hide data repr'><svg class='icon xr-icon-database'><use xlink:href='#icon-database'></use></svg></label><div class='xr-var-attrs'><dl class='xr-attrs'><dt><span>long_name :</span></dt><dd>latitude</dd><dt><span>units :</span></dt><dd>degree</dd></dl></div><pre class='xr-var-data'>array([ 89.75,  89.25,  88.75, ..., -88.75, -89.25, -89.75])</pre></li></ul></div></li><li class='xr-section-item'><input id='section-ab3dcdfc-0040-4e4a-b09c-a60a5ae4883b' class='xr-section-summary-in' type='checkbox'  checked><label for='section-ab3dcdfc-0040-4e4a-b09c-a60a5ae4883b' class='xr-section-summary' >Data variables: <span>(2)</span></label><div class='xr-section-inline-details'></div><div class='xr-section-details'><ul class='xr-var-list'><li class='xr-var-item'><div class='xr-var-name'><span>mod</span></div><div class='xr-var-dims'>(time, lat, lon)</div><div class='xr-var-dtype'>float64</div><div class='xr-var-preview xr-preview'>dask.array&lt;chunksize=(5114, 15, 15), meta=np.ndarray&gt;</div><input id='attrs-3a12bca1-5298-4e0d-be50-9f63f059709e' class='xr-var-attrs-in' type='checkbox' ><label for='attrs-3a12bca1-5298-4e0d-be50-9f63f059709e' title='Show/Hide attributes'><svg class='icon xr-icon-file-text2'><use xlink:href='#icon-file-text2'></use></svg></label><input id='data-ae19f9ad-ef13-4aa5-9c2c-8dad2a57e9d1' class='xr-var-data-in' type='checkbox'><label for='data-ae19f9ad-ef13-4aa5-9c2c-8dad2a57e9d1' title='Show/Hide data repr'><svg class='icon xr-icon-database'><use xlink:href='#icon-database'></use></svg></label><div class='xr-var-attrs'><dl class='xr-attrs'><dt><span>units :</span></dt><dd>$mm day^{-1}$</dd><dt><span>long_name :</span></dt><dd>ET</dd></dl></div><pre class='xr-var-data'><table>\n",
       "<tr>\n",
       "<td>\n",
       "<table>\n",
       "  <thead>\n",
       "    <tr><td> </td><th> Array </th><th> Chunk </th></tr>\n",
       "  </thead>\n",
       "  <tbody>\n",
       "    <tr><th> Bytes </th><td> 10.60 GB </td> <td> 9.21 MB </td></tr>\n",
       "    <tr><th> Shape </th><td> (5114, 360, 720) </td> <td> (5114, 15, 15) </td></tr>\n",
       "    <tr><th> Count </th><td> 2305 Tasks </td><td> 1152 Chunks </td></tr>\n",
       "    <tr><th> Type </th><td> float64 </td><td> numpy.ndarray </td></tr>\n",
       "  </tbody>\n",
       "</table>\n",
       "</td>\n",
       "<td>\n",
       "<svg width=\"170\" height=\"157\" style=\"stroke:rgb(0,0,0);stroke-width:1\" >\n",
       "\n",
       "  <!-- Horizontal lines -->\n",
       "  <line x1=\"10\" y1=\"0\" x2=\"80\" y2=\"70\" style=\"stroke-width:2\" />\n",
       "  <line x1=\"10\" y1=\"1\" x2=\"80\" y2=\"72\" />\n",
       "  <line x1=\"10\" y1=\"3\" x2=\"80\" y2=\"73\" />\n",
       "  <line x1=\"10\" y1=\"4\" x2=\"80\" y2=\"75\" />\n",
       "  <line x1=\"10\" y1=\"6\" x2=\"80\" y2=\"76\" />\n",
       "  <line x1=\"10\" y1=\"7\" x2=\"80\" y2=\"78\" />\n",
       "  <line x1=\"10\" y1=\"9\" x2=\"80\" y2=\"79\" />\n",
       "  <line x1=\"10\" y1=\"10\" x2=\"80\" y2=\"81\" />\n",
       "  <line x1=\"10\" y1=\"12\" x2=\"80\" y2=\"82\" />\n",
       "  <line x1=\"10\" y1=\"13\" x2=\"80\" y2=\"84\" />\n",
       "  <line x1=\"10\" y1=\"15\" x2=\"80\" y2=\"85\" />\n",
       "  <line x1=\"10\" y1=\"16\" x2=\"80\" y2=\"87\" />\n",
       "  <line x1=\"10\" y1=\"18\" x2=\"80\" y2=\"88\" />\n",
       "  <line x1=\"10\" y1=\"19\" x2=\"80\" y2=\"90\" />\n",
       "  <line x1=\"10\" y1=\"21\" x2=\"80\" y2=\"91\" />\n",
       "  <line x1=\"10\" y1=\"22\" x2=\"80\" y2=\"93\" />\n",
       "  <line x1=\"10\" y1=\"24\" x2=\"80\" y2=\"94\" />\n",
       "  <line x1=\"10\" y1=\"25\" x2=\"80\" y2=\"96\" />\n",
       "  <line x1=\"10\" y1=\"27\" x2=\"80\" y2=\"98\" />\n",
       "  <line x1=\"10\" y1=\"28\" x2=\"80\" y2=\"99\" />\n",
       "  <line x1=\"10\" y1=\"30\" x2=\"80\" y2=\"101\" />\n",
       "  <line x1=\"10\" y1=\"32\" x2=\"80\" y2=\"102\" />\n",
       "  <line x1=\"10\" y1=\"33\" x2=\"80\" y2=\"104\" />\n",
       "  <line x1=\"10\" y1=\"35\" x2=\"80\" y2=\"105\" />\n",
       "  <line x1=\"10\" y1=\"36\" x2=\"80\" y2=\"107\" style=\"stroke-width:2\" />\n",
       "\n",
       "  <!-- Vertical lines -->\n",
       "  <line x1=\"10\" y1=\"0\" x2=\"10\" y2=\"36\" style=\"stroke-width:2\" />\n",
       "  <line x1=\"80\" y1=\"70\" x2=\"80\" y2=\"107\" style=\"stroke-width:2\" />\n",
       "\n",
       "  <!-- Colored Rectangle -->\n",
       "  <polygon points=\"10.000000,0.000000 80.588235,70.588235 80.588235,107.161112 10.000000,36.572877\" style=\"fill:#ECB172A0;stroke-width:0\"/>\n",
       "\n",
       "  <!-- Horizontal lines -->\n",
       "  <line x1=\"10\" y1=\"0\" x2=\"50\" y2=\"0\" style=\"stroke-width:2\" />\n",
       "  <line x1=\"80\" y1=\"70\" x2=\"120\" y2=\"70\" style=\"stroke-width:2\" />\n",
       "\n",
       "  <!-- Vertical lines -->\n",
       "  <line x1=\"10\" y1=\"0\" x2=\"80\" y2=\"70\" style=\"stroke-width:2\" />\n",
       "  <line x1=\"10\" y1=\"0\" x2=\"81\" y2=\"70\" />\n",
       "  <line x1=\"11\" y1=\"0\" x2=\"82\" y2=\"70\" />\n",
       "  <line x1=\"12\" y1=\"0\" x2=\"83\" y2=\"70\" />\n",
       "  <line x1=\"13\" y1=\"0\" x2=\"83\" y2=\"70\" />\n",
       "  <line x1=\"14\" y1=\"0\" x2=\"84\" y2=\"70\" />\n",
       "  <line x1=\"15\" y1=\"0\" x2=\"85\" y2=\"70\" />\n",
       "  <line x1=\"15\" y1=\"0\" x2=\"86\" y2=\"70\" />\n",
       "  <line x1=\"16\" y1=\"0\" x2=\"87\" y2=\"70\" />\n",
       "  <line x1=\"17\" y1=\"0\" x2=\"88\" y2=\"70\" />\n",
       "  <line x1=\"18\" y1=\"0\" x2=\"89\" y2=\"70\" />\n",
       "  <line x1=\"19\" y1=\"0\" x2=\"89\" y2=\"70\" />\n",
       "  <line x1=\"20\" y1=\"0\" x2=\"90\" y2=\"70\" />\n",
       "  <line x1=\"20\" y1=\"0\" x2=\"91\" y2=\"70\" />\n",
       "  <line x1=\"21\" y1=\"0\" x2=\"92\" y2=\"70\" />\n",
       "  <line x1=\"22\" y1=\"0\" x2=\"93\" y2=\"70\" />\n",
       "  <line x1=\"23\" y1=\"0\" x2=\"94\" y2=\"70\" />\n",
       "  <line x1=\"24\" y1=\"0\" x2=\"94\" y2=\"70\" />\n",
       "  <line x1=\"25\" y1=\"0\" x2=\"95\" y2=\"70\" />\n",
       "  <line x1=\"25\" y1=\"0\" x2=\"96\" y2=\"70\" />\n",
       "  <line x1=\"26\" y1=\"0\" x2=\"97\" y2=\"70\" />\n",
       "  <line x1=\"27\" y1=\"0\" x2=\"98\" y2=\"70\" />\n",
       "  <line x1=\"28\" y1=\"0\" x2=\"99\" y2=\"70\" />\n",
       "  <line x1=\"29\" y1=\"0\" x2=\"99\" y2=\"70\" />\n",
       "  <line x1=\"30\" y1=\"0\" x2=\"100\" y2=\"70\" />\n",
       "  <line x1=\"31\" y1=\"0\" x2=\"101\" y2=\"70\" />\n",
       "  <line x1=\"31\" y1=\"0\" x2=\"102\" y2=\"70\" />\n",
       "  <line x1=\"32\" y1=\"0\" x2=\"103\" y2=\"70\" />\n",
       "  <line x1=\"33\" y1=\"0\" x2=\"104\" y2=\"70\" />\n",
       "  <line x1=\"34\" y1=\"0\" x2=\"104\" y2=\"70\" />\n",
       "  <line x1=\"35\" y1=\"0\" x2=\"105\" y2=\"70\" />\n",
       "  <line x1=\"36\" y1=\"0\" x2=\"106\" y2=\"70\" />\n",
       "  <line x1=\"36\" y1=\"0\" x2=\"107\" y2=\"70\" />\n",
       "  <line x1=\"37\" y1=\"0\" x2=\"108\" y2=\"70\" />\n",
       "  <line x1=\"38\" y1=\"0\" x2=\"109\" y2=\"70\" />\n",
       "  <line x1=\"39\" y1=\"0\" x2=\"110\" y2=\"70\" />\n",
       "  <line x1=\"40\" y1=\"0\" x2=\"110\" y2=\"70\" />\n",
       "  <line x1=\"41\" y1=\"0\" x2=\"111\" y2=\"70\" />\n",
       "  <line x1=\"41\" y1=\"0\" x2=\"112\" y2=\"70\" />\n",
       "  <line x1=\"42\" y1=\"0\" x2=\"113\" y2=\"70\" />\n",
       "  <line x1=\"43\" y1=\"0\" x2=\"114\" y2=\"70\" />\n",
       "  <line x1=\"44\" y1=\"0\" x2=\"115\" y2=\"70\" />\n",
       "  <line x1=\"45\" y1=\"0\" x2=\"115\" y2=\"70\" />\n",
       "  <line x1=\"46\" y1=\"0\" x2=\"116\" y2=\"70\" />\n",
       "  <line x1=\"47\" y1=\"0\" x2=\"117\" y2=\"70\" />\n",
       "  <line x1=\"47\" y1=\"0\" x2=\"118\" y2=\"70\" />\n",
       "  <line x1=\"48\" y1=\"0\" x2=\"119\" y2=\"70\" />\n",
       "  <line x1=\"49\" y1=\"0\" x2=\"120\" y2=\"70\" />\n",
       "  <line x1=\"50\" y1=\"0\" x2=\"120\" y2=\"70\" style=\"stroke-width:2\" />\n",
       "\n",
       "  <!-- Colored Rectangle -->\n",
       "  <polygon points=\"10.000000,0.000000 50.396466,0.000000 120.984701,70.588235 80.588235,70.588235\" style=\"fill:#ECB172A0;stroke-width:0\"/>\n",
       "\n",
       "  <!-- Horizontal lines -->\n",
       "  <line x1=\"80\" y1=\"70\" x2=\"120\" y2=\"70\" style=\"stroke-width:2\" />\n",
       "  <line x1=\"80\" y1=\"72\" x2=\"120\" y2=\"72\" />\n",
       "  <line x1=\"80\" y1=\"73\" x2=\"120\" y2=\"73\" />\n",
       "  <line x1=\"80\" y1=\"75\" x2=\"120\" y2=\"75\" />\n",
       "  <line x1=\"80\" y1=\"76\" x2=\"120\" y2=\"76\" />\n",
       "  <line x1=\"80\" y1=\"78\" x2=\"120\" y2=\"78\" />\n",
       "  <line x1=\"80\" y1=\"79\" x2=\"120\" y2=\"79\" />\n",
       "  <line x1=\"80\" y1=\"81\" x2=\"120\" y2=\"81\" />\n",
       "  <line x1=\"80\" y1=\"82\" x2=\"120\" y2=\"82\" />\n",
       "  <line x1=\"80\" y1=\"84\" x2=\"120\" y2=\"84\" />\n",
       "  <line x1=\"80\" y1=\"85\" x2=\"120\" y2=\"85\" />\n",
       "  <line x1=\"80\" y1=\"87\" x2=\"120\" y2=\"87\" />\n",
       "  <line x1=\"80\" y1=\"88\" x2=\"120\" y2=\"88\" />\n",
       "  <line x1=\"80\" y1=\"90\" x2=\"120\" y2=\"90\" />\n",
       "  <line x1=\"80\" y1=\"91\" x2=\"120\" y2=\"91\" />\n",
       "  <line x1=\"80\" y1=\"93\" x2=\"120\" y2=\"93\" />\n",
       "  <line x1=\"80\" y1=\"94\" x2=\"120\" y2=\"94\" />\n",
       "  <line x1=\"80\" y1=\"96\" x2=\"120\" y2=\"96\" />\n",
       "  <line x1=\"80\" y1=\"98\" x2=\"120\" y2=\"98\" />\n",
       "  <line x1=\"80\" y1=\"99\" x2=\"120\" y2=\"99\" />\n",
       "  <line x1=\"80\" y1=\"101\" x2=\"120\" y2=\"101\" />\n",
       "  <line x1=\"80\" y1=\"102\" x2=\"120\" y2=\"102\" />\n",
       "  <line x1=\"80\" y1=\"104\" x2=\"120\" y2=\"104\" />\n",
       "  <line x1=\"80\" y1=\"105\" x2=\"120\" y2=\"105\" />\n",
       "  <line x1=\"80\" y1=\"107\" x2=\"120\" y2=\"107\" style=\"stroke-width:2\" />\n",
       "\n",
       "  <!-- Vertical lines -->\n",
       "  <line x1=\"80\" y1=\"70\" x2=\"80\" y2=\"107\" style=\"stroke-width:2\" />\n",
       "  <line x1=\"81\" y1=\"70\" x2=\"81\" y2=\"107\" />\n",
       "  <line x1=\"82\" y1=\"70\" x2=\"82\" y2=\"107\" />\n",
       "  <line x1=\"83\" y1=\"70\" x2=\"83\" y2=\"107\" />\n",
       "  <line x1=\"83\" y1=\"70\" x2=\"83\" y2=\"107\" />\n",
       "  <line x1=\"84\" y1=\"70\" x2=\"84\" y2=\"107\" />\n",
       "  <line x1=\"85\" y1=\"70\" x2=\"85\" y2=\"107\" />\n",
       "  <line x1=\"86\" y1=\"70\" x2=\"86\" y2=\"107\" />\n",
       "  <line x1=\"87\" y1=\"70\" x2=\"87\" y2=\"107\" />\n",
       "  <line x1=\"88\" y1=\"70\" x2=\"88\" y2=\"107\" />\n",
       "  <line x1=\"89\" y1=\"70\" x2=\"89\" y2=\"107\" />\n",
       "  <line x1=\"89\" y1=\"70\" x2=\"89\" y2=\"107\" />\n",
       "  <line x1=\"90\" y1=\"70\" x2=\"90\" y2=\"107\" />\n",
       "  <line x1=\"91\" y1=\"70\" x2=\"91\" y2=\"107\" />\n",
       "  <line x1=\"92\" y1=\"70\" x2=\"92\" y2=\"107\" />\n",
       "  <line x1=\"93\" y1=\"70\" x2=\"93\" y2=\"107\" />\n",
       "  <line x1=\"94\" y1=\"70\" x2=\"94\" y2=\"107\" />\n",
       "  <line x1=\"94\" y1=\"70\" x2=\"94\" y2=\"107\" />\n",
       "  <line x1=\"95\" y1=\"70\" x2=\"95\" y2=\"107\" />\n",
       "  <line x1=\"96\" y1=\"70\" x2=\"96\" y2=\"107\" />\n",
       "  <line x1=\"97\" y1=\"70\" x2=\"97\" y2=\"107\" />\n",
       "  <line x1=\"98\" y1=\"70\" x2=\"98\" y2=\"107\" />\n",
       "  <line x1=\"99\" y1=\"70\" x2=\"99\" y2=\"107\" />\n",
       "  <line x1=\"99\" y1=\"70\" x2=\"99\" y2=\"107\" />\n",
       "  <line x1=\"100\" y1=\"70\" x2=\"100\" y2=\"107\" />\n",
       "  <line x1=\"101\" y1=\"70\" x2=\"101\" y2=\"107\" />\n",
       "  <line x1=\"102\" y1=\"70\" x2=\"102\" y2=\"107\" />\n",
       "  <line x1=\"103\" y1=\"70\" x2=\"103\" y2=\"107\" />\n",
       "  <line x1=\"104\" y1=\"70\" x2=\"104\" y2=\"107\" />\n",
       "  <line x1=\"104\" y1=\"70\" x2=\"104\" y2=\"107\" />\n",
       "  <line x1=\"105\" y1=\"70\" x2=\"105\" y2=\"107\" />\n",
       "  <line x1=\"106\" y1=\"70\" x2=\"106\" y2=\"107\" />\n",
       "  <line x1=\"107\" y1=\"70\" x2=\"107\" y2=\"107\" />\n",
       "  <line x1=\"108\" y1=\"70\" x2=\"108\" y2=\"107\" />\n",
       "  <line x1=\"109\" y1=\"70\" x2=\"109\" y2=\"107\" />\n",
       "  <line x1=\"110\" y1=\"70\" x2=\"110\" y2=\"107\" />\n",
       "  <line x1=\"110\" y1=\"70\" x2=\"110\" y2=\"107\" />\n",
       "  <line x1=\"111\" y1=\"70\" x2=\"111\" y2=\"107\" />\n",
       "  <line x1=\"112\" y1=\"70\" x2=\"112\" y2=\"107\" />\n",
       "  <line x1=\"113\" y1=\"70\" x2=\"113\" y2=\"107\" />\n",
       "  <line x1=\"114\" y1=\"70\" x2=\"114\" y2=\"107\" />\n",
       "  <line x1=\"115\" y1=\"70\" x2=\"115\" y2=\"107\" />\n",
       "  <line x1=\"115\" y1=\"70\" x2=\"115\" y2=\"107\" />\n",
       "  <line x1=\"116\" y1=\"70\" x2=\"116\" y2=\"107\" />\n",
       "  <line x1=\"117\" y1=\"70\" x2=\"117\" y2=\"107\" />\n",
       "  <line x1=\"118\" y1=\"70\" x2=\"118\" y2=\"107\" />\n",
       "  <line x1=\"119\" y1=\"70\" x2=\"119\" y2=\"107\" />\n",
       "  <line x1=\"120\" y1=\"70\" x2=\"120\" y2=\"107\" />\n",
       "  <line x1=\"120\" y1=\"70\" x2=\"120\" y2=\"107\" style=\"stroke-width:2\" />\n",
       "\n",
       "  <!-- Colored Rectangle -->\n",
       "  <polygon points=\"80.588235,70.588235 120.984701,70.588235 120.984701,107.161112 80.588235,107.161112\" style=\"fill:#ECB172A0;stroke-width:0\"/>\n",
       "\n",
       "  <!-- Text -->\n",
       "  <text x=\"100.786468\" y=\"127.161112\" font-size=\"1.0rem\" font-weight=\"100\" text-anchor=\"middle\" >720</text>\n",
       "  <text x=\"140.984701\" y=\"88.874674\" font-size=\"1.0rem\" font-weight=\"100\" text-anchor=\"middle\" transform=\"rotate(-90,140.984701,88.874674)\">360</text>\n",
       "  <text x=\"35.294118\" y=\"91.866995\" font-size=\"1.0rem\" font-weight=\"100\" text-anchor=\"middle\" transform=\"rotate(45,35.294118,91.866995)\">5114</text>\n",
       "</svg>\n",
       "</td>\n",
       "</tr>\n",
       "</table></pre></li><li class='xr-var-item'><div class='xr-var-name'><span>obs</span></div><div class='xr-var-dims'>(time, lat, lon)</div><div class='xr-var-dtype'>float64</div><div class='xr-var-preview xr-preview'>dask.array&lt;chunksize=(5114, 15, 15), meta=np.ndarray&gt;</div><input id='attrs-cb3b6104-1ba1-4ac5-9c09-0413be66977d' class='xr-var-attrs-in' type='checkbox' ><label for='attrs-cb3b6104-1ba1-4ac5-9c09-0413be66977d' title='Show/Hide attributes'><svg class='icon xr-icon-file-text2'><use xlink:href='#icon-file-text2'></use></svg></label><input id='data-96f107d3-ba58-45bf-abb6-cde84a9287fc' class='xr-var-data-in' type='checkbox'><label for='data-96f107d3-ba58-45bf-abb6-cde84a9287fc' title='Show/Hide data repr'><svg class='icon xr-icon-database'><use xlink:href='#icon-database'></use></svg></label><div class='xr-var-attrs'><dl class='xr-attrs'><dt><span>units :</span></dt><dd>$mm day^{-1}$</dd><dt><span>long_name :</span></dt><dd>ET</dd></dl></div><pre class='xr-var-data'><table>\n",
       "<tr>\n",
       "<td>\n",
       "<table>\n",
       "  <thead>\n",
       "    <tr><td> </td><th> Array </th><th> Chunk </th></tr>\n",
       "  </thead>\n",
       "  <tbody>\n",
       "    <tr><th> Bytes </th><td> 10.60 GB </td> <td> 9.21 MB </td></tr>\n",
       "    <tr><th> Shape </th><td> (5114, 360, 720) </td> <td> (5114, 15, 15) </td></tr>\n",
       "    <tr><th> Count </th><td> 2305 Tasks </td><td> 1152 Chunks </td></tr>\n",
       "    <tr><th> Type </th><td> float64 </td><td> numpy.ndarray </td></tr>\n",
       "  </tbody>\n",
       "</table>\n",
       "</td>\n",
       "<td>\n",
       "<svg width=\"170\" height=\"157\" style=\"stroke:rgb(0,0,0);stroke-width:1\" >\n",
       "\n",
       "  <!-- Horizontal lines -->\n",
       "  <line x1=\"10\" y1=\"0\" x2=\"80\" y2=\"70\" style=\"stroke-width:2\" />\n",
       "  <line x1=\"10\" y1=\"1\" x2=\"80\" y2=\"72\" />\n",
       "  <line x1=\"10\" y1=\"3\" x2=\"80\" y2=\"73\" />\n",
       "  <line x1=\"10\" y1=\"4\" x2=\"80\" y2=\"75\" />\n",
       "  <line x1=\"10\" y1=\"6\" x2=\"80\" y2=\"76\" />\n",
       "  <line x1=\"10\" y1=\"7\" x2=\"80\" y2=\"78\" />\n",
       "  <line x1=\"10\" y1=\"9\" x2=\"80\" y2=\"79\" />\n",
       "  <line x1=\"10\" y1=\"10\" x2=\"80\" y2=\"81\" />\n",
       "  <line x1=\"10\" y1=\"12\" x2=\"80\" y2=\"82\" />\n",
       "  <line x1=\"10\" y1=\"13\" x2=\"80\" y2=\"84\" />\n",
       "  <line x1=\"10\" y1=\"15\" x2=\"80\" y2=\"85\" />\n",
       "  <line x1=\"10\" y1=\"16\" x2=\"80\" y2=\"87\" />\n",
       "  <line x1=\"10\" y1=\"18\" x2=\"80\" y2=\"88\" />\n",
       "  <line x1=\"10\" y1=\"19\" x2=\"80\" y2=\"90\" />\n",
       "  <line x1=\"10\" y1=\"21\" x2=\"80\" y2=\"91\" />\n",
       "  <line x1=\"10\" y1=\"22\" x2=\"80\" y2=\"93\" />\n",
       "  <line x1=\"10\" y1=\"24\" x2=\"80\" y2=\"94\" />\n",
       "  <line x1=\"10\" y1=\"25\" x2=\"80\" y2=\"96\" />\n",
       "  <line x1=\"10\" y1=\"27\" x2=\"80\" y2=\"98\" />\n",
       "  <line x1=\"10\" y1=\"28\" x2=\"80\" y2=\"99\" />\n",
       "  <line x1=\"10\" y1=\"30\" x2=\"80\" y2=\"101\" />\n",
       "  <line x1=\"10\" y1=\"32\" x2=\"80\" y2=\"102\" />\n",
       "  <line x1=\"10\" y1=\"33\" x2=\"80\" y2=\"104\" />\n",
       "  <line x1=\"10\" y1=\"35\" x2=\"80\" y2=\"105\" />\n",
       "  <line x1=\"10\" y1=\"36\" x2=\"80\" y2=\"107\" style=\"stroke-width:2\" />\n",
       "\n",
       "  <!-- Vertical lines -->\n",
       "  <line x1=\"10\" y1=\"0\" x2=\"10\" y2=\"36\" style=\"stroke-width:2\" />\n",
       "  <line x1=\"80\" y1=\"70\" x2=\"80\" y2=\"107\" style=\"stroke-width:2\" />\n",
       "\n",
       "  <!-- Colored Rectangle -->\n",
       "  <polygon points=\"10.000000,0.000000 80.588235,70.588235 80.588235,107.161112 10.000000,36.572877\" style=\"fill:#ECB172A0;stroke-width:0\"/>\n",
       "\n",
       "  <!-- Horizontal lines -->\n",
       "  <line x1=\"10\" y1=\"0\" x2=\"50\" y2=\"0\" style=\"stroke-width:2\" />\n",
       "  <line x1=\"80\" y1=\"70\" x2=\"120\" y2=\"70\" style=\"stroke-width:2\" />\n",
       "\n",
       "  <!-- Vertical lines -->\n",
       "  <line x1=\"10\" y1=\"0\" x2=\"80\" y2=\"70\" style=\"stroke-width:2\" />\n",
       "  <line x1=\"10\" y1=\"0\" x2=\"81\" y2=\"70\" />\n",
       "  <line x1=\"11\" y1=\"0\" x2=\"82\" y2=\"70\" />\n",
       "  <line x1=\"12\" y1=\"0\" x2=\"83\" y2=\"70\" />\n",
       "  <line x1=\"13\" y1=\"0\" x2=\"83\" y2=\"70\" />\n",
       "  <line x1=\"14\" y1=\"0\" x2=\"84\" y2=\"70\" />\n",
       "  <line x1=\"15\" y1=\"0\" x2=\"85\" y2=\"70\" />\n",
       "  <line x1=\"15\" y1=\"0\" x2=\"86\" y2=\"70\" />\n",
       "  <line x1=\"16\" y1=\"0\" x2=\"87\" y2=\"70\" />\n",
       "  <line x1=\"17\" y1=\"0\" x2=\"88\" y2=\"70\" />\n",
       "  <line x1=\"18\" y1=\"0\" x2=\"89\" y2=\"70\" />\n",
       "  <line x1=\"19\" y1=\"0\" x2=\"89\" y2=\"70\" />\n",
       "  <line x1=\"20\" y1=\"0\" x2=\"90\" y2=\"70\" />\n",
       "  <line x1=\"20\" y1=\"0\" x2=\"91\" y2=\"70\" />\n",
       "  <line x1=\"21\" y1=\"0\" x2=\"92\" y2=\"70\" />\n",
       "  <line x1=\"22\" y1=\"0\" x2=\"93\" y2=\"70\" />\n",
       "  <line x1=\"23\" y1=\"0\" x2=\"94\" y2=\"70\" />\n",
       "  <line x1=\"24\" y1=\"0\" x2=\"94\" y2=\"70\" />\n",
       "  <line x1=\"25\" y1=\"0\" x2=\"95\" y2=\"70\" />\n",
       "  <line x1=\"25\" y1=\"0\" x2=\"96\" y2=\"70\" />\n",
       "  <line x1=\"26\" y1=\"0\" x2=\"97\" y2=\"70\" />\n",
       "  <line x1=\"27\" y1=\"0\" x2=\"98\" y2=\"70\" />\n",
       "  <line x1=\"28\" y1=\"0\" x2=\"99\" y2=\"70\" />\n",
       "  <line x1=\"29\" y1=\"0\" x2=\"99\" y2=\"70\" />\n",
       "  <line x1=\"30\" y1=\"0\" x2=\"100\" y2=\"70\" />\n",
       "  <line x1=\"31\" y1=\"0\" x2=\"101\" y2=\"70\" />\n",
       "  <line x1=\"31\" y1=\"0\" x2=\"102\" y2=\"70\" />\n",
       "  <line x1=\"32\" y1=\"0\" x2=\"103\" y2=\"70\" />\n",
       "  <line x1=\"33\" y1=\"0\" x2=\"104\" y2=\"70\" />\n",
       "  <line x1=\"34\" y1=\"0\" x2=\"104\" y2=\"70\" />\n",
       "  <line x1=\"35\" y1=\"0\" x2=\"105\" y2=\"70\" />\n",
       "  <line x1=\"36\" y1=\"0\" x2=\"106\" y2=\"70\" />\n",
       "  <line x1=\"36\" y1=\"0\" x2=\"107\" y2=\"70\" />\n",
       "  <line x1=\"37\" y1=\"0\" x2=\"108\" y2=\"70\" />\n",
       "  <line x1=\"38\" y1=\"0\" x2=\"109\" y2=\"70\" />\n",
       "  <line x1=\"39\" y1=\"0\" x2=\"110\" y2=\"70\" />\n",
       "  <line x1=\"40\" y1=\"0\" x2=\"110\" y2=\"70\" />\n",
       "  <line x1=\"41\" y1=\"0\" x2=\"111\" y2=\"70\" />\n",
       "  <line x1=\"41\" y1=\"0\" x2=\"112\" y2=\"70\" />\n",
       "  <line x1=\"42\" y1=\"0\" x2=\"113\" y2=\"70\" />\n",
       "  <line x1=\"43\" y1=\"0\" x2=\"114\" y2=\"70\" />\n",
       "  <line x1=\"44\" y1=\"0\" x2=\"115\" y2=\"70\" />\n",
       "  <line x1=\"45\" y1=\"0\" x2=\"115\" y2=\"70\" />\n",
       "  <line x1=\"46\" y1=\"0\" x2=\"116\" y2=\"70\" />\n",
       "  <line x1=\"47\" y1=\"0\" x2=\"117\" y2=\"70\" />\n",
       "  <line x1=\"47\" y1=\"0\" x2=\"118\" y2=\"70\" />\n",
       "  <line x1=\"48\" y1=\"0\" x2=\"119\" y2=\"70\" />\n",
       "  <line x1=\"49\" y1=\"0\" x2=\"120\" y2=\"70\" />\n",
       "  <line x1=\"50\" y1=\"0\" x2=\"120\" y2=\"70\" style=\"stroke-width:2\" />\n",
       "\n",
       "  <!-- Colored Rectangle -->\n",
       "  <polygon points=\"10.000000,0.000000 50.396466,0.000000 120.984701,70.588235 80.588235,70.588235\" style=\"fill:#ECB172A0;stroke-width:0\"/>\n",
       "\n",
       "  <!-- Horizontal lines -->\n",
       "  <line x1=\"80\" y1=\"70\" x2=\"120\" y2=\"70\" style=\"stroke-width:2\" />\n",
       "  <line x1=\"80\" y1=\"72\" x2=\"120\" y2=\"72\" />\n",
       "  <line x1=\"80\" y1=\"73\" x2=\"120\" y2=\"73\" />\n",
       "  <line x1=\"80\" y1=\"75\" x2=\"120\" y2=\"75\" />\n",
       "  <line x1=\"80\" y1=\"76\" x2=\"120\" y2=\"76\" />\n",
       "  <line x1=\"80\" y1=\"78\" x2=\"120\" y2=\"78\" />\n",
       "  <line x1=\"80\" y1=\"79\" x2=\"120\" y2=\"79\" />\n",
       "  <line x1=\"80\" y1=\"81\" x2=\"120\" y2=\"81\" />\n",
       "  <line x1=\"80\" y1=\"82\" x2=\"120\" y2=\"82\" />\n",
       "  <line x1=\"80\" y1=\"84\" x2=\"120\" y2=\"84\" />\n",
       "  <line x1=\"80\" y1=\"85\" x2=\"120\" y2=\"85\" />\n",
       "  <line x1=\"80\" y1=\"87\" x2=\"120\" y2=\"87\" />\n",
       "  <line x1=\"80\" y1=\"88\" x2=\"120\" y2=\"88\" />\n",
       "  <line x1=\"80\" y1=\"90\" x2=\"120\" y2=\"90\" />\n",
       "  <line x1=\"80\" y1=\"91\" x2=\"120\" y2=\"91\" />\n",
       "  <line x1=\"80\" y1=\"93\" x2=\"120\" y2=\"93\" />\n",
       "  <line x1=\"80\" y1=\"94\" x2=\"120\" y2=\"94\" />\n",
       "  <line x1=\"80\" y1=\"96\" x2=\"120\" y2=\"96\" />\n",
       "  <line x1=\"80\" y1=\"98\" x2=\"120\" y2=\"98\" />\n",
       "  <line x1=\"80\" y1=\"99\" x2=\"120\" y2=\"99\" />\n",
       "  <line x1=\"80\" y1=\"101\" x2=\"120\" y2=\"101\" />\n",
       "  <line x1=\"80\" y1=\"102\" x2=\"120\" y2=\"102\" />\n",
       "  <line x1=\"80\" y1=\"104\" x2=\"120\" y2=\"104\" />\n",
       "  <line x1=\"80\" y1=\"105\" x2=\"120\" y2=\"105\" />\n",
       "  <line x1=\"80\" y1=\"107\" x2=\"120\" y2=\"107\" style=\"stroke-width:2\" />\n",
       "\n",
       "  <!-- Vertical lines -->\n",
       "  <line x1=\"80\" y1=\"70\" x2=\"80\" y2=\"107\" style=\"stroke-width:2\" />\n",
       "  <line x1=\"81\" y1=\"70\" x2=\"81\" y2=\"107\" />\n",
       "  <line x1=\"82\" y1=\"70\" x2=\"82\" y2=\"107\" />\n",
       "  <line x1=\"83\" y1=\"70\" x2=\"83\" y2=\"107\" />\n",
       "  <line x1=\"83\" y1=\"70\" x2=\"83\" y2=\"107\" />\n",
       "  <line x1=\"84\" y1=\"70\" x2=\"84\" y2=\"107\" />\n",
       "  <line x1=\"85\" y1=\"70\" x2=\"85\" y2=\"107\" />\n",
       "  <line x1=\"86\" y1=\"70\" x2=\"86\" y2=\"107\" />\n",
       "  <line x1=\"87\" y1=\"70\" x2=\"87\" y2=\"107\" />\n",
       "  <line x1=\"88\" y1=\"70\" x2=\"88\" y2=\"107\" />\n",
       "  <line x1=\"89\" y1=\"70\" x2=\"89\" y2=\"107\" />\n",
       "  <line x1=\"89\" y1=\"70\" x2=\"89\" y2=\"107\" />\n",
       "  <line x1=\"90\" y1=\"70\" x2=\"90\" y2=\"107\" />\n",
       "  <line x1=\"91\" y1=\"70\" x2=\"91\" y2=\"107\" />\n",
       "  <line x1=\"92\" y1=\"70\" x2=\"92\" y2=\"107\" />\n",
       "  <line x1=\"93\" y1=\"70\" x2=\"93\" y2=\"107\" />\n",
       "  <line x1=\"94\" y1=\"70\" x2=\"94\" y2=\"107\" />\n",
       "  <line x1=\"94\" y1=\"70\" x2=\"94\" y2=\"107\" />\n",
       "  <line x1=\"95\" y1=\"70\" x2=\"95\" y2=\"107\" />\n",
       "  <line x1=\"96\" y1=\"70\" x2=\"96\" y2=\"107\" />\n",
       "  <line x1=\"97\" y1=\"70\" x2=\"97\" y2=\"107\" />\n",
       "  <line x1=\"98\" y1=\"70\" x2=\"98\" y2=\"107\" />\n",
       "  <line x1=\"99\" y1=\"70\" x2=\"99\" y2=\"107\" />\n",
       "  <line x1=\"99\" y1=\"70\" x2=\"99\" y2=\"107\" />\n",
       "  <line x1=\"100\" y1=\"70\" x2=\"100\" y2=\"107\" />\n",
       "  <line x1=\"101\" y1=\"70\" x2=\"101\" y2=\"107\" />\n",
       "  <line x1=\"102\" y1=\"70\" x2=\"102\" y2=\"107\" />\n",
       "  <line x1=\"103\" y1=\"70\" x2=\"103\" y2=\"107\" />\n",
       "  <line x1=\"104\" y1=\"70\" x2=\"104\" y2=\"107\" />\n",
       "  <line x1=\"104\" y1=\"70\" x2=\"104\" y2=\"107\" />\n",
       "  <line x1=\"105\" y1=\"70\" x2=\"105\" y2=\"107\" />\n",
       "  <line x1=\"106\" y1=\"70\" x2=\"106\" y2=\"107\" />\n",
       "  <line x1=\"107\" y1=\"70\" x2=\"107\" y2=\"107\" />\n",
       "  <line x1=\"108\" y1=\"70\" x2=\"108\" y2=\"107\" />\n",
       "  <line x1=\"109\" y1=\"70\" x2=\"109\" y2=\"107\" />\n",
       "  <line x1=\"110\" y1=\"70\" x2=\"110\" y2=\"107\" />\n",
       "  <line x1=\"110\" y1=\"70\" x2=\"110\" y2=\"107\" />\n",
       "  <line x1=\"111\" y1=\"70\" x2=\"111\" y2=\"107\" />\n",
       "  <line x1=\"112\" y1=\"70\" x2=\"112\" y2=\"107\" />\n",
       "  <line x1=\"113\" y1=\"70\" x2=\"113\" y2=\"107\" />\n",
       "  <line x1=\"114\" y1=\"70\" x2=\"114\" y2=\"107\" />\n",
       "  <line x1=\"115\" y1=\"70\" x2=\"115\" y2=\"107\" />\n",
       "  <line x1=\"115\" y1=\"70\" x2=\"115\" y2=\"107\" />\n",
       "  <line x1=\"116\" y1=\"70\" x2=\"116\" y2=\"107\" />\n",
       "  <line x1=\"117\" y1=\"70\" x2=\"117\" y2=\"107\" />\n",
       "  <line x1=\"118\" y1=\"70\" x2=\"118\" y2=\"107\" />\n",
       "  <line x1=\"119\" y1=\"70\" x2=\"119\" y2=\"107\" />\n",
       "  <line x1=\"120\" y1=\"70\" x2=\"120\" y2=\"107\" />\n",
       "  <line x1=\"120\" y1=\"70\" x2=\"120\" y2=\"107\" style=\"stroke-width:2\" />\n",
       "\n",
       "  <!-- Colored Rectangle -->\n",
       "  <polygon points=\"80.588235,70.588235 120.984701,70.588235 120.984701,107.161112 80.588235,107.161112\" style=\"fill:#ECB172A0;stroke-width:0\"/>\n",
       "\n",
       "  <!-- Text -->\n",
       "  <text x=\"100.786468\" y=\"127.161112\" font-size=\"1.0rem\" font-weight=\"100\" text-anchor=\"middle\" >720</text>\n",
       "  <text x=\"140.984701\" y=\"88.874674\" font-size=\"1.0rem\" font-weight=\"100\" text-anchor=\"middle\" transform=\"rotate(-90,140.984701,88.874674)\">360</text>\n",
       "  <text x=\"35.294118\" y=\"91.866995\" font-size=\"1.0rem\" font-weight=\"100\" text-anchor=\"middle\" transform=\"rotate(45,35.294118,91.866995)\">5114</text>\n",
       "</svg>\n",
       "</td>\n",
       "</tr>\n",
       "</table></pre></li></ul></div></li><li class='xr-section-item'><input id='section-04b88e60-83ff-4233-b5b9-9017648294e9' class='xr-section-summary-in' type='checkbox'  checked><label for='section-04b88e60-83ff-4233-b5b9-9017648294e9' class='xr-section-summary' >Attributes: <span>(5)</span></label><div class='xr-section-inline-details'></div><div class='xr-section-details'><dl class='xr-attrs'><dt><span>contact :</span></dt><dd>bkraft@bgc-jena.mpg.de, sbesnard@bgc-jena.mpg.de</dd><dt><span>created :</span></dt><dd>Jun 08 2020</dd><dt><span>description :</span></dt><dd>LSTM emulation of physical process model (Koirala et al. (2017))</dd><dt><span>long_name :</span></dt><dd>total evapotranspiration</dd><dt><span>var :</span></dt><dd>et</dd></dl></div></li></ul></div></div>"
      ],
      "text/plain": [
       "<xarray.Dataset>\n",
       "Dimensions:  (lat: 360, lon: 720, time: 5114)\n",
       "Coordinates:\n",
       "  * time     (time) datetime64[ns] 2000-01-01 2000-01-02 ... 2013-12-31\n",
       "  * lon      (lon) float64 -179.8 -179.2 -178.8 -178.2 ... 178.8 179.2 179.8\n",
       "  * lat      (lat) float64 89.75 89.25 88.75 88.25 ... -88.75 -89.25 -89.75\n",
       "Data variables:\n",
       "    mod      (time, lat, lon) float64 dask.array<chunksize=(5114, 15, 15), meta=np.ndarray>\n",
       "    obs      (time, lat, lon) float64 dask.array<chunksize=(5114, 15, 15), meta=np.ndarray>\n",
       "Attributes:\n",
       "    contact:      bkraft@bgc-jena.mpg.de, sbesnard@bgc-jena.mpg.de\n",
       "    created:      Jun 08 2020\n",
       "    description:  LSTM emulation of physical process model (Koirala et al. (2...\n",
       "    long_name:    total evapotranspiration\n",
       "    var:          et"
      ]
     },
     "execution_count": 13,
     "metadata": {},
     "output_type": "execute_result"
    }
   ],
   "source": [
    "ds"
   ]
  },
  {
   "cell_type": "code",
   "execution_count": null,
   "metadata": {},
   "outputs": [],
   "source": [
    "et"
   ]
  },
  {
   "cell_type": "code",
   "execution_count": null,
   "metadata": {},
   "outputs": [],
   "source": []
  },
  {
   "cell_type": "code",
   "execution_count": 7,
   "metadata": {},
   "outputs": [],
   "source": [
    "fig_width_pt = 443.57848                # Get this from LaTeX using \\showthe\\columnwidth\n",
    "inches_per_pt = 1.0/72.                # Convert pt to inches\n",
    "golden_mean = (np.sqrt(5)-1.0)/2.0         # Aesthetic ratio\n",
    "fig_width = fig_width_pt*inches_per_pt  # width in inches\n",
    "fig_height =fig_width*golden_mean       # height in inches\n",
    "fig_size = [fig_width,fig_height]\n",
    "\n",
    "pgf_with_latex = {                      # setup matplotlib to use latex for output\n",
    "    \"pgf.texsystem\": \"xelatex\",         # change this if using xetex or lautex\n",
    "    \"text.usetex\": True,                # use LaTeX to write all text\n",
    "    \"font.family\": \"serif\",\n",
    "    \"font.serif\": [],  # blank entries should cause plots to inherit fonts from the document\n",
    "    \"font.sans-serif\": [],\n",
    "    \"font.monospace\": [],\n",
    "    \"axes.labelsize\": 9,                # LaTeX default is 10pt font.\n",
    "    \"font.size\": 7,\n",
    "    \"legend.fontsize\": 9,               # Make the legend/label fonts a little smaller\n",
    "    \"xtick.labelsize\": 7,\n",
    "    \"ytick.labelsize\": 7,\n",
    "    \"figure.figsize\": fig_size,        # default fig size of 0.9 textwidth\n",
    "    \"pgf.preamble\": [\n",
    "        r\"\\usepackage[utf8x]{inputenc}\",    # use utf8 fonts becasue your computer can handle it :)\n",
    "        r\"\\usepackage[T1]{fontenc}\",        # plots will be generated using this preamble\n",
    "        ]\n",
    "    }\n",
    "mpl.rcParams.update(pgf_with_latex)"
   ]
  },
  {
   "cell_type": "code",
   "execution_count": 8,
   "metadata": {},
   "outputs": [],
   "source": [
    "pgf_with_latex = {                      # setup matplotlib to use latex for output\n",
    "    \"pgf.texsystem\": \"xelatex\",         # change this if using xetex or lautex\n",
    "    \"text.usetex\": True,                # use LaTeX to write all text\n",
    "    \"font.family\": \"serif\",\n",
    "    \"font.serif\": [],  # blank entries should cause plots to inherit fonts from the document\n",
    "    \"font.sans-serif\": [],\n",
    "    \"font.monospace\": [],\n",
    "    \"axes.labelsize\": 9,                # LaTeX default is 10pt font.\n",
    "    \"font.size\": 7,\n",
    "    \"legend.fontsize\": 9,               # Make the legend/label fonts a little smaller\n",
    "    \"xtick.labelsize\": 7,\n",
    "    \"ytick.labelsize\": 7,\n",
    "    \"figure.figsize\": fig_size,        # default fig size of 0.9 textwidth\n",
    "    \"pgf.preamble\": [\n",
    "        r\"\\usepackage[utf8x]{inputenc}\",    # use utf8 fonts becasue your computer can handle it :)\n",
    "        r\"\\usepackage[T1]{fontenc}\",        # plots will be generated using this preamble\n",
    "        ]\n",
    "    }\n",
    "mpl.rcParams.update(pgf_with_latex)"
   ]
  },
  {
   "cell_type": "code",
   "execution_count": 23,
   "metadata": {},
   "outputs": [],
   "source": [
    "def savefig(filename, **kwargs):\n",
    "    #plt.savefig('{}.pgf'.format(filename), pad_inches = 0, bbox_inches='tight')\n",
    "    plt.savefig('{}.pdf'.format(filename), pad_inches = 0, bbox_inches='tight', **kwargs)"
   ]
  },
  {
   "cell_type": "code",
   "execution_count": 10,
   "metadata": {},
   "outputs": [
    {
     "name": "stderr",
     "output_type": "stream",
     "text": [
      "findfont: Font family ['serif'] not found. Falling back to DejaVu Sans.\n",
      "findfont: Font family ['sans-serif'] not found. Falling back to DejaVu Sans.\n",
      "findfont: Font family ['monospace'] not found. Falling back to DejaVu Sans.\n"
     ]
    },
    {
     "data": {
      "image/png": "[encoded data removed]",
      "text/plain": [
       "<Figure size 443.578x274.147 with 1 Axes>"
      ]
     },
     "metadata": {
      "needs_background": "light"
     },
     "output_type": "display_data"
    }
   ],
   "source": [
    "fig, ax = plt.subplots()\n",
    "ax.scatter([1, 1], [2, 2])\n",
    "ax.set_title('The title')\n",
    "ax.set_xlabel('The x axis')\n",
    "ax.set_ylabel('The y axis')\n",
    "savefig('/workspace/bkraft/dl_chapter14/src/notebooks/test')"
   ]
  },
  {
   "cell_type": "code",
   "execution_count": 14,
   "metadata": {},
   "outputs": [
    {
     "data": {
      "text/plain": [
       "[6.160812222222222, 3.8075913516391036]"
      ]
     },
     "execution_count": 14,
     "metadata": {},
     "output_type": "execute_result"
    }
   ],
   "source": [
    "fig_size"
   ]
  },
  {
   "cell_type": "code",
   "execution_count": 24,
   "metadata": {},
   "outputs": [
    {
     "ename": "AttributeError",
     "evalue": "'QuadMesh' object has no property 'rasterize'",
     "output_type": "error",
     "traceback": [
      "\u001b[0;31m---------------------------------------------------------------------------\u001b[0m",
      "\u001b[0;31mAttributeError\u001b[0m                            Traceback (most recent call last)",
      "\u001b[0;32m<ipython-input-24-cbe16013a4b3>\u001b[0m in \u001b[0;36m<module>\u001b[0;34m\u001b[0m\n\u001b[1;32m     10\u001b[0m         plot_map(\n\u001b[1;32m     11\u001b[0m             \u001b[0mdt\u001b[0m\u001b[0;34m,\u001b[0m \u001b[0mlabel\u001b[0m\u001b[0;34m=\u001b[0m\u001b[0;34m' '\u001b[0m\u001b[0;34m,\u001b[0m \u001b[0mvmin\u001b[0m\u001b[0;34m=\u001b[0m\u001b[0;36m0\u001b[0m \u001b[0;32mif\u001b[0m \u001b[0mmet\u001b[0m\u001b[0;34m==\u001b[0m\u001b[0;34m'mef'\u001b[0m \u001b[0;32melse\u001b[0m \u001b[0;36m0.1\u001b[0m\u001b[0;34m,\u001b[0m \u001b[0mvmax\u001b[0m\u001b[0;34m=\u001b[0m\u001b[0;36m1\u001b[0m \u001b[0;32mif\u001b[0m \u001b[0mmet\u001b[0m\u001b[0;34m==\u001b[0m\u001b[0;34m'mef'\u001b[0m \u001b[0;32melse\u001b[0m \u001b[0;36m1\u001b[0m\u001b[0;34m,\u001b[0m \u001b[0mcmap\u001b[0m\u001b[0;34m=\u001b[0m\u001b[0;34m'plasma'\u001b[0m \u001b[0;32mif\u001b[0m \u001b[0mmet\u001b[0m\u001b[0;34m==\u001b[0m\u001b[0;34m'mef'\u001b[0m \u001b[0;32melse\u001b[0m \u001b[0;34m'plasma_r'\u001b[0m\u001b[0;34m,\u001b[0m \u001b[0max\u001b[0m\u001b[0;34m=\u001b[0m\u001b[0max\u001b[0m\u001b[0;34m,\u001b[0m\u001b[0;34m\u001b[0m\u001b[0;34m\u001b[0m\u001b[0m\n\u001b[0;32m---> 12\u001b[0;31m             histogram_placement=[0.05, 0.27, 0.2, 0.25], hist_kw={'bins': 20, 'edgecolor': 'none'}, cbar_kwargs={'extend': 'min'}, rasterize=True)\n\u001b[0m\u001b[1;32m     13\u001b[0m         \u001b[0max\u001b[0m\u001b[0;34m.\u001b[0m\u001b[0mset_title\u001b[0m\u001b[0;34m(\u001b[0m\u001b[0;34m''\u001b[0m\u001b[0;34m)\u001b[0m\u001b[0;34m\u001b[0m\u001b[0;34m\u001b[0m\u001b[0m\n\u001b[1;32m     14\u001b[0m         \u001b[0;32mif\u001b[0m \u001b[0mi\u001b[0m \u001b[0;34m==\u001b[0m \u001b[0;36m0\u001b[0m\u001b[0;34m:\u001b[0m\u001b[0;34m\u001b[0m\u001b[0;34m\u001b[0m\u001b[0m\n",
      "\u001b[0;32m~/bkraft/dl_chapter14/src/utils/plotting.py\u001b[0m in \u001b[0;36mplot_map\u001b[0;34m(ds, hist, label, coarsen, extent, histogram_placement, ax, figsize, subplot_kw, cbar_kw, hist_kw, **kwargs)\u001b[0m\n\u001b[1;32m    111\u001b[0m             \u001b[0mtransform\u001b[0m\u001b[0;34m=\u001b[0m\u001b[0mccrs\u001b[0m\u001b[0;34m.\u001b[0m\u001b[0mPlateCarree\u001b[0m\u001b[0;34m(\u001b[0m\u001b[0;34m)\u001b[0m\u001b[0;34m,\u001b[0m\u001b[0;34m\u001b[0m\u001b[0;34m\u001b[0m\u001b[0m\n\u001b[1;32m    112\u001b[0m             \u001b[0mcbar_kwargs\u001b[0m\u001b[0;34m=\u001b[0m\u001b[0mcbar_kwargs\u001b[0m\u001b[0;34m,\u001b[0m\u001b[0;34m\u001b[0m\u001b[0;34m\u001b[0m\u001b[0m\n\u001b[0;32m--> 113\u001b[0;31m             **kwargs)\n\u001b[0m\u001b[1;32m    114\u001b[0m     \u001b[0;32mif\u001b[0m \u001b[0mds\u001b[0m\u001b[0;34m.\u001b[0m\u001b[0mndim\u001b[0m \u001b[0;34m==\u001b[0m \u001b[0;36m3\u001b[0m\u001b[0;34m:\u001b[0m\u001b[0;34m\u001b[0m\u001b[0;34m\u001b[0m\u001b[0m\n\u001b[1;32m    115\u001b[0m         \u001b[0mhist\u001b[0m \u001b[0;34m=\u001b[0m \u001b[0;32mFalse\u001b[0m\u001b[0;34m\u001b[0m\u001b[0;34m\u001b[0m\u001b[0m\n",
      "\u001b[0;32m/opt/conda/lib/python3.6/site-packages/xarray/plot/plot.py\u001b[0m in \u001b[0;36mplotmethod\u001b[0;34m(_PlotMethods_obj, x, y, figsize, size, aspect, ax, row, col, col_wrap, xincrease, yincrease, add_colorbar, add_labels, vmin, vmax, cmap, colors, center, robust, extend, levels, infer_intervals, subplot_kws, cbar_ax, cbar_kwargs, xscale, yscale, xticks, yticks, xlim, ylim, norm, **kwargs)\u001b[0m\n\u001b[1;32m    814\u001b[0m         \u001b[0;32mfor\u001b[0m \u001b[0marg\u001b[0m \u001b[0;32min\u001b[0m \u001b[0;34m[\u001b[0m\u001b[0;34m\"_PlotMethods_obj\"\u001b[0m\u001b[0;34m,\u001b[0m \u001b[0;34m\"newplotfunc\"\u001b[0m\u001b[0;34m,\u001b[0m \u001b[0;34m\"kwargs\"\u001b[0m\u001b[0;34m]\u001b[0m\u001b[0;34m:\u001b[0m\u001b[0;34m\u001b[0m\u001b[0;34m\u001b[0m\u001b[0m\n\u001b[1;32m    815\u001b[0m             \u001b[0;32mdel\u001b[0m \u001b[0mallargs\u001b[0m\u001b[0;34m[\u001b[0m\u001b[0marg\u001b[0m\u001b[0;34m]\u001b[0m\u001b[0;34m\u001b[0m\u001b[0;34m\u001b[0m\u001b[0m\n\u001b[0;32m--> 816\u001b[0;31m         \u001b[0;32mreturn\u001b[0m \u001b[0mnewplotfunc\u001b[0m\u001b[0;34m(\u001b[0m\u001b[0;34m**\u001b[0m\u001b[0mallargs\u001b[0m\u001b[0;34m)\u001b[0m\u001b[0;34m\u001b[0m\u001b[0;34m\u001b[0m\u001b[0m\n\u001b[0m\u001b[1;32m    817\u001b[0m \u001b[0;34m\u001b[0m\u001b[0m\n\u001b[1;32m    818\u001b[0m     \u001b[0;31m# Add to class _PlotMethods\u001b[0m\u001b[0;34m\u001b[0m\u001b[0;34m\u001b[0m\u001b[0;34m\u001b[0m\u001b[0m\n",
      "\u001b[0;32m/opt/conda/lib/python3.6/site-packages/xarray/plot/plot.py\u001b[0m in \u001b[0;36mnewplotfunc\u001b[0;34m(darray, x, y, figsize, size, aspect, ax, row, col, col_wrap, xincrease, yincrease, add_colorbar, add_labels, vmin, vmax, cmap, center, robust, extend, levels, infer_intervals, colors, subplot_kws, cbar_ax, cbar_kwargs, xscale, yscale, xticks, yticks, xlim, ylim, norm, **kwargs)\u001b[0m\n\u001b[1;32m    727\u001b[0m             \u001b[0mvmax\u001b[0m\u001b[0;34m=\u001b[0m\u001b[0mcmap_params\u001b[0m\u001b[0;34m[\u001b[0m\u001b[0;34m\"vmax\"\u001b[0m\u001b[0;34m]\u001b[0m\u001b[0;34m,\u001b[0m\u001b[0;34m\u001b[0m\u001b[0;34m\u001b[0m\u001b[0m\n\u001b[1;32m    728\u001b[0m             \u001b[0mnorm\u001b[0m\u001b[0;34m=\u001b[0m\u001b[0mcmap_params\u001b[0m\u001b[0;34m[\u001b[0m\u001b[0;34m\"norm\"\u001b[0m\u001b[0;34m]\u001b[0m\u001b[0;34m,\u001b[0m\u001b[0;34m\u001b[0m\u001b[0;34m\u001b[0m\u001b[0m\n\u001b[0;32m--> 729\u001b[0;31m             \u001b[0;34m**\u001b[0m\u001b[0mkwargs\u001b[0m\u001b[0;34m,\u001b[0m\u001b[0;34m\u001b[0m\u001b[0;34m\u001b[0m\u001b[0m\n\u001b[0m\u001b[1;32m    730\u001b[0m         )\n\u001b[1;32m    731\u001b[0m \u001b[0;34m\u001b[0m\u001b[0m\n",
      "\u001b[0;32m/opt/conda/lib/python3.6/site-packages/xarray/plot/plot.py\u001b[0m in \u001b[0;36mpcolormesh\u001b[0;34m(x, y, z, ax, infer_intervals, **kwargs)\u001b[0m\n\u001b[1;32m    957\u001b[0m             \u001b[0my\u001b[0m \u001b[0;34m=\u001b[0m \u001b[0m_infer_interval_breaks\u001b[0m\u001b[0;34m(\u001b[0m\u001b[0my\u001b[0m\u001b[0;34m,\u001b[0m \u001b[0maxis\u001b[0m\u001b[0;34m=\u001b[0m\u001b[0;36m0\u001b[0m\u001b[0;34m)\u001b[0m\u001b[0;34m\u001b[0m\u001b[0;34m\u001b[0m\u001b[0m\n\u001b[1;32m    958\u001b[0m \u001b[0;34m\u001b[0m\u001b[0m\n\u001b[0;32m--> 959\u001b[0;31m     \u001b[0mprimitive\u001b[0m \u001b[0;34m=\u001b[0m \u001b[0max\u001b[0m\u001b[0;34m.\u001b[0m\u001b[0mpcolormesh\u001b[0m\u001b[0;34m(\u001b[0m\u001b[0mx\u001b[0m\u001b[0;34m,\u001b[0m \u001b[0my\u001b[0m\u001b[0;34m,\u001b[0m \u001b[0mz\u001b[0m\u001b[0;34m,\u001b[0m \u001b[0;34m**\u001b[0m\u001b[0mkwargs\u001b[0m\u001b[0;34m)\u001b[0m\u001b[0;34m\u001b[0m\u001b[0;34m\u001b[0m\u001b[0m\n\u001b[0m\u001b[1;32m    960\u001b[0m \u001b[0;34m\u001b[0m\u001b[0m\n\u001b[1;32m    961\u001b[0m     \u001b[0;31m# by default, pcolormesh picks \"round\" values for bounds\u001b[0m\u001b[0;34m\u001b[0m\u001b[0;34m\u001b[0m\u001b[0;34m\u001b[0m\u001b[0m\n",
      "\u001b[0;32m/opt/conda/lib/python3.6/site-packages/cartopy/mpl/geoaxes.py\u001b[0m in \u001b[0;36mpcolormesh\u001b[0;34m(self, *args, **kwargs)\u001b[0m\n\u001b[1;32m   1457\u001b[0m                              ' consider using PlateCarree/RotatedPole.')\n\u001b[1;32m   1458\u001b[0m         \u001b[0mkwargs\u001b[0m\u001b[0;34m.\u001b[0m\u001b[0msetdefault\u001b[0m\u001b[0;34m(\u001b[0m\u001b[0;34m'transform'\u001b[0m\u001b[0;34m,\u001b[0m \u001b[0mt\u001b[0m\u001b[0;34m)\u001b[0m\u001b[0;34m\u001b[0m\u001b[0;34m\u001b[0m\u001b[0m\n\u001b[0;32m-> 1459\u001b[0;31m         \u001b[0mresult\u001b[0m \u001b[0;34m=\u001b[0m \u001b[0mself\u001b[0m\u001b[0;34m.\u001b[0m\u001b[0m_pcolormesh_patched\u001b[0m\u001b[0;34m(\u001b[0m\u001b[0;34m*\u001b[0m\u001b[0margs\u001b[0m\u001b[0;34m,\u001b[0m \u001b[0;34m**\u001b[0m\u001b[0mkwargs\u001b[0m\u001b[0;34m)\u001b[0m\u001b[0;34m\u001b[0m\u001b[0;34m\u001b[0m\u001b[0m\n\u001b[0m\u001b[1;32m   1460\u001b[0m         \u001b[0mself\u001b[0m\u001b[0;34m.\u001b[0m\u001b[0mautoscale_view\u001b[0m\u001b[0;34m(\u001b[0m\u001b[0;34m)\u001b[0m\u001b[0;34m\u001b[0m\u001b[0;34m\u001b[0m\u001b[0m\n\u001b[1;32m   1461\u001b[0m         \u001b[0;32mreturn\u001b[0m \u001b[0mresult\u001b[0m\u001b[0;34m\u001b[0m\u001b[0;34m\u001b[0m\u001b[0m\n",
      "\u001b[0;32m/opt/conda/lib/python3.6/site-packages/cartopy/mpl/geoaxes.py\u001b[0m in \u001b[0;36m_pcolormesh_patched\u001b[0;34m(self, *args, **kwargs)\u001b[0m\n\u001b[1;32m   1498\u001b[0m         collection = mcoll.QuadMesh(\n\u001b[1;32m   1499\u001b[0m             \u001b[0mNx\u001b[0m \u001b[0;34m-\u001b[0m \u001b[0;36m1\u001b[0m\u001b[0;34m,\u001b[0m \u001b[0mNy\u001b[0m \u001b[0;34m-\u001b[0m \u001b[0;36m1\u001b[0m\u001b[0;34m,\u001b[0m \u001b[0mcoords\u001b[0m\u001b[0;34m,\u001b[0m\u001b[0;34m\u001b[0m\u001b[0;34m\u001b[0m\u001b[0m\n\u001b[0;32m-> 1500\u001b[0;31m             antialiased=antialiased, shading=shading, **kwargs)\n\u001b[0m\u001b[1;32m   1501\u001b[0m         \u001b[0mcollection\u001b[0m\u001b[0;34m.\u001b[0m\u001b[0mset_alpha\u001b[0m\u001b[0;34m(\u001b[0m\u001b[0malpha\u001b[0m\u001b[0;34m)\u001b[0m\u001b[0;34m\u001b[0m\u001b[0;34m\u001b[0m\u001b[0m\n\u001b[1;32m   1502\u001b[0m         \u001b[0mcollection\u001b[0m\u001b[0;34m.\u001b[0m\u001b[0mset_array\u001b[0m\u001b[0;34m(\u001b[0m\u001b[0mC\u001b[0m\u001b[0;34m)\u001b[0m\u001b[0;34m\u001b[0m\u001b[0;34m\u001b[0m\u001b[0m\n",
      "\u001b[0;32m/opt/conda/lib/python3.6/site-packages/matplotlib/collections.py\u001b[0m in \u001b[0;36m__init__\u001b[0;34m(self, meshWidth, meshHeight, coordinates, antialiased, shading, **kwargs)\u001b[0m\n\u001b[1;32m   1913\u001b[0m     def __init__(self, meshWidth, meshHeight, coordinates,\n\u001b[1;32m   1914\u001b[0m                  antialiased=True, shading='flat', **kwargs):\n\u001b[0;32m-> 1915\u001b[0;31m         \u001b[0mCollection\u001b[0m\u001b[0;34m.\u001b[0m\u001b[0m__init__\u001b[0m\u001b[0;34m(\u001b[0m\u001b[0mself\u001b[0m\u001b[0;34m,\u001b[0m \u001b[0;34m**\u001b[0m\u001b[0mkwargs\u001b[0m\u001b[0;34m)\u001b[0m\u001b[0;34m\u001b[0m\u001b[0;34m\u001b[0m\u001b[0m\n\u001b[0m\u001b[1;32m   1916\u001b[0m         \u001b[0mself\u001b[0m\u001b[0;34m.\u001b[0m\u001b[0m_meshWidth\u001b[0m \u001b[0;34m=\u001b[0m \u001b[0mmeshWidth\u001b[0m\u001b[0;34m\u001b[0m\u001b[0;34m\u001b[0m\u001b[0m\n\u001b[1;32m   1917\u001b[0m         \u001b[0mself\u001b[0m\u001b[0;34m.\u001b[0m\u001b[0m_meshHeight\u001b[0m \u001b[0;34m=\u001b[0m \u001b[0mmeshHeight\u001b[0m\u001b[0;34m\u001b[0m\u001b[0;34m\u001b[0m\u001b[0m\n",
      "\u001b[0;32m/opt/conda/lib/python3.6/site-packages/matplotlib/collections.py\u001b[0m in \u001b[0;36m__init__\u001b[0;34m(self, edgecolors, facecolors, linewidths, linestyles, capstyle, joinstyle, antialiaseds, offsets, transOffset, norm, cmap, pickradius, hatch, urls, offset_position, zorder, **kwargs)\u001b[0m\n\u001b[1;32m    160\u001b[0m \u001b[0;34m\u001b[0m\u001b[0m\n\u001b[1;32m    161\u001b[0m         \u001b[0mself\u001b[0m\u001b[0;34m.\u001b[0m\u001b[0m_path_effects\u001b[0m \u001b[0;34m=\u001b[0m \u001b[0;32mNone\u001b[0m\u001b[0;34m\u001b[0m\u001b[0;34m\u001b[0m\u001b[0m\n\u001b[0;32m--> 162\u001b[0;31m         \u001b[0mself\u001b[0m\u001b[0;34m.\u001b[0m\u001b[0mupdate\u001b[0m\u001b[0;34m(\u001b[0m\u001b[0mkwargs\u001b[0m\u001b[0;34m)\u001b[0m\u001b[0;34m\u001b[0m\u001b[0;34m\u001b[0m\u001b[0m\n\u001b[0m\u001b[1;32m    163\u001b[0m         \u001b[0mself\u001b[0m\u001b[0;34m.\u001b[0m\u001b[0m_paths\u001b[0m \u001b[0;34m=\u001b[0m \u001b[0;32mNone\u001b[0m\u001b[0;34m\u001b[0m\u001b[0;34m\u001b[0m\u001b[0m\n\u001b[1;32m    164\u001b[0m \u001b[0;34m\u001b[0m\u001b[0m\n",
      "\u001b[0;32m/opt/conda/lib/python3.6/site-packages/matplotlib/artist.py\u001b[0m in \u001b[0;36mupdate\u001b[0;34m(self, props)\u001b[0m\n\u001b[1;32m    972\u001b[0m \u001b[0;34m\u001b[0m\u001b[0m\n\u001b[1;32m    973\u001b[0m         \u001b[0;32mwith\u001b[0m \u001b[0mcbook\u001b[0m\u001b[0;34m.\u001b[0m\u001b[0m_setattr_cm\u001b[0m\u001b[0;34m(\u001b[0m\u001b[0mself\u001b[0m\u001b[0;34m,\u001b[0m \u001b[0meventson\u001b[0m\u001b[0;34m=\u001b[0m\u001b[0;32mFalse\u001b[0m\u001b[0;34m)\u001b[0m\u001b[0;34m:\u001b[0m\u001b[0;34m\u001b[0m\u001b[0;34m\u001b[0m\u001b[0m\n\u001b[0;32m--> 974\u001b[0;31m             \u001b[0mret\u001b[0m \u001b[0;34m=\u001b[0m \u001b[0;34m[\u001b[0m\u001b[0m_update_property\u001b[0m\u001b[0;34m(\u001b[0m\u001b[0mself\u001b[0m\u001b[0;34m,\u001b[0m \u001b[0mk\u001b[0m\u001b[0;34m,\u001b[0m \u001b[0mv\u001b[0m\u001b[0;34m)\u001b[0m \u001b[0;32mfor\u001b[0m \u001b[0mk\u001b[0m\u001b[0;34m,\u001b[0m \u001b[0mv\u001b[0m \u001b[0;32min\u001b[0m \u001b[0mprops\u001b[0m\u001b[0;34m.\u001b[0m\u001b[0mitems\u001b[0m\u001b[0;34m(\u001b[0m\u001b[0;34m)\u001b[0m\u001b[0;34m]\u001b[0m\u001b[0;34m\u001b[0m\u001b[0;34m\u001b[0m\u001b[0m\n\u001b[0m\u001b[1;32m    975\u001b[0m \u001b[0;34m\u001b[0m\u001b[0m\n\u001b[1;32m    976\u001b[0m         \u001b[0;32mif\u001b[0m \u001b[0mlen\u001b[0m\u001b[0;34m(\u001b[0m\u001b[0mret\u001b[0m\u001b[0;34m)\u001b[0m\u001b[0;34m:\u001b[0m\u001b[0;34m\u001b[0m\u001b[0;34m\u001b[0m\u001b[0m\n",
      "\u001b[0;32m/opt/conda/lib/python3.6/site-packages/matplotlib/artist.py\u001b[0m in \u001b[0;36m<listcomp>\u001b[0;34m(.0)\u001b[0m\n\u001b[1;32m    972\u001b[0m \u001b[0;34m\u001b[0m\u001b[0m\n\u001b[1;32m    973\u001b[0m         \u001b[0;32mwith\u001b[0m \u001b[0mcbook\u001b[0m\u001b[0;34m.\u001b[0m\u001b[0m_setattr_cm\u001b[0m\u001b[0;34m(\u001b[0m\u001b[0mself\u001b[0m\u001b[0;34m,\u001b[0m \u001b[0meventson\u001b[0m\u001b[0;34m=\u001b[0m\u001b[0;32mFalse\u001b[0m\u001b[0;34m)\u001b[0m\u001b[0;34m:\u001b[0m\u001b[0;34m\u001b[0m\u001b[0;34m\u001b[0m\u001b[0m\n\u001b[0;32m--> 974\u001b[0;31m             \u001b[0mret\u001b[0m \u001b[0;34m=\u001b[0m \u001b[0;34m[\u001b[0m\u001b[0m_update_property\u001b[0m\u001b[0;34m(\u001b[0m\u001b[0mself\u001b[0m\u001b[0;34m,\u001b[0m \u001b[0mk\u001b[0m\u001b[0;34m,\u001b[0m \u001b[0mv\u001b[0m\u001b[0;34m)\u001b[0m \u001b[0;32mfor\u001b[0m \u001b[0mk\u001b[0m\u001b[0;34m,\u001b[0m \u001b[0mv\u001b[0m \u001b[0;32min\u001b[0m \u001b[0mprops\u001b[0m\u001b[0;34m.\u001b[0m\u001b[0mitems\u001b[0m\u001b[0;34m(\u001b[0m\u001b[0;34m)\u001b[0m\u001b[0;34m]\u001b[0m\u001b[0;34m\u001b[0m\u001b[0;34m\u001b[0m\u001b[0m\n\u001b[0m\u001b[1;32m    975\u001b[0m \u001b[0;34m\u001b[0m\u001b[0m\n\u001b[1;32m    976\u001b[0m         \u001b[0;32mif\u001b[0m \u001b[0mlen\u001b[0m\u001b[0;34m(\u001b[0m\u001b[0mret\u001b[0m\u001b[0;34m)\u001b[0m\u001b[0;34m:\u001b[0m\u001b[0;34m\u001b[0m\u001b[0;34m\u001b[0m\u001b[0m\n",
      "\u001b[0;32m/opt/conda/lib/python3.6/site-packages/matplotlib/artist.py\u001b[0m in \u001b[0;36m_update_property\u001b[0;34m(self, k, v)\u001b[0m\n\u001b[1;32m    968\u001b[0m                 \u001b[0;32mif\u001b[0m \u001b[0;32mnot\u001b[0m \u001b[0mcallable\u001b[0m\u001b[0;34m(\u001b[0m\u001b[0mfunc\u001b[0m\u001b[0;34m)\u001b[0m\u001b[0;34m:\u001b[0m\u001b[0;34m\u001b[0m\u001b[0;34m\u001b[0m\u001b[0m\n\u001b[1;32m    969\u001b[0m                     raise AttributeError('{!r} object has no property {!r}'\n\u001b[0;32m--> 970\u001b[0;31m                                          .format(type(self).__name__, k))\n\u001b[0m\u001b[1;32m    971\u001b[0m                 \u001b[0;32mreturn\u001b[0m \u001b[0mfunc\u001b[0m\u001b[0;34m(\u001b[0m\u001b[0mv\u001b[0m\u001b[0;34m)\u001b[0m\u001b[0;34m\u001b[0m\u001b[0;34m\u001b[0m\u001b[0m\n\u001b[1;32m    972\u001b[0m \u001b[0;34m\u001b[0m\u001b[0m\n",
      "\u001b[0;31mAttributeError\u001b[0m: 'QuadMesh' object has no property 'rasterize'"
     ]
    },
    {
     "data": {
      "image/png": "[encoded data removed]",
      "text/plain": [
       "<Figure size 443.578x532.294 with 8 Axes>"
      ]
     },
     "metadata": {
      "needs_background": "light"
     },
     "output_type": "display_data"
    }
   ],
   "source": [
    "fig, axes = subplots_robinson(4, 2, figsize=(6.160812222222222, 6.160812222222222*1.2), gridspec_kw={'wspace': 0, 'hspace': 0.01})\n",
    "\n",
    "for i, met in enumerate(['mef', 'rmse']):\n",
    "    \n",
    "    for j, (mod, mod_name) in enumerate(zip(['wn', 'nn', 'ww', 'nw'], [r'$\\mathrm{LSTM_{SM}}$', r'$\\mathrm{LSTM_{\\neg SM}}$', r'$\\mathrm{FC_{SM}}$', r'$\\mathrm{FC_{\\neg SM}}$'])):\n",
    "\n",
    "        ax = axes[j, i]\n",
    "        dt = metrics[met].sel(model=mod, timeres='daily', set='raw', cvset='eval')\n",
    "        label = f\"{'NSE' if met=='mef' else 'RMSE'} ({'-' if met=='mef' else r'mm d-1'})\"\n",
    "        plot_map(\n",
    "            dt, label=' ', vmin=0 if met=='mef' else 0.1, vmax=1 if met=='mef' else 1, cmap='plasma' if met=='mef' else 'plasma_r', ax=ax,\n",
    "            histogram_placement=[0.05, 0.27, 0.2, 0.25], hist_kw={'bins': 20, 'edgecolor': 'none'}, cbar_kwargs={'extend': 'min'}, rasterize=True)\n",
    "        ax.set_title('')\n",
    "        if i == 0:\n",
    "            ax.text(-0.02, 0.45, mod_name, horizontalalignment='right', verticalalignment='center', transform=ax.transAxes, rotation=90, size=9)\n",
    "        if j == 0:\n",
    "            ax.set_title(label, size=9)\n",
    "\n",
    "savefig('/workspace/bkraft/dl_chapter14/src/notebooks/test')\n",
    "\n",
    "#fig.savefig('/workspace/bkraft/dl_chapter14/src/notebooks/exp1_figures/map_mef_bias_raw_daily.png', dpi=300, bbox_inches='tight')"
   ]
  },
  {
   "cell_type": "code",
   "execution_count": null,
   "metadata": {},
   "outputs": [],
   "source": []
  },
  {
   "cell_type": "code",
   "execution_count": 25,
   "metadata": {},
   "outputs": [],
   "source": [
    "from inspect import getmembers, isclass\n",
    "import matplotlib\n",
    "import matplotlib.pyplot as plt\n",
    "import numpy as np\n",
    "\n",
    "\n",
    "def rasterize_and_save(fname, rasterize_list=None, fig=None, dpi=None,\n",
    "                       savefig_kw={}):\n",
    "    \"\"\"Save a figure with raster and vector components\n",
    "    This function lets you specify which objects to rasterize at the export\n",
    "    stage, rather than within each plotting call. Rasterizing certain\n",
    "    components of a complex figure can significantly reduce file size.\n",
    "    Inputs\n",
    "    ------\n",
    "    fname : str\n",
    "        Output filename with extension\n",
    "    rasterize_list : list (or object)\n",
    "        List of objects to rasterize (or a single object to rasterize)\n",
    "    fig : matplotlib figure object\n",
    "        Defaults to current figure\n",
    "    dpi : int\n",
    "        Resolution (dots per inch) for rasterizing\n",
    "    savefig_kw : dict\n",
    "        Extra keywords to pass to matplotlib.pyplot.savefig\n",
    "    If rasterize_list is not specified, then all contour, pcolor, and\n",
    "    collects objects (e.g., ``scatter, fill_between`` etc) will be\n",
    "    rasterized\n",
    "    Note: does not work correctly with round=True in Basemap\n",
    "    Example\n",
    "    -------\n",
    "    Rasterize the contour, pcolor, and scatter plots, but not the line\n",
    "    >>> import matplotlib.pyplot as plt\n",
    "    >>> from numpy.random import random\n",
    "    >>> X, Y, Z = random((9, 9)), random((9, 9)), random((9, 9))\n",
    "    >>> fig, ((ax1, ax2), (ax3, ax4)) = plt.subplots(ncols=2, nrows=2)\n",
    "    >>> cax1 = ax1.contourf(Z)\n",
    "    >>> cax2 = ax2.scatter(X, Y, s=Z)\n",
    "    >>> cax3 = ax3.pcolormesh(Z)\n",
    "    >>> cax4 = ax4.plot(Z[:, 0])\n",
    "    >>> rasterize_list = [cax1, cax2, cax3]\n",
    "    >>> rasterize_and_save('out.svg', rasterize_list, fig=fig, dpi=300)\n",
    "    \"\"\"\n",
    "\n",
    "    # Behave like pyplot and act on current figure if no figure is specified\n",
    "    fig = plt.gcf() if fig is None else fig\n",
    "\n",
    "    # Need to set_rasterization_zorder in order for rasterizing to work\n",
    "    zorder = -5  # Somewhat arbitrary, just ensuring less than 0\n",
    "\n",
    "    if rasterize_list is None:\n",
    "        # Have a guess at stuff that should be rasterised\n",
    "        types_to_raster = ['QuadMesh', 'Contour', 'collections']\n",
    "        rasterize_list = []\n",
    "\n",
    "        print(\"\"\"\n",
    "        No rasterize_list specified, so the following objects will\n",
    "        be rasterized: \"\"\")\n",
    "        # Get all axes, and then get objects within axes\n",
    "        for ax in fig.get_axes():\n",
    "            for item in ax.get_children():\n",
    "                if any(x in str(item) for x in types_to_raster):\n",
    "                    rasterize_list.append(item)\n",
    "        print('\\n'.join([str(x) for x in rasterize_list]))\n",
    "    else:\n",
    "        # Allow rasterize_list to be input as an object to rasterize\n",
    "        if type(rasterize_list) != list:\n",
    "            rasterize_list = [rasterize_list]\n",
    "\n",
    "    for item in rasterize_list:\n",
    "\n",
    "        # Whether or not plot is a contour plot is important\n",
    "        is_contour = (isinstance(item, matplotlib.contour.QuadContourSet) or\n",
    "                      isinstance(item, matplotlib.tri.TriContourSet))\n",
    "\n",
    "        # Whether or not collection of lines\n",
    "        # This is commented as we seldom want to rasterize lines\n",
    "        # is_lines = isinstance(item, matplotlib.collections.LineCollection)\n",
    "\n",
    "        # Whether or not current item is list of patches\n",
    "        all_patch_types = tuple(\n",
    "            x[1] for x in getmembers(matplotlib.patches, isclass))\n",
    "        try:\n",
    "            is_patch_list = isinstance(item[0], all_patch_types)\n",
    "        except TypeError:\n",
    "            is_patch_list = False\n",
    "\n",
    "        # Convert to rasterized mode and then change zorder properties\n",
    "        if is_contour:\n",
    "            curr_ax = item.ax.axes\n",
    "            curr_ax.set_rasterization_zorder(zorder)\n",
    "            # For contour plots, need to set each part of the contour\n",
    "            # collection individually\n",
    "            for contour_level in item.collections:\n",
    "                contour_level.set_zorder(zorder - 1)\n",
    "                contour_level.set_rasterized(True)\n",
    "        elif is_patch_list:\n",
    "            # For list of patches, need to set zorder for each patch\n",
    "            for patch in item:\n",
    "                curr_ax = patch.axes\n",
    "                curr_ax.set_rasterization_zorder(zorder)\n",
    "                patch.set_zorder(zorder - 1)\n",
    "                patch.set_rasterized(True)\n",
    "        else:\n",
    "            # For all other objects, we can just do it all at once\n",
    "            curr_ax = item.axes\n",
    "            curr_ax.set_rasterization_zorder(zorder)\n",
    "            item.set_rasterized(True)\n",
    "            item.set_zorder(zorder - 1)\n",
    "\n",
    "    # dpi is a savefig keyword argument, but treat it as special since it is\n",
    "    # important to this function\n",
    "    if dpi is not None:\n",
    "        savefig_kw['dpi'] = dpi\n",
    "\n",
    "    # Save resulting figure\n",
    "    fig.savefig(fname, **savefig_kw)"
   ]
  },
  {
   "cell_type": "code",
   "execution_count": 22,
   "metadata": {},
   "outputs": [
    {
     "data": {
      "image/png": "[encoded data removed]",
      "text/plain": [
       "<Figure size 443.578x274.147 with 2 Axes>"
      ]
     },
     "metadata": {
      "needs_background": "light"
     },
     "output_type": "display_data"
    }
   ],
   "source": [
    "fig, ax = subplots_robinson()\n",
    "plot_map(metrics['mef'].sel(model='nn', timeres='daily', set='raw', cvset='eval'), robust=True, rasterized=True, ax=ax)\n",
    "fig.savefig('/workspace/bkraft/plots/test.pdf')"
   ]
  },
  {
   "cell_type": "code",
   "execution_count": 18,
   "metadata": {},
   "outputs": [
    {
     "data": {
      "text/plain": [
       "<cartopy.mpl.feature_artist.FeatureArtist at 0x7f60d47c2a58>"
      ]
     },
     "execution_count": 18,
     "metadata": {},
     "output_type": "execute_result"
    }
   ],
   "source": [
    "img.axes.artists[0]"
   ]
  },
  {
   "cell_type": "code",
   "execution_count": null,
   "metadata": {},
   "outputs": [],
   "source": []
  },
  {
   "cell_type": "code",
   "execution_count": 10,
   "metadata": {},
   "outputs": [
    {
     "ename": "NameError",
     "evalue": "name 'figsize' is not defined",
     "output_type": "error",
     "traceback": [
      "\u001b[0;31m---------------------------------------------------------------------------\u001b[0m",
      "\u001b[0;31mNameError\u001b[0m                                 Traceback (most recent call last)",
      "\u001b[0;32m<ipython-input-10-2eb2d031c7b1>\u001b[0m in \u001b[0;36m<module>\u001b[0;34m\u001b[0m\n\u001b[0;32m----> 1\u001b[0;31m \u001b[0mfig\u001b[0m\u001b[0;34m,\u001b[0m \u001b[0max\u001b[0m \u001b[0;34m=\u001b[0m \u001b[0mnew_subplots\u001b[0m\u001b[0;34m(\u001b[0m\u001b[0;36m2\u001b[0m\u001b[0;34m,\u001b[0m \u001b[0;36m2\u001b[0m\u001b[0;34m,\u001b[0m \u001b[0;36m0.7\u001b[0m\u001b[0;34m,\u001b[0m \u001b[0msharey\u001b[0m\u001b[0;34m=\u001b[0m\u001b[0;34m'row'\u001b[0m\u001b[0;34m,\u001b[0m \u001b[0msharex\u001b[0m\u001b[0;34m=\u001b[0m\u001b[0;32mTrue\u001b[0m\u001b[0;34m,\u001b[0m \u001b[0mgridspec_kw\u001b[0m\u001b[0;34m=\u001b[0m\u001b[0;34m{\u001b[0m\u001b[0;34m'wspace'\u001b[0m\u001b[0;34m:\u001b[0m \u001b[0;36m0.01\u001b[0m\u001b[0;34m,\u001b[0m \u001b[0;34m'hspace'\u001b[0m\u001b[0;34m:\u001b[0m \u001b[0;36m0.1\u001b[0m\u001b[0;34m}\u001b[0m\u001b[0;34m)\u001b[0m\u001b[0;34m\u001b[0m\u001b[0;34m\u001b[0m\u001b[0m\n\u001b[0m\u001b[1;32m      2\u001b[0m \u001b[0;34m\u001b[0m\u001b[0m\n\u001b[1;32m      3\u001b[0m \u001b[0msb\u001b[0m\u001b[0;34m.\u001b[0m\u001b[0mset_style\u001b[0m\u001b[0;34m(\u001b[0m\u001b[0;34m\"whitegrid\"\u001b[0m\u001b[0;34m)\u001b[0m\u001b[0;34m\u001b[0m\u001b[0;34m\u001b[0m\u001b[0m\n\u001b[1;32m      4\u001b[0m \u001b[0msb\u001b[0m\u001b[0;34m.\u001b[0m\u001b[0mboxplot\u001b[0m\u001b[0;34m(\u001b[0m\u001b[0mx\u001b[0m\u001b[0;34m=\u001b[0m\u001b[0;34m\"set\"\u001b[0m\u001b[0;34m,\u001b[0m \u001b[0my\u001b[0m\u001b[0;34m=\u001b[0m\u001b[0;34m\"mef\"\u001b[0m\u001b[0;34m,\u001b[0m \u001b[0mhue\u001b[0m\u001b[0;34m=\u001b[0m\u001b[0;34m\"model\"\u001b[0m\u001b[0;34m,\u001b[0m \u001b[0mlinewidth\u001b[0m\u001b[0;34m=\u001b[0m\u001b[0;36m0.5\u001b[0m\u001b[0;34m,\u001b[0m \u001b[0mdata\u001b[0m\u001b[0;34m=\u001b[0m\u001b[0mdf\u001b[0m\u001b[0;34m.\u001b[0m\u001b[0mloc\u001b[0m\u001b[0;34m[\u001b[0m\u001b[0;34m(\u001b[0m\u001b[0mdf\u001b[0m\u001b[0;34m[\u001b[0m\u001b[0;34m'timeres'\u001b[0m\u001b[0;34m]\u001b[0m\u001b[0;34m==\u001b[0m\u001b[0;34m'daily'\u001b[0m\u001b[0;34m)\u001b[0m \u001b[0;34m&\u001b[0m \u001b[0;34m(\u001b[0m\u001b[0mdf\u001b[0m\u001b[0;34m[\u001b[0m\u001b[0;34m'cvset'\u001b[0m\u001b[0;34m]\u001b[0m\u001b[0;34m==\u001b[0m\u001b[0;34m'train'\u001b[0m\u001b[0;34m)\u001b[0m\u001b[0;34m,\u001b[0m \u001b[0;34m:\u001b[0m\u001b[0;34m]\u001b[0m\u001b[0;34m,\u001b[0m \u001b[0mshowfliers\u001b[0m\u001b[0;34m=\u001b[0m\u001b[0;32mFalse\u001b[0m\u001b[0;34m,\u001b[0m \u001b[0max\u001b[0m\u001b[0;34m=\u001b[0m\u001b[0max\u001b[0m\u001b[0;34m[\u001b[0m\u001b[0;36m0\u001b[0m\u001b[0;34m,\u001b[0m \u001b[0;36m0\u001b[0m\u001b[0;34m]\u001b[0m\u001b[0;34m,\u001b[0m \u001b[0morder\u001b[0m\u001b[0;34m=\u001b[0m\u001b[0morder\u001b[0m\u001b[0;34m,\u001b[0m \u001b[0mhue_order\u001b[0m\u001b[0;34m=\u001b[0m\u001b[0mhue_order\u001b[0m\u001b[0;34m,\u001b[0m \u001b[0mpalette\u001b[0m\u001b[0;34m=\u001b[0m\u001b[0;34m'Paired'\u001b[0m\u001b[0;34m)\u001b[0m\u001b[0;34m\u001b[0m\u001b[0;34m\u001b[0m\u001b[0m\n\u001b[1;32m      5\u001b[0m \u001b[0msb\u001b[0m\u001b[0;34m.\u001b[0m\u001b[0mboxplot\u001b[0m\u001b[0;34m(\u001b[0m\u001b[0mx\u001b[0m\u001b[0;34m=\u001b[0m\u001b[0;34m\"set\"\u001b[0m\u001b[0;34m,\u001b[0m \u001b[0my\u001b[0m\u001b[0;34m=\u001b[0m\u001b[0;34m\"mef\"\u001b[0m\u001b[0;34m,\u001b[0m \u001b[0mhue\u001b[0m\u001b[0;34m=\u001b[0m\u001b[0;34m\"model\"\u001b[0m\u001b[0;34m,\u001b[0m \u001b[0mlinewidth\u001b[0m\u001b[0;34m=\u001b[0m\u001b[0;36m0.5\u001b[0m\u001b[0;34m,\u001b[0m \u001b[0mdata\u001b[0m\u001b[0;34m=\u001b[0m\u001b[0mdf\u001b[0m\u001b[0;34m.\u001b[0m\u001b[0mloc\u001b[0m\u001b[0;34m[\u001b[0m\u001b[0;34m(\u001b[0m\u001b[0mdf\u001b[0m\u001b[0;34m[\u001b[0m\u001b[0;34m'timeres'\u001b[0m\u001b[0;34m]\u001b[0m\u001b[0;34m==\u001b[0m\u001b[0;34m'daily'\u001b[0m\u001b[0;34m)\u001b[0m \u001b[0;34m&\u001b[0m \u001b[0;34m(\u001b[0m\u001b[0mdf\u001b[0m\u001b[0;34m[\u001b[0m\u001b[0;34m'cvset'\u001b[0m\u001b[0;34m]\u001b[0m\u001b[0;34m==\u001b[0m\u001b[0;34m'eval'\u001b[0m\u001b[0;34m)\u001b[0m\u001b[0;34m,\u001b[0m \u001b[0;34m:\u001b[0m\u001b[0;34m]\u001b[0m\u001b[0;34m,\u001b[0m \u001b[0mshowfliers\u001b[0m\u001b[0;34m=\u001b[0m\u001b[0;32mFalse\u001b[0m\u001b[0;34m,\u001b[0m \u001b[0max\u001b[0m\u001b[0;34m=\u001b[0m\u001b[0max\u001b[0m\u001b[0;34m[\u001b[0m\u001b[0;36m0\u001b[0m\u001b[0;34m,\u001b[0m \u001b[0;36m1\u001b[0m\u001b[0;34m]\u001b[0m\u001b[0;34m,\u001b[0m \u001b[0morder\u001b[0m\u001b[0;34m=\u001b[0m\u001b[0morder\u001b[0m\u001b[0;34m,\u001b[0m \u001b[0mhue_order\u001b[0m\u001b[0;34m=\u001b[0m\u001b[0mhue_order\u001b[0m\u001b[0;34m,\u001b[0m \u001b[0mpalette\u001b[0m\u001b[0;34m=\u001b[0m\u001b[0;34m'Paired'\u001b[0m\u001b[0;34m)\u001b[0m\u001b[0;34m\u001b[0m\u001b[0;34m\u001b[0m\u001b[0m\n",
      "\u001b[0;32m<ipython-input-2-9ea41e5c91b4>\u001b[0m in \u001b[0;36mnew_subplots\u001b[0;34m(nrow, ncol, wh_ratio, width, **kwargs)\u001b[0m\n\u001b[1;32m      1\u001b[0m \u001b[0;32mdef\u001b[0m \u001b[0mnew_subplots\u001b[0m\u001b[0;34m(\u001b[0m\u001b[0mnrow\u001b[0m\u001b[0;34m,\u001b[0m \u001b[0mncol\u001b[0m\u001b[0;34m,\u001b[0m \u001b[0mwh_ratio\u001b[0m\u001b[0;34m,\u001b[0m \u001b[0mwidth\u001b[0m\u001b[0;34m=\u001b[0m\u001b[0;36m1\u001b[0m\u001b[0;34m,\u001b[0m \u001b[0;34m**\u001b[0m\u001b[0mkwargs\u001b[0m\u001b[0;34m)\u001b[0m\u001b[0;34m:\u001b[0m\u001b[0;34m\u001b[0m\u001b[0;34m\u001b[0m\u001b[0m\n\u001b[1;32m      2\u001b[0m     \u001b[0mplt\u001b[0m\u001b[0;34m.\u001b[0m\u001b[0mclf\u001b[0m\u001b[0;34m(\u001b[0m\u001b[0;34m)\u001b[0m\u001b[0;34m\u001b[0m\u001b[0;34m\u001b[0m\u001b[0m\n\u001b[0;32m----> 3\u001b[0;31m     \u001b[0mfig\u001b[0m\u001b[0;34m,\u001b[0m \u001b[0max\u001b[0m \u001b[0;34m=\u001b[0m \u001b[0mplt\u001b[0m\u001b[0;34m.\u001b[0m\u001b[0msubplots\u001b[0m\u001b[0;34m(\u001b[0m\u001b[0mnrow\u001b[0m\u001b[0;34m,\u001b[0m \u001b[0mncol\u001b[0m\u001b[0;34m,\u001b[0m \u001b[0mfigsize\u001b[0m\u001b[0;34m=\u001b[0m\u001b[0mfigsize\u001b[0m\u001b[0;34m(\u001b[0m\u001b[0mwh_ratio\u001b[0m\u001b[0;34m,\u001b[0m \u001b[0mwidth\u001b[0m\u001b[0;34m)\u001b[0m\u001b[0;34m,\u001b[0m \u001b[0;34m**\u001b[0m\u001b[0mkwargs\u001b[0m\u001b[0;34m)\u001b[0m\u001b[0;34m\u001b[0m\u001b[0;34m\u001b[0m\u001b[0m\n\u001b[0m\u001b[1;32m      4\u001b[0m     \u001b[0;32mreturn\u001b[0m \u001b[0mfig\u001b[0m\u001b[0;34m,\u001b[0m \u001b[0max\u001b[0m\u001b[0;34m\u001b[0m\u001b[0;34m\u001b[0m\u001b[0m\n\u001b[1;32m      5\u001b[0m \u001b[0;34m\u001b[0m\u001b[0m\n",
      "\u001b[0;31mNameError\u001b[0m: name 'figsize' is not defined"
     ]
    },
    {
     "data": {
      "text/plain": [
       "<Figure size 432x288 with 0 Axes>"
      ]
     },
     "metadata": {},
     "output_type": "display_data"
    }
   ],
   "source": [
    "fig, ax = new_subplots(2, 2, 0.7, sharey='row', sharex=True, gridspec_kw={'wspace': 0.01, 'hspace': 0.1})\n",
    "\n",
    "sb.set_style(\"whitegrid\")\n",
    "sb.boxplot(x=\"set\", y=\"mef\", hue=\"model\", linewidth=0.5, data=df.loc[(df['timeres']=='daily') & (df['cvset']=='train'), :], showfliers=False, ax=ax[0, 0], order=order, hue_order=hue_order, palette='Paired')\n",
    "sb.boxplot(x=\"set\", y=\"mef\", hue=\"model\", linewidth=0.5, data=df.loc[(df['timeres']=='daily') & (df['cvset']=='eval'), :], showfliers=False, ax=ax[0, 1], order=order, hue_order=hue_order, palette='Paired')\n",
    "sb.boxplot(x=\"set\", y=\"rmse\", hue=\"model\", linewidth=0.5, data=df.loc[(df['timeres']=='daily') & (df['cvset']=='train'), :], showfliers=False, ax=ax[1, 0], order=order, hue_order=hue_order, palette='Paired')\n",
    "sb.boxplot(x=\"set\", y=\"rmse\", hue=\"model\", linewidth=0.5, data=df.loc[(df['timeres']=='daily') & (df['cvset']=='eval'), :], showfliers=False, ax=ax[1, 1], order=order, hue_order=hue_order, palette='Paired')\n",
    "\n",
    "ax[0, 0].legend().set_visible(False)\n",
    "ax[0, 1].legend().set_visible(False)\n",
    "ax[1, 0].legend().set_visible(False)\n",
    "ax[1, 1].legend().set_visible(False)\n",
    "\n",
    "legend = ax[1, 0].legend(loc='upper center', bbox_to_anchor=(1.0, -0.15), ncol=4, title='', frameon=False)\n",
    "for t, l in zip(legend.texts, [r'$\\mathrm{LSTM_{SM}}$', r'$\\mathrm{LSTM_{\\neg SM}}$', r'$\\mathrm{FC_{SM}}$', r'$\\mathrm{FC_{\\neg SM}}$']):\n",
    "    t.set_text(l)\n",
    "    \n",
    "ax[1, 0].set_xticklabels(['daily', 'daily\\nseas. cycle', 'daily\\nanomalies', 'interannual\\nanomalies']);\n",
    "ax[1, 1].set_xticklabels(['daily', 'daily\\nseas. cycle', 'daily\\nanomalies', 'interannual\\nanomalies']);\n",
    "ax[1, 0].set_xlabel('', fontsize=12)\n",
    "ax[1, 1].set_xlabel('', fontsize=12)\n",
    "ax[0, 0].set_ylabel('NSE (-)')\n",
    "ax[1, 0].set_ylabel('RMSE (mm d-1)')\n",
    "ax[0, 1].set_ylim(-0.6, 1.001);\n",
    "ax[1, 1].set_ylim(0, 1.0);\n",
    "\n",
    "for ax_ in ax.flat:\n",
    "    ax_.label_outer()\n",
    "    # ax_.grid(axis='y', linestyle='--', color='0.2')\n",
    "\n",
    "ax[0, 0].set_title('training', size=9)\n",
    "ax[0, 1].set_title('test', size=9)\n",
    "\n",
    "fig.align_ylabels(ax[:, 0])\n",
    "\n",
    "\n",
    "# fig.savefig('/workspace/bkraft/dl_chapter14/src/notebooks/exp1_figures/boxplot.pgf')\n",
    "# savefig('/workspace/bkraft/dl_chapter14/src/notebooks/exp1_figures/boxplot')"
   ]
  },
  {
   "cell_type": "code",
   "execution_count": null,
   "metadata": {},
   "outputs": [],
   "source": []
  }
 ],
 "metadata": {
  "kernelspec": {
   "display_name": "Python 3",
   "language": "python",
   "name": "python3"
  },
  "language_info": {
   "codemirror_mode": {
    "name": "ipython",
    "version": 3
   },
   "file_extension": ".py",
   "mimetype": "text/x-python",
   "name": "python",
   "nbconvert_exporter": "python",
   "pygments_lexer": "ipython3",
   "version": "3.6.9"
  }
 },
 "nbformat": 4,
 "nbformat_minor": 4
}
