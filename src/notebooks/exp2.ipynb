{
 "cells": [
  {
   "cell_type": "code",
   "execution_count": 1,
   "metadata": {},
   "outputs": [],
   "source": [
    "import xarray as xr\n",
    "import matplotlib.pyplot as plt\n",
    "%matplotlib inline"
   ]
  },
  {
   "cell_type": "code",
   "execution_count": 3,
   "metadata": {},
   "outputs": [
    {
     "data": {
      "text/plain": [
       "<xarray.Dataset>\n",
       "Dimensions:   (lat: 360, lon: 720, time: 5478)\n",
       "Coordinates:\n",
       "  * lat       (lat) float32 89.75 89.25 88.75 88.25 ... -88.75 -89.25 -89.75\n",
       "  * lon       (lon) float32 -179.75 -179.25 -178.75 ... 178.75 179.25 179.75\n",
       "  * time      (time) datetime64[ns] 2000-01-01 2000-01-02 ... 2014-12-30\n",
       "Data variables:\n",
       "    mrro      (time, lat, lon) float32 dask.array<chunksize=(5478, 10, 10), meta=np.ndarray>\n",
       "    mrro_obs  (time, lat, lon) float32 dask.array<chunksize=(5478, 10, 10), meta=np.ndarray>\n",
       "Attributes:\n",
       "    citation:     Koirala, Sujan, et al. Global-scale land surface hydrologic...\n",
       "    contact:      Sujan Koirala <skoirala@bgc-jena.mpg.de> and Hyungjun Kim <...\n",
       "    experiment:   SP-MIP: Experiment No. 3\n",
       "    forcing:      GSWP-3 sub-daily\n",
       "    institution:  Max-Planck-Institute for Biogeochemistry, Jena, Germany; Th...\n",
       "    model:        MATSIRO LSM with GW Representation\n",
       "    project:      Soil Parameter Model Intercomparison Project (SP-MIP): Asse..."
      ]
     },
     "execution_count": 3,
     "metadata": {},
     "output_type": "execute_result"
    }
   ],
   "source": [
    "# Local directory: '/scratch/dl_chapter14/'\n",
    "# Code directory: '/workspace/bkraft/dl_chapter14/'\n",
    "\n",
    "# Predictions\n",
    "pred_path = '/scratch/dl_chapter14/experiments/hydro/default/pred/predictions.zarr/'\n",
    "pred = xr.open_zarr(pred_path)\n",
    "\n",
    "# Predictions: pred.mrro\n",
    "# Observations: pred.mrro_obs\n",
    "\n",
    "pred"
   ]
  },
  {
   "cell_type": "code",
   "execution_count": null,
   "metadata": {},
   "outputs": [],
   "source": []
  }
 ],
 "metadata": {
  "kernelspec": {
   "display_name": "Python 3",
   "language": "python",
   "name": "python3"
  },
  "language_info": {
   "codemirror_mode": {
    "name": "ipython",
    "version": 3
   },
   "file_extension": ".py",
   "mimetype": "text/x-python",
   "name": "python",
   "nbconvert_exporter": "python",
   "pygments_lexer": "ipython3",
   "version": "3.6.9"
  }
 },
 "nbformat": 4,
 "nbformat_minor": 4
}
